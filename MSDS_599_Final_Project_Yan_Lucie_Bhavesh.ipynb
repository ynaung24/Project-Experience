{
 "cells": [
  {
   "cell_type": "markdown",
   "id": "befe82a0-6dc8-4acd-8b11-f6fd024feee3",
   "metadata": {},
   "source": [
    "# MSDS599 Final Project: Yan Naing Aung, Lucie Schulz, Bhavesh Ram\n",
    "**Evaluating Classifier Performance in Income Prediction: An Examination Using U.S. Census Data**\n",
    "\n",
    "_\"We confirm that each member contributed significantly and equally to the completion of the final project of MSDS-599. Through open and consistent communication, active participation, and a shared commitment to the project's success, all team members played an integral role in its development. Our collaborative efforts and equal contribution have been instrumental in achieving the project's objectives.\"_\n",
    "\n",
    "\n",
    "In the endeavor of our Final Project, our team sought to assess the efficacy of various classifiers in predicting whether individuals, as reflected in US Census data, earn an annual income exceeding $50,000. Our study utilized a publicly available dataset found at https://archive.ics.uci.edu/ml/datasets/census+income, which encompasses over 32,000 observations.\n",
    "\n",
    "The initial phase of our project was dedicated to data cleaning. This comprised the removal of missing values, the transformation of categorical variables into dummy variables, and the amalgamation of features exhibiting negligible variation. Further, we excluded features that did not yield interpretable insights. During this preliminary investigation, we identified a significant imbalance in our dataset, with 70% of observations representing individuals earning less than $50,000 annually. To address this skewness, we employed the Synthetic Minority Over-sampling Technique (SMOTE) to create a more balanced dataset. Our final dataframe contained 31,978 observations and 12 features split into 44 columns using dummy variables.\n",
    "\n",
    "Subsequent to the data cleaning and balancing, we initiated exploratory data analysis, generating a variety of visualizations to enhance our understanding of the underlying data structure and relationships. The subsequent phase of our study involved the construction and evaluation of predictive models. We experimented with a selection of classifiers, namely Logistic Regression, K-Nearest Neighbors (KNN), Bagging, Decision Trees, Multi-Layer Perceptron, Random Forest, and Boosting.\n",
    "\n",
    "Despite the diversity of models at our disposal, we faced a recurrent challenge – the models exhibited suboptimal recall in predicting individuals earning more than $50,000, even after extensive hyperparameter tuning. This suggested the potential presence of confounding features within the dataset or a possible absence of key predictive features, such as geographical location or family income.\n",
    "\n",
    "Following these modifications, we retrained our three most promising models based on the weighted f1_score from the test set, employing the optimal hyperparameters identified in our previous iterations. The concluding phase of our study involved an in-depth analysis of these refined models.\n",
    "\n",
    "In summation, our project underscores the iterative and evolving nature of data science, illustrating the ongoing cycle of model development, evaluation, refinement, and reiteration. The lessons learned from this course and project contributed to our understanding of income prediction using census data and emphasized the general necessity for high quality data, continuous improvement and adjustment in the face of complex, real-world Data Science Analysis.\n",
    "\n",
    "_Notes about our Notebook:_\n",
    "\n",
    "_In putting together this notebook, we have commented out certain sections of code, particularly those sections pertaining to hyperparameter tuning using Cross Validation and GridSearchCV. To reflect these results without running these computationally intensive sections of code (for your ease of use), we've included screenshots of the output from these sections and used the same best parameters in further analysis._"
   ]
  },
  {
   "cell_type": "markdown",
   "id": "3b9b155b",
   "metadata": {},
   "source": [
    "## Explanation of variables ##\n",
    "\n",
    "Listing of attributes:\n",
    "\n",
    "- Target variable: >50K, <=50K.\n",
    "- age: continuous.\n",
    "- workclass: Private, Self-emp-not-inc, Self-emp-inc, Federal-gov, Local-gov, State-gov, Without-pay, Never-worked.\n",
    "- fnlwgt: continuous.\n",
    "- education: Bachelors, Some-college, 11th, HS-grad, Prof-school, Assoc-acdm, Assoc-voc, 9th, 7th-8th, 12th, Masters, 1st-4th, 10th, Doctorate, 5th-6th, Preschool.\n",
    "- education-num: continuous.\n",
    "- marital-status: Married-civ-spouse, Divorced, Never-married, Separated, Widowed, Married-spouse-absent, Married-AF-spouse.\n",
    "- occupation: Tech-support, Craft-repair, Other-service, Sales, Exec-managerial, Prof-specialty, Handlers-cleaners, Machine-op-inspct, Adm-clerical, Farming-fishing, Transport-moving, Priv-house-serv, Protective-serv, Armed-Forces.\n",
    "- relationship: Wife, Own-child, Husband, Not-in-family, Other-relative, Unmarried.\n",
    "- race: White, Asian-Pac-Islander, Amer-Indian-Eskimo, Other, Black.\n",
    "- sex: Female, Male.\n",
    "- capital-gain: continuous.\n",
    "- capital-loss: continuous.\n",
    "- hours-per-week: continuous.\n",
    "- native-country: United-States, Cambodia, England, Puerto-Rico, Canada, Germany, Outlying-US(Guam-USVI-etc), India, Japan, Greece, South, China, Cuba, Iran, Honduras, Philippines, Italy, Poland, Jamaica, Vietnam, Mexico, Portugal, Ireland, France, Dominican-Republic, Laos, Ecuador, Taiwan, Haiti, Columbia, Hungary, Guatemala, Nicaragua, Scotland, Thailand, Yugoslavia, El-Salvador, Trinadad&Tobago, Peru, Hong, Holand-Netherlands."
   ]
  },
  {
   "cell_type": "code",
   "execution_count": 1,
   "id": "7cfd208a-b751-48dc-a942-eeb6223acb94",
   "metadata": {},
   "outputs": [],
   "source": [
    "# importing libraries\n",
    "import pandas as pd\n",
    "import numpy as np\n",
    "import matplotlib.pyplot as plt\n",
    "import plotly.express as px\n",
    "import seaborn as sns"
   ]
  },
  {
   "cell_type": "code",
   "execution_count": 2,
   "id": "7f083fab-02c2-488d-a991-4ce85de5a214",
   "metadata": {},
   "outputs": [],
   "source": [
    "from sklearn.model_selection import cross_validate\n",
    "from sklearn.model_selection import train_test_split\n",
    "from sklearn.tree import DecisionTreeClassifier\n",
    "from sklearn.ensemble import RandomForestClassifier\n",
    "from sklearn.ensemble import GradientBoostingClassifier\n",
    "from sklearn.ensemble import BaggingClassifier\n",
    "from sklearn.linear_model import LogisticRegression"
   ]
  },
  {
   "cell_type": "code",
   "execution_count": 3,
   "id": "0a8781d4-ef1f-44d5-8bd6-ce9e300f35eb",
   "metadata": {
    "scrolled": true
   },
   "outputs": [
    {
     "data": {
      "text/html": [
       "<div>\n",
       "<style scoped>\n",
       "    .dataframe tbody tr th:only-of-type {\n",
       "        vertical-align: middle;\n",
       "    }\n",
       "\n",
       "    .dataframe tbody tr th {\n",
       "        vertical-align: top;\n",
       "    }\n",
       "\n",
       "    .dataframe thead th {\n",
       "        text-align: right;\n",
       "    }\n",
       "</style>\n",
       "<table border=\"1\" class=\"dataframe\">\n",
       "  <thead>\n",
       "    <tr style=\"text-align: right;\">\n",
       "      <th></th>\n",
       "      <th>age</th>\n",
       "      <th>workclass</th>\n",
       "      <th>fnlwgt</th>\n",
       "      <th>education</th>\n",
       "      <th>education.num</th>\n",
       "      <th>marital.status</th>\n",
       "      <th>occupation</th>\n",
       "      <th>relationship</th>\n",
       "      <th>race</th>\n",
       "      <th>sex</th>\n",
       "      <th>capital.gain</th>\n",
       "      <th>capital.loss</th>\n",
       "      <th>hours.per.week</th>\n",
       "      <th>native.country</th>\n",
       "      <th>income</th>\n",
       "    </tr>\n",
       "  </thead>\n",
       "  <tbody>\n",
       "    <tr>\n",
       "      <th>0</th>\n",
       "      <td>90</td>\n",
       "      <td>NaN</td>\n",
       "      <td>77053</td>\n",
       "      <td>HS-grad</td>\n",
       "      <td>9</td>\n",
       "      <td>Widowed</td>\n",
       "      <td>NaN</td>\n",
       "      <td>Not-in-family</td>\n",
       "      <td>White</td>\n",
       "      <td>Female</td>\n",
       "      <td>0</td>\n",
       "      <td>4356</td>\n",
       "      <td>40</td>\n",
       "      <td>United-States</td>\n",
       "      <td>&lt;=50K</td>\n",
       "    </tr>\n",
       "    <tr>\n",
       "      <th>1</th>\n",
       "      <td>82</td>\n",
       "      <td>Private</td>\n",
       "      <td>132870</td>\n",
       "      <td>HS-grad</td>\n",
       "      <td>9</td>\n",
       "      <td>Widowed</td>\n",
       "      <td>Exec-managerial</td>\n",
       "      <td>Not-in-family</td>\n",
       "      <td>White</td>\n",
       "      <td>Female</td>\n",
       "      <td>0</td>\n",
       "      <td>4356</td>\n",
       "      <td>18</td>\n",
       "      <td>United-States</td>\n",
       "      <td>&lt;=50K</td>\n",
       "    </tr>\n",
       "    <tr>\n",
       "      <th>2</th>\n",
       "      <td>66</td>\n",
       "      <td>NaN</td>\n",
       "      <td>186061</td>\n",
       "      <td>Some-college</td>\n",
       "      <td>10</td>\n",
       "      <td>Widowed</td>\n",
       "      <td>NaN</td>\n",
       "      <td>Unmarried</td>\n",
       "      <td>Black</td>\n",
       "      <td>Female</td>\n",
       "      <td>0</td>\n",
       "      <td>4356</td>\n",
       "      <td>40</td>\n",
       "      <td>United-States</td>\n",
       "      <td>&lt;=50K</td>\n",
       "    </tr>\n",
       "    <tr>\n",
       "      <th>3</th>\n",
       "      <td>54</td>\n",
       "      <td>Private</td>\n",
       "      <td>140359</td>\n",
       "      <td>7th-8th</td>\n",
       "      <td>4</td>\n",
       "      <td>Divorced</td>\n",
       "      <td>Machine-op-inspct</td>\n",
       "      <td>Unmarried</td>\n",
       "      <td>White</td>\n",
       "      <td>Female</td>\n",
       "      <td>0</td>\n",
       "      <td>3900</td>\n",
       "      <td>40</td>\n",
       "      <td>United-States</td>\n",
       "      <td>&lt;=50K</td>\n",
       "    </tr>\n",
       "    <tr>\n",
       "      <th>4</th>\n",
       "      <td>41</td>\n",
       "      <td>Private</td>\n",
       "      <td>264663</td>\n",
       "      <td>Some-college</td>\n",
       "      <td>10</td>\n",
       "      <td>Separated</td>\n",
       "      <td>Prof-specialty</td>\n",
       "      <td>Own-child</td>\n",
       "      <td>White</td>\n",
       "      <td>Female</td>\n",
       "      <td>0</td>\n",
       "      <td>3900</td>\n",
       "      <td>40</td>\n",
       "      <td>United-States</td>\n",
       "      <td>&lt;=50K</td>\n",
       "    </tr>\n",
       "  </tbody>\n",
       "</table>\n",
       "</div>"
      ],
      "text/plain": [
       "   age workclass  fnlwgt     education  education.num marital.status  \\\n",
       "0   90       NaN   77053       HS-grad              9        Widowed   \n",
       "1   82   Private  132870       HS-grad              9        Widowed   \n",
       "2   66       NaN  186061  Some-college             10        Widowed   \n",
       "3   54   Private  140359       7th-8th              4       Divorced   \n",
       "4   41   Private  264663  Some-college             10      Separated   \n",
       "\n",
       "          occupation   relationship   race     sex  capital.gain  \\\n",
       "0                NaN  Not-in-family  White  Female             0   \n",
       "1    Exec-managerial  Not-in-family  White  Female             0   \n",
       "2                NaN      Unmarried  Black  Female             0   \n",
       "3  Machine-op-inspct      Unmarried  White  Female             0   \n",
       "4     Prof-specialty      Own-child  White  Female             0   \n",
       "\n",
       "   capital.loss  hours.per.week native.country income  \n",
       "0          4356              40  United-States  <=50K  \n",
       "1          4356              18  United-States  <=50K  \n",
       "2          4356              40  United-States  <=50K  \n",
       "3          3900              40  United-States  <=50K  \n",
       "4          3900              40  United-States  <=50K  "
      ]
     },
     "execution_count": 3,
     "metadata": {},
     "output_type": "execute_result"
    }
   ],
   "source": [
    "df = pd.read_csv('adult.csv', na_values=[\"?\"])\n",
    "df.head()"
   ]
  },
  {
   "cell_type": "code",
   "execution_count": 4,
   "id": "1226c278",
   "metadata": {},
   "outputs": [
    {
     "data": {
      "text/plain": [
       "(32561, 15)"
      ]
     },
     "execution_count": 4,
     "metadata": {},
     "output_type": "execute_result"
    }
   ],
   "source": [
    "# original data set has 32561 observations\n",
    "df.shape"
   ]
  },
  {
   "cell_type": "code",
   "execution_count": 5,
   "id": "cdacb06e",
   "metadata": {},
   "outputs": [
    {
     "data": {
      "text/html": [
       "<style type=\"text/css\">\n",
       "#T_da379_row0_col0, #T_da379_row0_col1, #T_da379_row0_col2, #T_da379_row0_col5, #T_da379_row1_col0, #T_da379_row2_col0, #T_da379_row2_col1, #T_da379_row2_col2, #T_da379_row2_col5, #T_da379_row3_col0, #T_da379_row3_col5, #T_da379_row4_col0, #T_da379_row4_col1, #T_da379_row4_col2, #T_da379_row4_col5, #T_da379_row5_col0, #T_da379_row5_col1, #T_da379_row5_col2, #T_da379_row5_col5 {\n",
       "  background-color: #fff7fb;\n",
       "  color: #000000;\n",
       "}\n",
       "#T_da379_row1_col1, #T_da379_row1_col2, #T_da379_row1_col5 {\n",
       "  background-color: #023858;\n",
       "  color: #f1f1f1;\n",
       "}\n",
       "#T_da379_row3_col1 {\n",
       "  background-color: #fef6fb;\n",
       "  color: #000000;\n",
       "}\n",
       "#T_da379_row3_col2 {\n",
       "  background-color: #f5eef6;\n",
       "  color: #000000;\n",
       "}\n",
       "</style>\n",
       "<table id=\"T_da379\">\n",
       "  <thead>\n",
       "    <tr>\n",
       "      <th class=\"blank level0\" >&nbsp;</th>\n",
       "      <th id=\"T_da379_level0_col0\" class=\"col_heading level0 col0\" >count</th>\n",
       "      <th id=\"T_da379_level0_col1\" class=\"col_heading level0 col1\" >mean</th>\n",
       "      <th id=\"T_da379_level0_col2\" class=\"col_heading level0 col2\" >std</th>\n",
       "      <th id=\"T_da379_level0_col3\" class=\"col_heading level0 col3\" >min</th>\n",
       "      <th id=\"T_da379_level0_col4\" class=\"col_heading level0 col4\" >25%</th>\n",
       "      <th id=\"T_da379_level0_col5\" class=\"col_heading level0 col5\" >50%</th>\n",
       "      <th id=\"T_da379_level0_col6\" class=\"col_heading level0 col6\" >75%</th>\n",
       "      <th id=\"T_da379_level0_col7\" class=\"col_heading level0 col7\" >max</th>\n",
       "    </tr>\n",
       "  </thead>\n",
       "  <tbody>\n",
       "    <tr>\n",
       "      <th id=\"T_da379_level0_row0\" class=\"row_heading level0 row0\" >age</th>\n",
       "      <td id=\"T_da379_row0_col0\" class=\"data row0 col0\" >32561.000000</td>\n",
       "      <td id=\"T_da379_row0_col1\" class=\"data row0 col1\" >38.581647</td>\n",
       "      <td id=\"T_da379_row0_col2\" class=\"data row0 col2\" >13.640433</td>\n",
       "      <td id=\"T_da379_row0_col3\" class=\"data row0 col3\" >17.000000</td>\n",
       "      <td id=\"T_da379_row0_col4\" class=\"data row0 col4\" >28.000000</td>\n",
       "      <td id=\"T_da379_row0_col5\" class=\"data row0 col5\" >37.000000</td>\n",
       "      <td id=\"T_da379_row0_col6\" class=\"data row0 col6\" >48.000000</td>\n",
       "      <td id=\"T_da379_row0_col7\" class=\"data row0 col7\" >90.000000</td>\n",
       "    </tr>\n",
       "    <tr>\n",
       "      <th id=\"T_da379_level0_row1\" class=\"row_heading level0 row1\" >fnlwgt</th>\n",
       "      <td id=\"T_da379_row1_col0\" class=\"data row1 col0\" >32561.000000</td>\n",
       "      <td id=\"T_da379_row1_col1\" class=\"data row1 col1\" >189778.366512</td>\n",
       "      <td id=\"T_da379_row1_col2\" class=\"data row1 col2\" >105549.977697</td>\n",
       "      <td id=\"T_da379_row1_col3\" class=\"data row1 col3\" >12285.000000</td>\n",
       "      <td id=\"T_da379_row1_col4\" class=\"data row1 col4\" >117827.000000</td>\n",
       "      <td id=\"T_da379_row1_col5\" class=\"data row1 col5\" >178356.000000</td>\n",
       "      <td id=\"T_da379_row1_col6\" class=\"data row1 col6\" >237051.000000</td>\n",
       "      <td id=\"T_da379_row1_col7\" class=\"data row1 col7\" >1484705.000000</td>\n",
       "    </tr>\n",
       "    <tr>\n",
       "      <th id=\"T_da379_level0_row2\" class=\"row_heading level0 row2\" >education.num</th>\n",
       "      <td id=\"T_da379_row2_col0\" class=\"data row2 col0\" >32561.000000</td>\n",
       "      <td id=\"T_da379_row2_col1\" class=\"data row2 col1\" >10.080679</td>\n",
       "      <td id=\"T_da379_row2_col2\" class=\"data row2 col2\" >2.572720</td>\n",
       "      <td id=\"T_da379_row2_col3\" class=\"data row2 col3\" >1.000000</td>\n",
       "      <td id=\"T_da379_row2_col4\" class=\"data row2 col4\" >9.000000</td>\n",
       "      <td id=\"T_da379_row2_col5\" class=\"data row2 col5\" >10.000000</td>\n",
       "      <td id=\"T_da379_row2_col6\" class=\"data row2 col6\" >12.000000</td>\n",
       "      <td id=\"T_da379_row2_col7\" class=\"data row2 col7\" >16.000000</td>\n",
       "    </tr>\n",
       "    <tr>\n",
       "      <th id=\"T_da379_level0_row3\" class=\"row_heading level0 row3\" >capital.gain</th>\n",
       "      <td id=\"T_da379_row3_col0\" class=\"data row3 col0\" >32561.000000</td>\n",
       "      <td id=\"T_da379_row3_col1\" class=\"data row3 col1\" >1077.648844</td>\n",
       "      <td id=\"T_da379_row3_col2\" class=\"data row3 col2\" >7385.292085</td>\n",
       "      <td id=\"T_da379_row3_col3\" class=\"data row3 col3\" >0.000000</td>\n",
       "      <td id=\"T_da379_row3_col4\" class=\"data row3 col4\" >0.000000</td>\n",
       "      <td id=\"T_da379_row3_col5\" class=\"data row3 col5\" >0.000000</td>\n",
       "      <td id=\"T_da379_row3_col6\" class=\"data row3 col6\" >0.000000</td>\n",
       "      <td id=\"T_da379_row3_col7\" class=\"data row3 col7\" >99999.000000</td>\n",
       "    </tr>\n",
       "    <tr>\n",
       "      <th id=\"T_da379_level0_row4\" class=\"row_heading level0 row4\" >capital.loss</th>\n",
       "      <td id=\"T_da379_row4_col0\" class=\"data row4 col0\" >32561.000000</td>\n",
       "      <td id=\"T_da379_row4_col1\" class=\"data row4 col1\" >87.303830</td>\n",
       "      <td id=\"T_da379_row4_col2\" class=\"data row4 col2\" >402.960219</td>\n",
       "      <td id=\"T_da379_row4_col3\" class=\"data row4 col3\" >0.000000</td>\n",
       "      <td id=\"T_da379_row4_col4\" class=\"data row4 col4\" >0.000000</td>\n",
       "      <td id=\"T_da379_row4_col5\" class=\"data row4 col5\" >0.000000</td>\n",
       "      <td id=\"T_da379_row4_col6\" class=\"data row4 col6\" >0.000000</td>\n",
       "      <td id=\"T_da379_row4_col7\" class=\"data row4 col7\" >4356.000000</td>\n",
       "    </tr>\n",
       "    <tr>\n",
       "      <th id=\"T_da379_level0_row5\" class=\"row_heading level0 row5\" >hours.per.week</th>\n",
       "      <td id=\"T_da379_row5_col0\" class=\"data row5 col0\" >32561.000000</td>\n",
       "      <td id=\"T_da379_row5_col1\" class=\"data row5 col1\" >40.437456</td>\n",
       "      <td id=\"T_da379_row5_col2\" class=\"data row5 col2\" >12.347429</td>\n",
       "      <td id=\"T_da379_row5_col3\" class=\"data row5 col3\" >1.000000</td>\n",
       "      <td id=\"T_da379_row5_col4\" class=\"data row5 col4\" >40.000000</td>\n",
       "      <td id=\"T_da379_row5_col5\" class=\"data row5 col5\" >40.000000</td>\n",
       "      <td id=\"T_da379_row5_col6\" class=\"data row5 col6\" >45.000000</td>\n",
       "      <td id=\"T_da379_row5_col7\" class=\"data row5 col7\" >99.000000</td>\n",
       "    </tr>\n",
       "  </tbody>\n",
       "</table>\n"
      ],
      "text/plain": [
       "<pandas.io.formats.style.Styler at 0x27564ddbb50>"
      ]
     },
     "execution_count": 5,
     "metadata": {},
     "output_type": "execute_result"
    }
   ],
   "source": [
    "df.describe().T.style.background_gradient(subset=['mean','std','50%','count'], cmap='PuBu')"
   ]
  },
  {
   "cell_type": "code",
   "execution_count": 6,
   "id": "df38e462",
   "metadata": {},
   "outputs": [
    {
     "data": {
      "text/html": [
       "<div>\n",
       "<style scoped>\n",
       "    .dataframe tbody tr th:only-of-type {\n",
       "        vertical-align: middle;\n",
       "    }\n",
       "\n",
       "    .dataframe tbody tr th {\n",
       "        vertical-align: top;\n",
       "    }\n",
       "\n",
       "    .dataframe thead th {\n",
       "        text-align: right;\n",
       "    }\n",
       "</style>\n",
       "<table border=\"1\" class=\"dataframe\">\n",
       "  <thead>\n",
       "    <tr style=\"text-align: right;\">\n",
       "      <th></th>\n",
       "      <th>count</th>\n",
       "      <th>unique</th>\n",
       "      <th>top</th>\n",
       "      <th>freq</th>\n",
       "    </tr>\n",
       "  </thead>\n",
       "  <tbody>\n",
       "    <tr>\n",
       "      <th>workclass</th>\n",
       "      <td>30725</td>\n",
       "      <td>8</td>\n",
       "      <td>Private</td>\n",
       "      <td>22696</td>\n",
       "    </tr>\n",
       "    <tr>\n",
       "      <th>education</th>\n",
       "      <td>32561</td>\n",
       "      <td>16</td>\n",
       "      <td>HS-grad</td>\n",
       "      <td>10501</td>\n",
       "    </tr>\n",
       "    <tr>\n",
       "      <th>marital.status</th>\n",
       "      <td>32561</td>\n",
       "      <td>7</td>\n",
       "      <td>Married-civ-spouse</td>\n",
       "      <td>14976</td>\n",
       "    </tr>\n",
       "    <tr>\n",
       "      <th>occupation</th>\n",
       "      <td>30718</td>\n",
       "      <td>14</td>\n",
       "      <td>Prof-specialty</td>\n",
       "      <td>4140</td>\n",
       "    </tr>\n",
       "    <tr>\n",
       "      <th>relationship</th>\n",
       "      <td>32561</td>\n",
       "      <td>6</td>\n",
       "      <td>Husband</td>\n",
       "      <td>13193</td>\n",
       "    </tr>\n",
       "    <tr>\n",
       "      <th>race</th>\n",
       "      <td>32561</td>\n",
       "      <td>5</td>\n",
       "      <td>White</td>\n",
       "      <td>27816</td>\n",
       "    </tr>\n",
       "    <tr>\n",
       "      <th>sex</th>\n",
       "      <td>32561</td>\n",
       "      <td>2</td>\n",
       "      <td>Male</td>\n",
       "      <td>21790</td>\n",
       "    </tr>\n",
       "    <tr>\n",
       "      <th>native.country</th>\n",
       "      <td>31978</td>\n",
       "      <td>41</td>\n",
       "      <td>United-States</td>\n",
       "      <td>29170</td>\n",
       "    </tr>\n",
       "    <tr>\n",
       "      <th>income</th>\n",
       "      <td>32561</td>\n",
       "      <td>2</td>\n",
       "      <td>&lt;=50K</td>\n",
       "      <td>24720</td>\n",
       "    </tr>\n",
       "  </tbody>\n",
       "</table>\n",
       "</div>"
      ],
      "text/plain": [
       "                count unique                 top   freq\n",
       "workclass       30725      8             Private  22696\n",
       "education       32561     16             HS-grad  10501\n",
       "marital.status  32561      7  Married-civ-spouse  14976\n",
       "occupation      30718     14      Prof-specialty   4140\n",
       "relationship    32561      6             Husband  13193\n",
       "race            32561      5               White  27816\n",
       "sex             32561      2                Male  21790\n",
       "native.country  31978     41       United-States  29170\n",
       "income          32561      2               <=50K  24720"
      ]
     },
     "execution_count": 6,
     "metadata": {},
     "output_type": "execute_result"
    }
   ],
   "source": [
    "object_describe=df.describe(include=[\"object\"]).T \n",
    "object_describe"
   ]
  },
  {
   "cell_type": "code",
   "execution_count": 7,
   "id": "e7c6fdc6",
   "metadata": {},
   "outputs": [
    {
     "name": "stdout",
     "output_type": "stream",
     "text": [
      "<class 'pandas.core.frame.DataFrame'>\n",
      "RangeIndex: 32561 entries, 0 to 32560\n",
      "Data columns (total 15 columns):\n",
      " #   Column          Non-Null Count  Dtype \n",
      "---  ------          --------------  ----- \n",
      " 0   age             32561 non-null  int64 \n",
      " 1   workclass       30725 non-null  object\n",
      " 2   fnlwgt          32561 non-null  int64 \n",
      " 3   education       32561 non-null  object\n",
      " 4   education.num   32561 non-null  int64 \n",
      " 5   marital.status  32561 non-null  object\n",
      " 6   occupation      30718 non-null  object\n",
      " 7   relationship    32561 non-null  object\n",
      " 8   race            32561 non-null  object\n",
      " 9   sex             32561 non-null  object\n",
      " 10  capital.gain    32561 non-null  int64 \n",
      " 11  capital.loss    32561 non-null  int64 \n",
      " 12  hours.per.week  32561 non-null  int64 \n",
      " 13  native.country  31978 non-null  object\n",
      " 14  income          32561 non-null  object\n",
      "dtypes: int64(6), object(9)\n",
      "memory usage: 3.7+ MB\n"
     ]
    }
   ],
   "source": [
    "df.info()"
   ]
  },
  {
   "cell_type": "code",
   "execution_count": 8,
   "id": "b13c8dcb",
   "metadata": {
    "scrolled": true
   },
   "outputs": [
    {
     "data": {
      "text/plain": [
       "age                  0\n",
       "workclass         1836\n",
       "fnlwgt               0\n",
       "education            0\n",
       "education.num        0\n",
       "marital.status       0\n",
       "occupation        1843\n",
       "relationship         0\n",
       "race                 0\n",
       "sex                  0\n",
       "capital.gain         0\n",
       "capital.loss         0\n",
       "hours.per.week       0\n",
       "native.country     583\n",
       "income               0\n",
       "dtype: int64"
      ]
     },
     "execution_count": 8,
     "metadata": {},
     "output_type": "execute_result"
    }
   ],
   "source": [
    "# missing data in the data set\n",
    "df.isna().sum()"
   ]
  },
  {
   "cell_type": "markdown",
   "id": "6e8d8b57-9454-40f0-8bfa-11d99927d6ce",
   "metadata": {},
   "source": [
    "Fill NA values for workclass and occupation with missing, might be interesting to see if refusing to answer those questions has predictive power to classify their income class."
   ]
  },
  {
   "cell_type": "code",
   "execution_count": 9,
   "id": "29e844d4",
   "metadata": {},
   "outputs": [],
   "source": [
    "# fill NA values for the columns workclass and occupation with missing since it's not feasible to \n",
    "# impute those variables and it might have predictive power if people refuse to report that information\n",
    "df[['workclass', 'occupation']] = df[['workclass', 'occupation']].fillna('missing')"
   ]
  },
  {
   "cell_type": "code",
   "execution_count": 10,
   "id": "6c6d1870",
   "metadata": {},
   "outputs": [
    {
     "data": {
      "text/html": [
       "<div>\n",
       "<style scoped>\n",
       "    .dataframe tbody tr th:only-of-type {\n",
       "        vertical-align: middle;\n",
       "    }\n",
       "\n",
       "    .dataframe tbody tr th {\n",
       "        vertical-align: top;\n",
       "    }\n",
       "\n",
       "    .dataframe thead th {\n",
       "        text-align: right;\n",
       "    }\n",
       "</style>\n",
       "<table border=\"1\" class=\"dataframe\">\n",
       "  <thead>\n",
       "    <tr style=\"text-align: right;\">\n",
       "      <th></th>\n",
       "      <th>age</th>\n",
       "      <th>workclass</th>\n",
       "      <th>fnlwgt</th>\n",
       "      <th>education</th>\n",
       "      <th>education.num</th>\n",
       "      <th>marital.status</th>\n",
       "      <th>occupation</th>\n",
       "      <th>relationship</th>\n",
       "      <th>race</th>\n",
       "      <th>sex</th>\n",
       "      <th>capital.gain</th>\n",
       "      <th>capital.loss</th>\n",
       "      <th>hours.per.week</th>\n",
       "      <th>native.country</th>\n",
       "      <th>income</th>\n",
       "    </tr>\n",
       "  </thead>\n",
       "  <tbody>\n",
       "    <tr>\n",
       "      <th>0</th>\n",
       "      <td>90</td>\n",
       "      <td>missing</td>\n",
       "      <td>77053</td>\n",
       "      <td>HS-grad</td>\n",
       "      <td>9</td>\n",
       "      <td>Widowed</td>\n",
       "      <td>missing</td>\n",
       "      <td>Not-in-family</td>\n",
       "      <td>White</td>\n",
       "      <td>Female</td>\n",
       "      <td>0</td>\n",
       "      <td>4356</td>\n",
       "      <td>40</td>\n",
       "      <td>United-States</td>\n",
       "      <td>&lt;=50K</td>\n",
       "    </tr>\n",
       "    <tr>\n",
       "      <th>1</th>\n",
       "      <td>82</td>\n",
       "      <td>Private</td>\n",
       "      <td>132870</td>\n",
       "      <td>HS-grad</td>\n",
       "      <td>9</td>\n",
       "      <td>Widowed</td>\n",
       "      <td>Exec-managerial</td>\n",
       "      <td>Not-in-family</td>\n",
       "      <td>White</td>\n",
       "      <td>Female</td>\n",
       "      <td>0</td>\n",
       "      <td>4356</td>\n",
       "      <td>18</td>\n",
       "      <td>United-States</td>\n",
       "      <td>&lt;=50K</td>\n",
       "    </tr>\n",
       "    <tr>\n",
       "      <th>2</th>\n",
       "      <td>66</td>\n",
       "      <td>missing</td>\n",
       "      <td>186061</td>\n",
       "      <td>Some-college</td>\n",
       "      <td>10</td>\n",
       "      <td>Widowed</td>\n",
       "      <td>missing</td>\n",
       "      <td>Unmarried</td>\n",
       "      <td>Black</td>\n",
       "      <td>Female</td>\n",
       "      <td>0</td>\n",
       "      <td>4356</td>\n",
       "      <td>40</td>\n",
       "      <td>United-States</td>\n",
       "      <td>&lt;=50K</td>\n",
       "    </tr>\n",
       "    <tr>\n",
       "      <th>3</th>\n",
       "      <td>54</td>\n",
       "      <td>Private</td>\n",
       "      <td>140359</td>\n",
       "      <td>7th-8th</td>\n",
       "      <td>4</td>\n",
       "      <td>Divorced</td>\n",
       "      <td>Machine-op-inspct</td>\n",
       "      <td>Unmarried</td>\n",
       "      <td>White</td>\n",
       "      <td>Female</td>\n",
       "      <td>0</td>\n",
       "      <td>3900</td>\n",
       "      <td>40</td>\n",
       "      <td>United-States</td>\n",
       "      <td>&lt;=50K</td>\n",
       "    </tr>\n",
       "    <tr>\n",
       "      <th>4</th>\n",
       "      <td>41</td>\n",
       "      <td>Private</td>\n",
       "      <td>264663</td>\n",
       "      <td>Some-college</td>\n",
       "      <td>10</td>\n",
       "      <td>Separated</td>\n",
       "      <td>Prof-specialty</td>\n",
       "      <td>Own-child</td>\n",
       "      <td>White</td>\n",
       "      <td>Female</td>\n",
       "      <td>0</td>\n",
       "      <td>3900</td>\n",
       "      <td>40</td>\n",
       "      <td>United-States</td>\n",
       "      <td>&lt;=50K</td>\n",
       "    </tr>\n",
       "  </tbody>\n",
       "</table>\n",
       "</div>"
      ],
      "text/plain": [
       "   age workclass  fnlwgt     education  education.num marital.status  \\\n",
       "0   90   missing   77053       HS-grad              9        Widowed   \n",
       "1   82   Private  132870       HS-grad              9        Widowed   \n",
       "2   66   missing  186061  Some-college             10        Widowed   \n",
       "3   54   Private  140359       7th-8th              4       Divorced   \n",
       "4   41   Private  264663  Some-college             10      Separated   \n",
       "\n",
       "          occupation   relationship   race     sex  capital.gain  \\\n",
       "0            missing  Not-in-family  White  Female             0   \n",
       "1    Exec-managerial  Not-in-family  White  Female             0   \n",
       "2            missing      Unmarried  Black  Female             0   \n",
       "3  Machine-op-inspct      Unmarried  White  Female             0   \n",
       "4     Prof-specialty      Own-child  White  Female             0   \n",
       "\n",
       "   capital.loss  hours.per.week native.country income  \n",
       "0          4356              40  United-States  <=50K  \n",
       "1          4356              18  United-States  <=50K  \n",
       "2          4356              40  United-States  <=50K  \n",
       "3          3900              40  United-States  <=50K  \n",
       "4          3900              40  United-States  <=50K  "
      ]
     },
     "execution_count": 10,
     "metadata": {},
     "output_type": "execute_result"
    }
   ],
   "source": [
    "# check that NaN has been replaced with missing\n",
    "df.head()"
   ]
  },
  {
   "cell_type": "code",
   "execution_count": 11,
   "id": "373e7c19",
   "metadata": {},
   "outputs": [
    {
     "data": {
      "text/plain": [
       "(32561, 15)"
      ]
     },
     "execution_count": 11,
     "metadata": {},
     "output_type": "execute_result"
    }
   ],
   "source": [
    "df.shape"
   ]
  },
  {
   "cell_type": "code",
   "execution_count": 12,
   "id": "cfddbfd2",
   "metadata": {},
   "outputs": [],
   "source": [
    "# remove NA values from native country\n",
    "df = df.dropna()"
   ]
  },
  {
   "cell_type": "markdown",
   "id": "f48b76e1-5dfe-4eac-a77c-ca9fce4916ec",
   "metadata": {},
   "source": [
    "Removed the 583 missing values for native country as it cannot be correctly imputed via ML models."
   ]
  },
  {
   "cell_type": "code",
   "execution_count": 13,
   "id": "db306f66",
   "metadata": {},
   "outputs": [
    {
     "data": {
      "text/plain": [
       "(31978, 15)"
      ]
     },
     "execution_count": 13,
     "metadata": {},
     "output_type": "execute_result"
    }
   ],
   "source": [
    "# verified that 583 missing values have been removed\n",
    "df.shape"
   ]
  },
  {
   "cell_type": "markdown",
   "id": "9fc9b23f-48c8-4cc0-9fc0-70cf430fcfba",
   "metadata": {},
   "source": [
    "## Data Visualization"
   ]
  },
  {
   "cell_type": "markdown",
   "id": "e3060b57-4af1-471c-85ba-3e00dda2cbfb",
   "metadata": {},
   "source": [
    "This section will plot the original data set to better understand the underlying data."
   ]
  },
  {
   "cell_type": "code",
   "execution_count": 14,
   "id": "d38772f1-649c-4070-8faf-4de740000481",
   "metadata": {
    "tags": []
   },
   "outputs": [],
   "source": [
    "#conda install -c conda-forge jupyter_contrib_nbextensions"
   ]
  },
  {
   "cell_type": "code",
   "execution_count": 15,
   "id": "36679515-5229-401d-a728-d10583a266ab",
   "metadata": {},
   "outputs": [
    {
     "data": {
      "image/png": "[encoded data removed]",
      "text/plain": [
       "<Figure size 432x288 with 1 Axes>"
      ]
     },
     "metadata": {
      "needs_background": "light"
     },
     "output_type": "display_data"
    }
   ],
   "source": [
    "# plot who is earning above and below 50K - our prediction variable\n",
    "sns.countplot(x='income', data = df, palette='bright')\n",
    "plt.show()"
   ]
  },
  {
   "cell_type": "code",
   "execution_count": 16,
   "id": "3887c141-0073-42a4-a88d-92065a686820",
   "metadata": {},
   "outputs": [
    {
     "data": {
      "text/plain": [
       "<=50K    75.936581\n",
       ">50K     24.063419\n",
       "Name: income, dtype: float64"
      ]
     },
     "execution_count": 16,
     "metadata": {},
     "output_type": "execute_result"
    }
   ],
   "source": [
    "df['income'].value_counts() / len(df) * 100"
   ]
  },
  {
   "cell_type": "markdown",
   "id": "bd60355a-b465-4b43-9cf2-f2ae4ca412a5",
   "metadata": {},
   "source": [
    "The data set is imbalanced with 76% earning below 50K and 24% earning above 50K. This means our data set is imbalanced and we need to fix that before we train our prediction models."
   ]
  },
  {
   "cell_type": "code",
   "execution_count": 17,
   "id": "18d8a374-f289-4609-9905-5f663ca4dad3",
   "metadata": {},
   "outputs": [
    {
     "data": {
      "image/png": "[encoded data removed]",
      "text/plain": [
       "<Figure size 432x288 with 1 Axes>"
      ]
     },
     "metadata": {
      "needs_background": "light"
     },
     "output_type": "display_data"
    }
   ],
   "source": [
    "# boxplot for both classes and age\n",
    "sns.boxplot(y='age',x='income',data=df)\n",
    "plt.show()"
   ]
  },
  {
   "cell_type": "markdown",
   "id": "a8982842-89b1-4003-8025-4b4e1b996c25",
   "metadata": {},
   "source": [
    "The boxplot shows that people that earn more than 50K tend to be older than people earning less than 50K on average."
   ]
  },
  {
   "cell_type": "code",
   "execution_count": 18,
   "id": "5a72844b-b953-430d-a14e-5afd55d84f74",
   "metadata": {},
   "outputs": [
    {
     "data": {
      "image/png": "[encoded data removed]",
      "text/plain": [
       "<Figure size 432x288 with 1 Axes>"
      ]
     },
     "metadata": {
      "needs_background": "light"
     },
     "output_type": "display_data"
    }
   ],
   "source": [
    "sns.boxplot(y='hours.per.week',x='income',data=df)\n",
    "plt.show()"
   ]
  },
  {
   "cell_type": "code",
   "execution_count": 19,
   "id": "4a60611b-bac6-4e53-90cc-df76e6b64497",
   "metadata": {},
   "outputs": [
    {
     "data": {
      "text/plain": [
       "Male      66.827194\n",
       "Female    33.172806\n",
       "Name: sex, dtype: float64"
      ]
     },
     "execution_count": 19,
     "metadata": {},
     "output_type": "execute_result"
    }
   ],
   "source": [
    "df['sex'].value_counts() / len(df) * 100"
   ]
  },
  {
   "cell_type": "markdown",
   "id": "19878dd7-0a2d-4532-8004-14f535433c11",
   "metadata": {},
   "source": [
    "The data set is split into 67% male and 33% female."
   ]
  },
  {
   "cell_type": "code",
   "execution_count": 20,
   "id": "c275d64f-5b78-44b4-865f-e11464c07e6c",
   "metadata": {
    "scrolled": true
   },
   "outputs": [
    {
     "data": {
      "image/png": "[encoded data removed]",
      "text/plain": [
       "<Figure size 432x288 with 1 Axes>"
      ]
     },
     "metadata": {
      "needs_background": "light"
     },
     "output_type": "display_data"
    }
   ],
   "source": [
    "sns.countplot(x = df['sex'],hue=df['income'])\n",
    "plt.show()"
   ]
  },
  {
   "cell_type": "markdown",
   "id": "88ce598c-4024-4f29-89a0-9b5d0a2c1e40",
   "metadata": {},
   "source": [
    "This bar chart shows that females are less likely to earn more than 50K compared to men"
   ]
  },
  {
   "cell_type": "code",
   "execution_count": 21,
   "id": "8ec7bde7-5976-4491-ba9b-180c2c8472ac",
   "metadata": {},
   "outputs": [
    {
     "data": {
      "text/plain": [
       "sex     income\n",
       "Female  <=50K      9446\n",
       "        >50K       1162\n",
       "Male    <=50K     14837\n",
       "        >50K       6533\n",
       "Name: age, dtype: int64"
      ]
     },
     "execution_count": 21,
     "metadata": {},
     "output_type": "execute_result"
    }
   ],
   "source": [
    "new_df = df.groupby(['sex', 'income']).count()\n",
    "new_df['age']"
   ]
  },
  {
   "cell_type": "markdown",
   "id": "e3b0ed86-84a1-4306-a4e7-817c360f9db9",
   "metadata": {},
   "source": [
    "Women are less likely to earn more than 50K"
   ]
  },
  {
   "cell_type": "code",
   "execution_count": 22,
   "id": "7d81434a-d46f-452a-a89c-527bd7ce45c7",
   "metadata": {},
   "outputs": [
    {
     "data": {
      "image/png": "[encoded data removed]",
      "text/plain": [
       "<Figure size 432x288 with 1 Axes>"
      ]
     },
     "metadata": {
      "needs_background": "light"
     },
     "output_type": "display_data"
    }
   ],
   "source": [
    "df['age'].hist(bins = 100)\n",
    "plt.show()"
   ]
  },
  {
   "cell_type": "markdown",
   "id": "ffd78665-b8ba-4b72-8787-803d5c7a9b42",
   "metadata": {},
   "source": [
    "The majority of people in the data set are between 20 and 40 years old"
   ]
  },
  {
   "cell_type": "code",
   "execution_count": 23,
   "id": "bcbebcba-0476-4679-9ab7-6f58a89e1118",
   "metadata": {},
   "outputs": [
    {
     "data": {
      "image/png": "[encoded data removed]",
      "text/plain": [
       "<Figure size 432x288 with 1 Axes>"
      ]
     },
     "metadata": {
      "needs_background": "light"
     },
     "output_type": "display_data"
    }
   ],
   "source": [
    "sns.countplot(x = df['occupation'],hue=df['income'])\n",
    "plt.xticks(rotation=90)\n",
    "plt.show()"
   ]
  },
  {
   "cell_type": "markdown",
   "id": "da241554-2185-4da7-915d-aea01ecf95df",
   "metadata": {},
   "source": [
    "This bar chart shows the distribution of people earning more or less than 50K based on their occupation. The occupations with the highest rate of people earning more than 50K are exec-mangerial and Prof-specialty, which makes intuitive sense."
   ]
  },
  {
   "cell_type": "code",
   "execution_count": 24,
   "id": "ddcd0cd8-5da9-4453-ad4b-898a606dfefc",
   "metadata": {},
   "outputs": [
    {
     "data": {
      "image/png": "[encoded data removed]",
      "text/plain": [
       "<Figure size 432x288 with 1 Axes>"
      ]
     },
     "metadata": {
      "needs_background": "light"
     },
     "output_type": "display_data"
    }
   ],
   "source": [
    "sns.countplot(x = df['education'],hue=df['income'])\n",
    "plt.xticks(rotation=90)\n",
    "plt.show()"
   ]
  },
  {
   "cell_type": "markdown",
   "id": "2c9181c0-49d2-4e6f-9327-6bd13b7019a7",
   "metadata": {},
   "source": [
    "This chart shows that there is a positive correlation between more education (Doctorate, Masters, Prof School) with earning more than 50K"
   ]
  },
  {
   "cell_type": "code",
   "execution_count": 25,
   "id": "12246ba1-5b3b-4594-87f5-d7f7c6db8b21",
   "metadata": {},
   "outputs": [
    {
     "data": {
      "image/png": "[encoded data removed]",
      "text/plain": [
       "<Figure size 432x288 with 1 Axes>"
      ]
     },
     "metadata": {
      "needs_background": "light"
     },
     "output_type": "display_data"
    }
   ],
   "source": [
    "sns.countplot(x = df['race'],hue=df['income'])\n",
    "plt.xticks(rotation=90)\n",
    "plt.show()"
   ]
  },
  {
   "cell_type": "code",
   "execution_count": 26,
   "id": "15c78bd4-e2ef-4b54-ab4c-03a44d5135a4",
   "metadata": {},
   "outputs": [
    {
     "data": {
      "image/png": "[encoded data removed]",
      "text/plain": [
       "<Figure size 432x288 with 1 Axes>"
      ]
     },
     "metadata": {
      "needs_background": "light"
     },
     "output_type": "display_data"
    }
   ],
   "source": [
    "sns.countplot(x = df['marital.status'],hue=df['income'])\n",
    "plt.xticks(rotation=90)\n",
    "plt.show()"
   ]
  },
  {
   "cell_type": "code",
   "execution_count": 27,
   "id": "64a6b61f-5e3f-4bfe-9635-9e8db728f4c4",
   "metadata": {},
   "outputs": [
    {
     "data": {
      "image/png": "[encoded data removed]",
      "text/plain": [
       "<Figure size 720x576 with 2 Axes>"
      ]
     },
     "metadata": {
      "needs_background": "light"
     },
     "output_type": "display_data"
    }
   ],
   "source": [
    "# correlation matrix\n",
    "plt.figure(figsize=(10, 8))\n",
    "sns.heatmap(df.corr(), annot= True, cmap='coolwarm')\n",
    "plt.show()"
   ]
  },
  {
   "cell_type": "markdown",
   "id": "216140b6-f297-426b-9b9b-99abae33bc85",
   "metadata": {},
   "source": [
    "The Correlation matrix shows that none of the explanatory variables are highly correlated. No risk of perfect multicollinearity occurring."
   ]
  },
  {
   "cell_type": "code",
   "execution_count": 28,
   "id": "4c1cadaf-5f52-4289-bb95-5a5c918d0d1f",
   "metadata": {},
   "outputs": [
    {
     "data": {
      "image/png": "[encoded data removed]",
      "text/plain": [
       "<Figure size 1080x720 with 6 Axes>"
      ]
     },
     "metadata": {
      "needs_background": "light"
     },
     "output_type": "display_data"
    }
   ],
   "source": [
    "# distribution of numerical variables\n",
    "plt.rcParams['figure.figsize'] = [15,10]\n",
    "df.hist()\n",
    "plt.show()"
   ]
  },
  {
   "cell_type": "code",
   "execution_count": 29,
   "id": "76e5524b",
   "metadata": {},
   "outputs": [
    {
     "data": {
      "text/plain": [
       "United-States                 0.912190\n",
       "Mexico                        0.020108\n",
       "Philippines                   0.006192\n",
       "Germany                       0.004284\n",
       "Canada                        0.003784\n",
       "Puerto-Rico                   0.003565\n",
       "El-Salvador                   0.003315\n",
       "India                         0.003127\n",
       "Cuba                          0.002971\n",
       "England                       0.002814\n",
       "Jamaica                       0.002533\n",
       "South                         0.002502\n",
       "China                         0.002345\n",
       "Italy                         0.002283\n",
       "Dominican-Republic            0.002189\n",
       "Vietnam                       0.002095\n",
       "Guatemala                     0.002001\n",
       "Japan                         0.001939\n",
       "Poland                        0.001876\n",
       "Columbia                      0.001845\n",
       "Taiwan                        0.001595\n",
       "Haiti                         0.001376\n",
       "Iran                          0.001345\n",
       "Portugal                      0.001157\n",
       "Nicaragua                     0.001063\n",
       "Peru                          0.000969\n",
       "Greece                        0.000907\n",
       "France                        0.000907\n",
       "Ecuador                       0.000876\n",
       "Ireland                       0.000751\n",
       "Hong                          0.000625\n",
       "Trinadad&Tobago               0.000594\n",
       "Cambodia                      0.000594\n",
       "Thailand                      0.000563\n",
       "Laos                          0.000563\n",
       "Yugoslavia                    0.000500\n",
       "Outlying-US(Guam-USVI-etc)    0.000438\n",
       "Hungary                       0.000407\n",
       "Honduras                      0.000407\n",
       "Scotland                      0.000375\n",
       "Holand-Netherlands            0.000031\n",
       "Name: native.country, dtype: float64"
      ]
     },
     "execution_count": 29,
     "metadata": {},
     "output_type": "execute_result"
    }
   ],
   "source": [
    "# majority of people from the US, so we combine all non US into one category\n",
    "df['native.country'].value_counts() / len(df)"
   ]
  },
  {
   "cell_type": "code",
   "execution_count": 30,
   "id": "d624ee83",
   "metadata": {},
   "outputs": [],
   "source": [
    "# combine all NON US observations to reduce number of dummy variables\n",
    "df['native.country'] = np.where(df['native.country'] != 'United-States', 'Not US', df['native.country'])"
   ]
  },
  {
   "cell_type": "code",
   "execution_count": 31,
   "id": "2cd3a0b4",
   "metadata": {},
   "outputs": [
    {
     "data": {
      "text/plain": [
       "United-States    29170\n",
       "Not US            2808\n",
       "Name: native.country, dtype: int64"
      ]
     },
     "execution_count": 31,
     "metadata": {},
     "output_type": "execute_result"
    }
   ],
   "source": [
    "# Now only two categories US and not US exists for native country\n",
    "df['native.country'].value_counts()"
   ]
  },
  {
   "cell_type": "code",
   "execution_count": 32,
   "id": "27fe0ac2-503c-4afa-9f5e-15fffa40b921",
   "metadata": {},
   "outputs": [
    {
     "data": {
      "text/plain": [
       "(31978, 15)"
      ]
     },
     "execution_count": 32,
     "metadata": {},
     "output_type": "execute_result"
    }
   ],
   "source": [
    "df.shape"
   ]
  },
  {
   "cell_type": "markdown",
   "id": "cb728383-69e1-4ade-bee9-b2d60eeb3a9b",
   "metadata": {},
   "source": [
    "## Create Dummy Variables"
   ]
  },
  {
   "cell_type": "code",
   "execution_count": 33,
   "id": "4378a1ca",
   "metadata": {},
   "outputs": [],
   "source": [
    "df = pd.get_dummies(df, columns = ['income'], drop_first = True)"
   ]
  },
  {
   "cell_type": "code",
   "execution_count": 34,
   "id": "a26233e1",
   "metadata": {},
   "outputs": [
    {
     "data": {
      "text/plain": [
       "(31978, 15)"
      ]
     },
     "execution_count": 34,
     "metadata": {},
     "output_type": "execute_result"
    }
   ],
   "source": [
    "df.shape"
   ]
  },
  {
   "cell_type": "code",
   "execution_count": 35,
   "id": "84e1847e",
   "metadata": {},
   "outputs": [
    {
     "data": {
      "text/html": [
       "<div>\n",
       "<style scoped>\n",
       "    .dataframe tbody tr th:only-of-type {\n",
       "        vertical-align: middle;\n",
       "    }\n",
       "\n",
       "    .dataframe tbody tr th {\n",
       "        vertical-align: top;\n",
       "    }\n",
       "\n",
       "    .dataframe thead th {\n",
       "        text-align: right;\n",
       "    }\n",
       "</style>\n",
       "<table border=\"1\" class=\"dataframe\">\n",
       "  <thead>\n",
       "    <tr style=\"text-align: right;\">\n",
       "      <th></th>\n",
       "      <th>age</th>\n",
       "      <th>workclass</th>\n",
       "      <th>fnlwgt</th>\n",
       "      <th>education</th>\n",
       "      <th>education.num</th>\n",
       "      <th>marital.status</th>\n",
       "      <th>occupation</th>\n",
       "      <th>relationship</th>\n",
       "      <th>race</th>\n",
       "      <th>sex</th>\n",
       "      <th>capital.gain</th>\n",
       "      <th>capital.loss</th>\n",
       "      <th>hours.per.week</th>\n",
       "      <th>native.country</th>\n",
       "      <th>income_&gt;50K</th>\n",
       "    </tr>\n",
       "  </thead>\n",
       "  <tbody>\n",
       "    <tr>\n",
       "      <th>0</th>\n",
       "      <td>90</td>\n",
       "      <td>missing</td>\n",
       "      <td>77053</td>\n",
       "      <td>HS-grad</td>\n",
       "      <td>9</td>\n",
       "      <td>Widowed</td>\n",
       "      <td>missing</td>\n",
       "      <td>Not-in-family</td>\n",
       "      <td>White</td>\n",
       "      <td>Female</td>\n",
       "      <td>0</td>\n",
       "      <td>4356</td>\n",
       "      <td>40</td>\n",
       "      <td>United-States</td>\n",
       "      <td>0</td>\n",
       "    </tr>\n",
       "    <tr>\n",
       "      <th>1</th>\n",
       "      <td>82</td>\n",
       "      <td>Private</td>\n",
       "      <td>132870</td>\n",
       "      <td>HS-grad</td>\n",
       "      <td>9</td>\n",
       "      <td>Widowed</td>\n",
       "      <td>Exec-managerial</td>\n",
       "      <td>Not-in-family</td>\n",
       "      <td>White</td>\n",
       "      <td>Female</td>\n",
       "      <td>0</td>\n",
       "      <td>4356</td>\n",
       "      <td>18</td>\n",
       "      <td>United-States</td>\n",
       "      <td>0</td>\n",
       "    </tr>\n",
       "    <tr>\n",
       "      <th>2</th>\n",
       "      <td>66</td>\n",
       "      <td>missing</td>\n",
       "      <td>186061</td>\n",
       "      <td>Some-college</td>\n",
       "      <td>10</td>\n",
       "      <td>Widowed</td>\n",
       "      <td>missing</td>\n",
       "      <td>Unmarried</td>\n",
       "      <td>Black</td>\n",
       "      <td>Female</td>\n",
       "      <td>0</td>\n",
       "      <td>4356</td>\n",
       "      <td>40</td>\n",
       "      <td>United-States</td>\n",
       "      <td>0</td>\n",
       "    </tr>\n",
       "    <tr>\n",
       "      <th>3</th>\n",
       "      <td>54</td>\n",
       "      <td>Private</td>\n",
       "      <td>140359</td>\n",
       "      <td>7th-8th</td>\n",
       "      <td>4</td>\n",
       "      <td>Divorced</td>\n",
       "      <td>Machine-op-inspct</td>\n",
       "      <td>Unmarried</td>\n",
       "      <td>White</td>\n",
       "      <td>Female</td>\n",
       "      <td>0</td>\n",
       "      <td>3900</td>\n",
       "      <td>40</td>\n",
       "      <td>United-States</td>\n",
       "      <td>0</td>\n",
       "    </tr>\n",
       "    <tr>\n",
       "      <th>4</th>\n",
       "      <td>41</td>\n",
       "      <td>Private</td>\n",
       "      <td>264663</td>\n",
       "      <td>Some-college</td>\n",
       "      <td>10</td>\n",
       "      <td>Separated</td>\n",
       "      <td>Prof-specialty</td>\n",
       "      <td>Own-child</td>\n",
       "      <td>White</td>\n",
       "      <td>Female</td>\n",
       "      <td>0</td>\n",
       "      <td>3900</td>\n",
       "      <td>40</td>\n",
       "      <td>United-States</td>\n",
       "      <td>0</td>\n",
       "    </tr>\n",
       "  </tbody>\n",
       "</table>\n",
       "</div>"
      ],
      "text/plain": [
       "   age workclass  fnlwgt     education  education.num marital.status  \\\n",
       "0   90   missing   77053       HS-grad              9        Widowed   \n",
       "1   82   Private  132870       HS-grad              9        Widowed   \n",
       "2   66   missing  186061  Some-college             10        Widowed   \n",
       "3   54   Private  140359       7th-8th              4       Divorced   \n",
       "4   41   Private  264663  Some-college             10      Separated   \n",
       "\n",
       "          occupation   relationship   race     sex  capital.gain  \\\n",
       "0            missing  Not-in-family  White  Female             0   \n",
       "1    Exec-managerial  Not-in-family  White  Female             0   \n",
       "2            missing      Unmarried  Black  Female             0   \n",
       "3  Machine-op-inspct      Unmarried  White  Female             0   \n",
       "4     Prof-specialty      Own-child  White  Female             0   \n",
       "\n",
       "   capital.loss  hours.per.week native.country  income_>50K  \n",
       "0          4356              40  United-States            0  \n",
       "1          4356              18  United-States            0  \n",
       "2          4356              40  United-States            0  \n",
       "3          3900              40  United-States            0  \n",
       "4          3900              40  United-States            0  "
      ]
     },
     "execution_count": 35,
     "metadata": {},
     "output_type": "execute_result"
    }
   ],
   "source": [
    "df.head()"
   ]
  },
  {
   "cell_type": "markdown",
   "id": "3e650b62-a7f4-4038-b8c2-987b6accda3b",
   "metadata": {},
   "source": [
    "- dropping fnlwgt as it has no predictive power on income\n",
    "- dropping education because there's already 'educ.num' that measures the years in school"
   ]
  },
  {
   "cell_type": "code",
   "execution_count": 36,
   "id": "d3c9b8d3",
   "metadata": {},
   "outputs": [],
   "source": [
    "df = df.drop('fnlwgt', axis=1)\n",
    "df = df.drop('education', axis=1)"
   ]
  },
  {
   "cell_type": "code",
   "execution_count": 37,
   "id": "139b6e02",
   "metadata": {},
   "outputs": [],
   "source": [
    "df = pd.get_dummies(df, columns = ['workclass'],drop_first = True)\n",
    "df = pd.get_dummies(df, columns = ['marital.status'],drop_first = True)\n",
    "df = pd.get_dummies(df, columns = ['occupation'],drop_first = True)\n",
    "df = pd.get_dummies(df, columns = ['relationship'],drop_first = True)\n",
    "df = pd.get_dummies(df, columns = ['race'], drop_first = True)\n",
    "df = pd.get_dummies(df, columns = ['sex'], drop_first = True)\n",
    "df = pd.get_dummies(df, columns = ['native.country'],drop_first = True)"
   ]
  },
  {
   "cell_type": "code",
   "execution_count": 38,
   "id": "0b16de41",
   "metadata": {
    "tags": []
   },
   "outputs": [
    {
     "data": {
      "text/html": [
       "<div>\n",
       "<style scoped>\n",
       "    .dataframe tbody tr th:only-of-type {\n",
       "        vertical-align: middle;\n",
       "    }\n",
       "\n",
       "    .dataframe tbody tr th {\n",
       "        vertical-align: top;\n",
       "    }\n",
       "\n",
       "    .dataframe thead th {\n",
       "        text-align: right;\n",
       "    }\n",
       "</style>\n",
       "<table border=\"1\" class=\"dataframe\">\n",
       "  <thead>\n",
       "    <tr style=\"text-align: right;\">\n",
       "      <th></th>\n",
       "      <th>age</th>\n",
       "      <th>education.num</th>\n",
       "      <th>capital.gain</th>\n",
       "      <th>capital.loss</th>\n",
       "      <th>hours.per.week</th>\n",
       "      <th>income_&gt;50K</th>\n",
       "      <th>workclass_Local-gov</th>\n",
       "      <th>workclass_Never-worked</th>\n",
       "      <th>workclass_Private</th>\n",
       "      <th>workclass_Self-emp-inc</th>\n",
       "      <th>...</th>\n",
       "      <th>relationship_Other-relative</th>\n",
       "      <th>relationship_Own-child</th>\n",
       "      <th>relationship_Unmarried</th>\n",
       "      <th>relationship_Wife</th>\n",
       "      <th>race_Asian-Pac-Islander</th>\n",
       "      <th>race_Black</th>\n",
       "      <th>race_Other</th>\n",
       "      <th>race_White</th>\n",
       "      <th>sex_Male</th>\n",
       "      <th>native.country_United-States</th>\n",
       "    </tr>\n",
       "  </thead>\n",
       "  <tbody>\n",
       "    <tr>\n",
       "      <th>0</th>\n",
       "      <td>90</td>\n",
       "      <td>9</td>\n",
       "      <td>0</td>\n",
       "      <td>4356</td>\n",
       "      <td>40</td>\n",
       "      <td>0</td>\n",
       "      <td>0</td>\n",
       "      <td>0</td>\n",
       "      <td>0</td>\n",
       "      <td>0</td>\n",
       "      <td>...</td>\n",
       "      <td>0</td>\n",
       "      <td>0</td>\n",
       "      <td>0</td>\n",
       "      <td>0</td>\n",
       "      <td>0</td>\n",
       "      <td>0</td>\n",
       "      <td>0</td>\n",
       "      <td>1</td>\n",
       "      <td>0</td>\n",
       "      <td>1</td>\n",
       "    </tr>\n",
       "    <tr>\n",
       "      <th>1</th>\n",
       "      <td>82</td>\n",
       "      <td>9</td>\n",
       "      <td>0</td>\n",
       "      <td>4356</td>\n",
       "      <td>18</td>\n",
       "      <td>0</td>\n",
       "      <td>0</td>\n",
       "      <td>0</td>\n",
       "      <td>1</td>\n",
       "      <td>0</td>\n",
       "      <td>...</td>\n",
       "      <td>0</td>\n",
       "      <td>0</td>\n",
       "      <td>0</td>\n",
       "      <td>0</td>\n",
       "      <td>0</td>\n",
       "      <td>0</td>\n",
       "      <td>0</td>\n",
       "      <td>1</td>\n",
       "      <td>0</td>\n",
       "      <td>1</td>\n",
       "    </tr>\n",
       "    <tr>\n",
       "      <th>2</th>\n",
       "      <td>66</td>\n",
       "      <td>10</td>\n",
       "      <td>0</td>\n",
       "      <td>4356</td>\n",
       "      <td>40</td>\n",
       "      <td>0</td>\n",
       "      <td>0</td>\n",
       "      <td>0</td>\n",
       "      <td>0</td>\n",
       "      <td>0</td>\n",
       "      <td>...</td>\n",
       "      <td>0</td>\n",
       "      <td>0</td>\n",
       "      <td>1</td>\n",
       "      <td>0</td>\n",
       "      <td>0</td>\n",
       "      <td>1</td>\n",
       "      <td>0</td>\n",
       "      <td>0</td>\n",
       "      <td>0</td>\n",
       "      <td>1</td>\n",
       "    </tr>\n",
       "    <tr>\n",
       "      <th>3</th>\n",
       "      <td>54</td>\n",
       "      <td>4</td>\n",
       "      <td>0</td>\n",
       "      <td>3900</td>\n",
       "      <td>40</td>\n",
       "      <td>0</td>\n",
       "      <td>0</td>\n",
       "      <td>0</td>\n",
       "      <td>1</td>\n",
       "      <td>0</td>\n",
       "      <td>...</td>\n",
       "      <td>0</td>\n",
       "      <td>0</td>\n",
       "      <td>1</td>\n",
       "      <td>0</td>\n",
       "      <td>0</td>\n",
       "      <td>0</td>\n",
       "      <td>0</td>\n",
       "      <td>1</td>\n",
       "      <td>0</td>\n",
       "      <td>1</td>\n",
       "    </tr>\n",
       "    <tr>\n",
       "      <th>4</th>\n",
       "      <td>41</td>\n",
       "      <td>10</td>\n",
       "      <td>0</td>\n",
       "      <td>3900</td>\n",
       "      <td>40</td>\n",
       "      <td>0</td>\n",
       "      <td>0</td>\n",
       "      <td>0</td>\n",
       "      <td>1</td>\n",
       "      <td>0</td>\n",
       "      <td>...</td>\n",
       "      <td>0</td>\n",
       "      <td>1</td>\n",
       "      <td>0</td>\n",
       "      <td>0</td>\n",
       "      <td>0</td>\n",
       "      <td>0</td>\n",
       "      <td>0</td>\n",
       "      <td>1</td>\n",
       "      <td>0</td>\n",
       "      <td>1</td>\n",
       "    </tr>\n",
       "  </tbody>\n",
       "</table>\n",
       "<p>5 rows × 45 columns</p>\n",
       "</div>"
      ],
      "text/plain": [
       "   age  education.num  capital.gain  capital.loss  hours.per.week  \\\n",
       "0   90              9             0          4356              40   \n",
       "1   82              9             0          4356              18   \n",
       "2   66             10             0          4356              40   \n",
       "3   54              4             0          3900              40   \n",
       "4   41             10             0          3900              40   \n",
       "\n",
       "   income_>50K  workclass_Local-gov  workclass_Never-worked  \\\n",
       "0            0                    0                       0   \n",
       "1            0                    0                       0   \n",
       "2            0                    0                       0   \n",
       "3            0                    0                       0   \n",
       "4            0                    0                       0   \n",
       "\n",
       "   workclass_Private  workclass_Self-emp-inc  ...  \\\n",
       "0                  0                       0  ...   \n",
       "1                  1                       0  ...   \n",
       "2                  0                       0  ...   \n",
       "3                  1                       0  ...   \n",
       "4                  1                       0  ...   \n",
       "\n",
       "   relationship_Other-relative  relationship_Own-child  \\\n",
       "0                            0                       0   \n",
       "1                            0                       0   \n",
       "2                            0                       0   \n",
       "3                            0                       0   \n",
       "4                            0                       1   \n",
       "\n",
       "   relationship_Unmarried  relationship_Wife  race_Asian-Pac-Islander  \\\n",
       "0                       0                  0                        0   \n",
       "1                       0                  0                        0   \n",
       "2                       1                  0                        0   \n",
       "3                       1                  0                        0   \n",
       "4                       0                  0                        0   \n",
       "\n",
       "   race_Black  race_Other  race_White  sex_Male  native.country_United-States  \n",
       "0           0           0           1         0                             1  \n",
       "1           0           0           1         0                             1  \n",
       "2           1           0           0         0                             1  \n",
       "3           0           0           1         0                             1  \n",
       "4           0           0           1         0                             1  \n",
       "\n",
       "[5 rows x 45 columns]"
      ]
     },
     "execution_count": 38,
     "metadata": {},
     "output_type": "execute_result"
    }
   ],
   "source": [
    "df.head()"
   ]
  },
  {
   "cell_type": "code",
   "execution_count": 39,
   "id": "ec286b4b-e612-486c-a069-dfcd97800a91",
   "metadata": {},
   "outputs": [
    {
     "data": {
      "text/plain": [
       "(31978, 45)"
      ]
     },
     "execution_count": 39,
     "metadata": {},
     "output_type": "execute_result"
    }
   ],
   "source": [
    "df.shape"
   ]
  },
  {
   "cell_type": "markdown",
   "id": "98a8fe33-c469-4994-8953-83b5e404eb5d",
   "metadata": {},
   "source": [
    "## Split training and test data"
   ]
  },
  {
   "cell_type": "code",
   "execution_count": 40,
   "id": "625ea592-a315-407d-9e2e-6d2b075bd5a6",
   "metadata": {},
   "outputs": [],
   "source": [
    "from sklearn.model_selection import GridSearchCV\n",
    "from sklearn.model_selection import RandomizedSearchCV\n",
    "\n",
    "from sklearn.tree import DecisionTreeClassifier\n",
    "from sklearn.ensemble import BaggingClassifier\n",
    "from sklearn.linear_model import LogisticRegression\n",
    "from sklearn.preprocessing import StandardScaler\n",
    "from sklearn.metrics import classification_report\n",
    "from sklearn.metrics import make_scorer, f1_score"
   ]
  },
  {
   "cell_type": "code",
   "execution_count": 41,
   "id": "62f076c2-66f5-4d84-89e6-109bffe39142",
   "metadata": {},
   "outputs": [],
   "source": [
    "# splitting data into explanatory variables and target variable\n",
    "X = df.drop(['income_>50K'], axis = 1)\n",
    "y = df['income_>50K']"
   ]
  },
  {
   "cell_type": "code",
   "execution_count": 42,
   "id": "bce81c8d-b4aa-49ab-b1b9-20125627cfc7",
   "metadata": {},
   "outputs": [],
   "source": [
    "X_train, X_test, y_train, y_test = train_test_split(X, y, test_size = 0.2, random_state = 0)"
   ]
  },
  {
   "cell_type": "code",
   "execution_count": 43,
   "id": "7f313259-e6fe-447c-b972-5e0ef8b8878d",
   "metadata": {
    "tags": []
   },
   "outputs": [
    {
     "data": {
      "text/plain": [
       "(25582, 44)"
      ]
     },
     "execution_count": 43,
     "metadata": {},
     "output_type": "execute_result"
    }
   ],
   "source": [
    "X_train.shape"
   ]
  },
  {
   "cell_type": "code",
   "execution_count": 44,
   "id": "1be1d49a-c14b-41cf-b44c-565f8ef95edc",
   "metadata": {},
   "outputs": [
    {
     "data": {
      "text/plain": [
       "(6396, 44)"
      ]
     },
     "execution_count": 44,
     "metadata": {},
     "output_type": "execute_result"
    }
   ],
   "source": [
    "X_test.shape"
   ]
  },
  {
   "cell_type": "markdown",
   "id": "b72baf0e-c545-4821-9703-9528d09e41f7",
   "metadata": {},
   "source": [
    "## Balancing and Scaling our Dataset"
   ]
  },
  {
   "cell_type": "code",
   "execution_count": 45,
   "id": "de1314aa-7209-47ee-ac7d-573236ff767b",
   "metadata": {},
   "outputs": [],
   "source": [
    "#conda install -c conda-forge imbalanced-learn"
   ]
  },
  {
   "cell_type": "code",
   "execution_count": 46,
   "id": "b8476bfb-7bdc-44b9-aa16-8049ddde5454",
   "metadata": {},
   "outputs": [],
   "source": [
    "import imblearn"
   ]
  },
  {
   "cell_type": "code",
   "execution_count": 47,
   "id": "9b5a0afc-56cc-4a09-9f78-af881ebf49b3",
   "metadata": {},
   "outputs": [],
   "source": [
    "# upsampling technique\n",
    "from imblearn.over_sampling import SMOTE"
   ]
  },
  {
   "cell_type": "code",
   "execution_count": 48,
   "id": "f631ff50-2ddc-4df6-b7be-f7c10e397a49",
   "metadata": {},
   "outputs": [],
   "source": [
    "oversample = SMOTE()\n",
    "\n",
    "X_s_train, y_s_train = oversample.fit_resample(X_train, y_train)"
   ]
  },
  {
   "cell_type": "code",
   "execution_count": 49,
   "id": "c139b57e-8393-469b-a846-de39f9fc56e8",
   "metadata": {},
   "outputs": [],
   "source": [
    "scaler = StandardScaler()\n",
    "\n",
    "X_train_scaled = scaler.fit_transform(X_s_train)\n",
    "X_test_scaled = scaler.fit_transform(X_test)"
   ]
  },
  {
   "cell_type": "code",
   "execution_count": 50,
   "id": "0931498d-ecca-4291-9631-5517274b1115",
   "metadata": {},
   "outputs": [
    {
     "data": {
      "text/plain": [
       "(25582, 44)"
      ]
     },
     "execution_count": 50,
     "metadata": {},
     "output_type": "execute_result"
    }
   ],
   "source": [
    "X_train.shape"
   ]
  },
  {
   "cell_type": "markdown",
   "id": "9ba7f23d",
   "metadata": {
    "tags": []
   },
   "source": [
    "## Logistic Regression"
   ]
  },
  {
   "cell_type": "code",
   "execution_count": 51,
   "id": "2fee0dd5",
   "metadata": {
    "scrolled": true
   },
   "outputs": [],
   "source": [
    "# Basic Logistic Classifier\n",
    "clf = LogisticRegression(random_state=0)\n",
    "mod_lr = clf.fit(X_train_scaled, y_s_train)"
   ]
  },
  {
   "cell_type": "code",
   "execution_count": 52,
   "id": "c36089b2",
   "metadata": {
    "scrolled": true
   },
   "outputs": [
    {
     "name": "stdout",
     "output_type": "stream",
     "text": [
      "              precision    recall  f1-score   support\n",
      "\n",
      "           0       0.96      0.64      0.77      4843\n",
      "           1       0.45      0.92      0.61      1553\n",
      "\n",
      "    accuracy                           0.71      6396\n",
      "   macro avg       0.71      0.78      0.69      6396\n",
      "weighted avg       0.84      0.71      0.73      6396\n",
      "\n"
     ]
    }
   ],
   "source": [
    "print(classification_report(y_test,mod_lr.predict(X_test_scaled)))"
   ]
  },
  {
   "cell_type": "code",
   "execution_count": 53,
   "id": "7dc0b804-d9f3-4076-b7b8-e3bd42a0462b",
   "metadata": {},
   "outputs": [
    {
     "data": {
      "text/html": [
       "<div>\n",
       "<style scoped>\n",
       "    .dataframe tbody tr th:only-of-type {\n",
       "        vertical-align: middle;\n",
       "    }\n",
       "\n",
       "    .dataframe tbody tr th {\n",
       "        vertical-align: top;\n",
       "    }\n",
       "\n",
       "    .dataframe thead th {\n",
       "        text-align: right;\n",
       "    }\n",
       "</style>\n",
       "<table border=\"1\" class=\"dataframe\">\n",
       "  <thead>\n",
       "    <tr style=\"text-align: right;\">\n",
       "      <th>Predicted</th>\n",
       "      <th>0</th>\n",
       "      <th>1</th>\n",
       "    </tr>\n",
       "    <tr>\n",
       "      <th>True</th>\n",
       "      <th></th>\n",
       "      <th></th>\n",
       "    </tr>\n",
       "  </thead>\n",
       "  <tbody>\n",
       "    <tr>\n",
       "      <th>0</th>\n",
       "      <td>3118</td>\n",
       "      <td>1725</td>\n",
       "    </tr>\n",
       "    <tr>\n",
       "      <th>1</th>\n",
       "      <td>131</td>\n",
       "      <td>1422</td>\n",
       "    </tr>\n",
       "  </tbody>\n",
       "</table>\n",
       "</div>"
      ],
      "text/plain": [
       "Predicted     0     1\n",
       "True                 \n",
       "0          3118  1725\n",
       "1           131  1422"
      ]
     },
     "execution_count": 53,
     "metadata": {},
     "output_type": "execute_result"
    }
   ],
   "source": [
    "pd.crosstab(y_test, mod_lr.predict(X_test_scaled),rownames=[\"True\"], colnames=['Predicted'])"
   ]
  },
  {
   "cell_type": "code",
   "execution_count": 54,
   "id": "e0aa222f-37bf-49c5-ad54-5f276d960fde",
   "metadata": {},
   "outputs": [],
   "source": [
    "# # Logistic Regression hyperparameter grid\n",
    "# param_grid = [    \n",
    "#     {'penalty' : ['l1', 'l2', 'elasticnet', 'none'],\n",
    "#     'solver' : ['lbfgs','newton-cg','liblinear','sag','saga'],\n",
    "#     'max_iter' : [250, 1000,2500, 5000]\n",
    "#     }\n",
    "# ]\n",
    "\n",
    "# # Create a Logistic Regression Classifier\n",
    "# lgc = LogisticRegression(random_state=0)\n",
    "\n",
    "# # Create a custom scorer using f1_score\n",
    "# f1_scorer = make_scorer(f1_score, average='weighted')\n",
    "\n",
    "# # Create the grid search object\n",
    "# grid_searchLR = GridSearchCV(estimator=lgc, param_grid=param_grid, scoring=f1_scorer, cv=5)\n",
    "\n",
    "# # Perform the grid search on the training data\n",
    "# grid_searchLR.fit(X_train_scaled, y_s_train)\n",
    "\n",
    "# # Get the best parameters and the corresponding score\n",
    "# best_params = grid_searchLR.best_params_\n",
    "# best_score = grid_searchLR.best_score_\n",
    "\n",
    "# # Print the best parameters and score\n",
    "# print(\"Best Parameters: \", best_params)\n",
    "# print(\"Best Score (F1): \", best_score)\n",
    "\n",
    "\n",
    "\n",
    "\n"
   ]
  },
  {
   "cell_type": "markdown",
   "id": "13c64261-9017-466e-aafa-425ebe465393",
   "metadata": {},
   "source": [
    "Best Parameters:  {'max_iter': 250, 'penalty' : '12', 'solver;' : 'sag'}\n",
    "Best Score (F1): 0.863266608164751"
   ]
  },
  {
   "cell_type": "code",
   "execution_count": 55,
   "id": "b7517621-a80a-4963-86a1-66424a74e312",
   "metadata": {},
   "outputs": [],
   "source": [
    "#Best Logistic Classifier\n",
    "clf = LogisticRegression(max_iter= 250, penalty= 'l2', solver= 'sag', random_state=0)\n",
    "lr_best = clf.fit(X_train_scaled, y_s_train)\n"
   ]
  },
  {
   "cell_type": "code",
   "execution_count": 56,
   "id": "f51a6a23-c8be-4b1b-b26a-fa5467f7be37",
   "metadata": {},
   "outputs": [
    {
     "name": "stdout",
     "output_type": "stream",
     "text": [
      "              precision    recall  f1-score   support\n",
      "\n",
      "           0       0.96      0.64      0.77      4843\n",
      "           1       0.45      0.92      0.60      1553\n",
      "\n",
      "    accuracy                           0.71      6396\n",
      "   macro avg       0.71      0.78      0.69      6396\n",
      "weighted avg       0.84      0.71      0.73      6396\n",
      "\n"
     ]
    }
   ],
   "source": [
    "print(classification_report(y_test, lr_best.predict(X_test_scaled)))"
   ]
  },
  {
   "cell_type": "code",
   "execution_count": 57,
   "id": "5a305fe9-4d28-4c8f-990c-9375819b3881",
   "metadata": {},
   "outputs": [
    {
     "data": {
      "text/plain": [
       "0.6890255349764189"
      ]
     },
     "execution_count": 57,
     "metadata": {},
     "output_type": "execute_result"
    }
   ],
   "source": [
    "LR_f1 = f1_score(lr_best.predict(X_test_scaled),y_test, average = 'weighted')\n",
    "LR_f1"
   ]
  },
  {
   "cell_type": "markdown",
   "id": "a582fc62",
   "metadata": {},
   "source": [
    "# KNN Classifier"
   ]
  },
  {
   "cell_type": "code",
   "execution_count": 58,
   "id": "c27da536-b934-430a-9b60-a46b4b29a97a",
   "metadata": {},
   "outputs": [],
   "source": [
    "from sklearn.neighbors import KNeighborsClassifier"
   ]
  },
  {
   "cell_type": "code",
   "execution_count": 59,
   "id": "0eaa68d0",
   "metadata": {},
   "outputs": [],
   "source": [
    "# standard KNN Clf\n",
    "knn_clf = KNeighborsClassifier(n_neighbors=5)\n",
    "nb1 = knn_clf.fit(X_train_scaled,y_s_train)"
   ]
  },
  {
   "cell_type": "code",
   "execution_count": 60,
   "id": "70121d94",
   "metadata": {},
   "outputs": [
    {
     "data": {
      "text/plain": [
       "0.6279416145367888"
      ]
     },
     "execution_count": 60,
     "metadata": {},
     "output_type": "execute_result"
    }
   ],
   "source": [
    "f1_score(nb1.predict(X_test_scaled),y_test)"
   ]
  },
  {
   "cell_type": "code",
   "execution_count": 61,
   "id": "cf6c8e2d",
   "metadata": {},
   "outputs": [],
   "source": [
    "# #Create a list to store the results\n",
    "# cvres=[]\n",
    "# # Run through various values for k: use 5-fold cross validation, score with accuracy\n",
    "# for i in range(1,25):\n",
    "#     clf = KNeighborsClassifier(n_neighbors=i)\n",
    "#     nn = cross_validate(clf, X_s_train, y_s_train, cv=5, scoring='f1')\n",
    "#     #The test score gives an list of the accuracy on each of the five the test-folds\n",
    "#     cvres.append(nn['test_score'].mean())"
   ]
  },
  {
   "cell_type": "code",
   "execution_count": 62,
   "id": "a0f86f47",
   "metadata": {},
   "outputs": [],
   "source": [
    "# plt.figure(figsize=(10, 8))\n",
    "# plt.plot(list(range(1,25)),cvres,linewidth=2.5)\n",
    "# plt.ylim(.8,0.88)\n",
    "# plt.xlabel('neighbors')\n",
    "# plt.ylabel('F1 Score')\n",
    "# plt.show()"
   ]
  },
  {
   "attachments": {
    "WhatsApp%20Image%202023-05-15%20at%202.26.48%20PM.jpeg": {
     "image/jpeg": "[encoded data removed]"
    }
   },
   "cell_type": "markdown",
   "id": "dcc31baf-da10-44cc-bda0-6efdbef6cbe8",
   "metadata": {},
   "source": [
    "![WhatsApp%20Image%202023-05-15%20at%202.26.48%20PM.jpeg](attachment:WhatsApp%20Image%202023-05-15%20at%202.26.48%20PM.jpeg)"
   ]
  },
  {
   "cell_type": "code",
   "execution_count": 63,
   "id": "540c1102",
   "metadata": {},
   "outputs": [],
   "source": [
    "# np.argmax(cvres)"
   ]
  },
  {
   "cell_type": "markdown",
   "id": "2eb9b110",
   "metadata": {},
   "source": [
    "The best number of neighbors is at 3 per the graph above"
   ]
  },
  {
   "cell_type": "code",
   "execution_count": 64,
   "id": "52884ca1",
   "metadata": {},
   "outputs": [],
   "source": [
    "# best KNN Clf after Cross Validation\n",
    "knn_clf = KNeighborsClassifier(n_neighbors=3)\n",
    "knn_best = knn_clf.fit(X_train_scaled,y_s_train)"
   ]
  },
  {
   "cell_type": "code",
   "execution_count": 65,
   "id": "eee18455",
   "metadata": {},
   "outputs": [
    {
     "name": "stdout",
     "output_type": "stream",
     "text": [
      "              precision    recall  f1-score   support\n",
      "\n",
      "           0       0.88      0.85      0.87      4843\n",
      "           1       0.58      0.65      0.61      1553\n",
      "\n",
      "    accuracy                           0.80      6396\n",
      "   macro avg       0.73      0.75      0.74      6396\n",
      "weighted avg       0.81      0.80      0.81      6396\n",
      "\n"
     ]
    }
   ],
   "source": [
    "print(classification_report(y_test,knn_best.predict(X_test_scaled)))"
   ]
  },
  {
   "cell_type": "code",
   "execution_count": 66,
   "id": "3409cd46",
   "metadata": {},
   "outputs": [
    {
     "data": {
      "text/plain": [
       "0.79869611280124"
      ]
     },
     "execution_count": 66,
     "metadata": {},
     "output_type": "execute_result"
    }
   ],
   "source": [
    "KNN_f1 = f1_score(knn_best.predict(X_test_scaled),y_test, average = 'weighted')\n",
    "KNN_f1"
   ]
  },
  {
   "cell_type": "markdown",
   "id": "644f0196-ac32-4250-812d-2bf3222d680d",
   "metadata": {
    "tags": []
   },
   "source": [
    "# Bagging"
   ]
  },
  {
   "cell_type": "code",
   "execution_count": 67,
   "id": "bc8440e2-7388-4f55-902d-e0501c2469ad",
   "metadata": {},
   "outputs": [],
   "source": [
    "from sklearn.ensemble import BaggingClassifier"
   ]
  },
  {
   "cell_type": "code",
   "execution_count": 68,
   "id": "4920b3ff-860d-4baf-86b8-0bc59845750d",
   "metadata": {},
   "outputs": [],
   "source": [
    "# params_bg = {'n_estimators': [100, 300, 500, 700, 900]}\n",
    "\n",
    "# bg_clf = BaggingClassifier(base_estimator = DecisionTreeClassifier())\n",
    "\n",
    "# grid_search_bg = GridSearchCV(bg_clf, param_grid = params_bg, cv = 5, scoring = 'f1')\n",
    "\n",
    "# grid_search_bg.fit(X_s_train, y_s_train)\n",
    "\n",
    "# best_model_bg = grid_search_bg.best_estimator_\n",
    "\n",
    "# y_pred_bg = best_model_bg.predict(X_test)\n",
    "\n",
    "# f1_bg = f1_score(y_test, y_pred_bg, average = 'weighted')\n",
    "\n",
    "# print(\"Best parameters:\", grid_search_bg.best_params_)\n",
    "# print(\"Weighted F1 score:\", f1_bg)"
   ]
  },
  {
   "cell_type": "code",
   "execution_count": 69,
   "id": "95a8525c-035d-4cd9-ac64-08c6461a1572",
   "metadata": {
    "scrolled": true
   },
   "outputs": [],
   "source": [
    "# df_gs_bg = pd.DataFrame.from_dict(grid_search_bg.cv_results_)\n",
    "# df_gs_bg.head()"
   ]
  },
  {
   "attachments": {
    "Screen%20Shot%202023-05-15%20at%202.46.26%20PM.png": {
     "image/png": "[encoded data removed]"
    }
   },
   "cell_type": "markdown",
   "id": "a9a43c0f",
   "metadata": {},
   "source": [
    "![Screen%20Shot%202023-05-15%20at%202.46.26%20PM.png](attachment:Screen%20Shot%202023-05-15%20at%202.46.26%20PM.png)"
   ]
  },
  {
   "cell_type": "code",
   "execution_count": 70,
   "id": "e8a5f2c1-4cb4-42d3-8079-3ae01173e2c7",
   "metadata": {},
   "outputs": [
    {
     "data": {
      "text/plain": [
       "0.8331087187755222"
      ]
     },
     "execution_count": 70,
     "metadata": {},
     "output_type": "execute_result"
    }
   ],
   "source": [
    "bg_clf_best = BaggingClassifier(base_estimator = DecisionTreeClassifier(), n_estimators = 300, random_state = 0)\n",
    "bg_clf_best = bg_clf_best.fit(X_s_train, y_s_train)\n",
    "BG_f1 = f1_score(bg_clf_best.predict(X_test), y_test, average = 'weighted')\n",
    "BG_f1"
   ]
  },
  {
   "cell_type": "code",
   "execution_count": 71,
   "id": "73dc5b2f-d8ae-4ee9-8d38-17de58ecb45f",
   "metadata": {},
   "outputs": [
    {
     "name": "stdout",
     "output_type": "stream",
     "text": [
      "              precision    recall  f1-score   support\n",
      "\n",
      "           0       0.89      0.89      0.89      4843\n",
      "           1       0.65      0.67      0.66      1553\n",
      "\n",
      "    accuracy                           0.83      6396\n",
      "   macro avg       0.77      0.78      0.78      6396\n",
      "weighted avg       0.84      0.83      0.83      6396\n",
      "\n"
     ]
    }
   ],
   "source": [
    "print(classification_report(y_test,bg_clf_best.predict(X_test)))"
   ]
  },
  {
   "cell_type": "code",
   "execution_count": 72,
   "id": "f05e44c9-0ce8-466c-8467-1943b05e8eb9",
   "metadata": {},
   "outputs": [],
   "source": [
    "# As we can see from the classification report, the bagging model is fairly good at predicting zeros (income below 50k) from the dataset."
   ]
  },
  {
   "cell_type": "markdown",
   "id": "d85f20c0-b595-45e9-bb3b-3fe74764abe5",
   "metadata": {},
   "source": [
    "# Decision Tree"
   ]
  },
  {
   "cell_type": "code",
   "execution_count": 73,
   "id": "b12d68f5-21e0-46c7-a6a4-8dadd30e9bfb",
   "metadata": {},
   "outputs": [],
   "source": [
    "# params_dt = {'max_depth': [10,20,30,40,50]}\n",
    "\n",
    "# dt_clf = DecisionTreeClassifier(random_state = 0)\n",
    "\n",
    "# grid_search_dt = GridSearchCV(dt_clf, param_grid = params_dt, cv = 5, scoring = 'f1')\n",
    "\n",
    "# grid_search_dt.fit(X_s_train, y_s_train)\n",
    "\n",
    "# best_model_dt = grid_search_dt.best_estimator_\n",
    "\n",
    "# y_pred_dt = best_model_dt.predict(X_test)\n",
    "\n",
    "# f1_dt = f1_score(y_test, y_pred_dt, average = 'weighted')\n",
    "\n",
    "# print(\"Best parameters:\", grid_search_dt.best_params_)\n",
    "# print(\"F1 score:\", f1_dt)"
   ]
  },
  {
   "cell_type": "code",
   "execution_count": 74,
   "id": "30f3a0ec-8315-4f4f-b0b6-e43bea6959b0",
   "metadata": {},
   "outputs": [],
   "source": [
    "# df_gs_dt = pd.DataFrame.from_dict(grid_search_dt.cv_results_)\n",
    "# df_gs_dt.head()"
   ]
  },
  {
   "attachments": {
    "Screen%20Shot%202023-05-15%20at%202.46.52%20PM.png": {
     "image/png": "[encoded data removed]"
    }
   },
   "cell_type": "markdown",
   "id": "9a956094",
   "metadata": {},
   "source": [
    "![Screen%20Shot%202023-05-15%20at%202.46.52%20PM.png](attachment:Screen%20Shot%202023-05-15%20at%202.46.52%20PM.png)"
   ]
  },
  {
   "cell_type": "code",
   "execution_count": 75,
   "id": "ed738a9c-c347-4597-b76b-6d1703e1c3ef",
   "metadata": {},
   "outputs": [
    {
     "data": {
      "text/plain": [
       "0.8130953515362849"
      ]
     },
     "execution_count": 75,
     "metadata": {},
     "output_type": "execute_result"
    }
   ],
   "source": [
    "dt_clf_best = DecisionTreeClassifier(max_depth = 20, random_state = 0)\n",
    "dt_clf_best = dt_clf_best.fit(X_s_train, y_s_train)\n",
    "DT_f1 = f1_score(dt_clf_best.predict(X_test), y_test, average = 'weighted')\n",
    "DT_f1"
   ]
  },
  {
   "cell_type": "code",
   "execution_count": 76,
   "id": "caa8d2da-2726-4f6c-8cde-31b989b5e9ce",
   "metadata": {},
   "outputs": [
    {
     "name": "stdout",
     "output_type": "stream",
     "text": [
      "              precision    recall  f1-score   support\n",
      "\n",
      "           0       0.92      0.84      0.88      4843\n",
      "           1       0.60      0.77      0.67      1553\n",
      "\n",
      "    accuracy                           0.82      6396\n",
      "   macro avg       0.76      0.80      0.77      6396\n",
      "weighted avg       0.84      0.82      0.83      6396\n",
      "\n"
     ]
    }
   ],
   "source": [
    "print(classification_report(y_test,dt_clf_best.predict(X_test)))"
   ]
  },
  {
   "cell_type": "code",
   "execution_count": 77,
   "id": "7a8b6ec4-a624-4cb5-96c1-df0595dc9668",
   "metadata": {},
   "outputs": [],
   "source": [
    "# The decision tree model improved greatly on recall where it correctly predicted people who had income of over 50k at 71% over 64% at bagging model."
   ]
  },
  {
   "cell_type": "markdown",
   "id": "58387f6c-9744-4664-8998-2622b55094f2",
   "metadata": {},
   "source": [
    "**Multi-Layer Perceptron**"
   ]
  },
  {
   "cell_type": "code",
   "execution_count": 78,
   "id": "d799d18f-c7f4-4c3b-aab8-bf9c5ce64e41",
   "metadata": {},
   "outputs": [
    {
     "name": "stdout",
     "output_type": "stream",
     "text": [
      "Test Set F1 Score:  0.8343943508460593\n",
      "              precision    recall  f1-score   support\n",
      "\n",
      "           0       0.92      0.85      0.88      4843\n",
      "           1       0.62      0.77      0.69      1553\n",
      "\n",
      "    accuracy                           0.83      6396\n",
      "   macro avg       0.77      0.81      0.78      6396\n",
      "weighted avg       0.85      0.83      0.83      6396\n",
      "\n"
     ]
    }
   ],
   "source": [
    "from sklearn.neural_network import MLPClassifier\n",
    "\n",
    "mlp = MLPClassifier(hidden_layer_sizes=(10, 10, 10), max_iter=1000)\n",
    "\n",
    "\n",
    "mlp.fit(X_s_train, y_s_train)\n",
    "\n",
    "# Predict the test set results\n",
    "y_pred = mlp.predict(X_test)\n",
    "\n",
    "# Check the performance of the model\n",
    "\n",
    "test_f1_score = f1_score(y_test, y_pred, average='weighted')\n",
    "\n",
    "print(\"Test Set F1 Score: \", test_f1_score)\n",
    "\n",
    "report = classification_report(y_test, y_pred)\n",
    "\n",
    "print(report)\n"
   ]
  },
  {
   "cell_type": "code",
   "execution_count": 79,
   "id": "7118abb2-e7d3-4d80-b90e-aebf169b35ab",
   "metadata": {},
   "outputs": [
    {
     "name": "stdout",
     "output_type": "stream",
     "text": [
      "F1 score: 0.8343943508460593\n"
     ]
    }
   ],
   "source": [
    "f1mlp = f1_score(y_test, y_pred, average='weighted')\n",
    "print(\"F1 score:\", f1mlp)\n"
   ]
  },
  {
   "cell_type": "code",
   "execution_count": 80,
   "id": "f4808d87-a579-425e-9d79-0f9b08c2f480",
   "metadata": {},
   "outputs": [
    {
     "name": "stdout",
     "output_type": "stream",
     "text": [
      "              precision    recall  f1-score   support\n",
      "\n",
      "           0       0.92      0.85      0.88      4843\n",
      "           1       0.62      0.77      0.69      1553\n",
      "\n",
      "    accuracy                           0.83      6396\n",
      "   macro avg       0.77      0.81      0.78      6396\n",
      "weighted avg       0.85      0.83      0.83      6396\n",
      "\n"
     ]
    }
   ],
   "source": [
    "print(classification_report(y_test,mlp.predict(X_test)))"
   ]
  },
  {
   "cell_type": "code",
   "execution_count": 81,
   "id": "9eed3f29-2daf-4b60-ac4c-3ce7ad020057",
   "metadata": {},
   "outputs": [],
   "source": [
    "# # MLP hyperparameter grid\n",
    "# param_grid = {\n",
    "#     'hidden_layer_sizes': [(10,10), (25,25), (50, 50)],\n",
    "#     'alpha': [0.0001, 0.001, 0.01],\n",
    "#     'max_iter': [300]\n",
    "# }\n",
    "\n",
    "# # Create an MLP classifier\n",
    "# mlp = MLPClassifier(random_state=0)\n",
    "\n",
    "# # Create a custom scorer using f1_score\n",
    "# f1_scorer = make_scorer(f1_score, average='weighted')\n",
    "\n",
    "# # Create the grid search object\n",
    "# grid_searchMLP = GridSearchCV(estimator=mlp, param_grid=param_grid, scoring=f1_scorer, cv=5)\n",
    "\n",
    "# # Perform the grid search on the training data\n",
    "# grid_searchMLP.fit(X_s_train, y_s_train)\n",
    "\n",
    "# # Get the best parameters and the corresponding score\n",
    "# best_params = grid_searchMLP.best_params_\n",
    "# best_score = grid_searchMLP.best_score_\n",
    "\n",
    "# # Print the best parameters and score\n",
    "# print(\"Best Parameters: \", best_params)\n",
    "# print(\"Best Score (F1): \", best_score)\n",
    "\n",
    "# # Evaluate the model on the test set\n",
    "# y_pred = grid_searchMLP.predict(X_test_scaled)\n",
    "# test_f1_score = f1_score(y_test, y_pred, average='weighted')\n",
    "# print(\"Test Set F1 Score: \", test_f1_score)\n",
    "\n",
    "# report = classification_report(y_test, y_pred)\n",
    "# print(report)\n"
   ]
  },
  {
   "cell_type": "markdown",
   "id": "0ec5c7c6-0efd-4dc2-8dbb-6fa9f8b661c4",
   "metadata": {},
   "source": [
    "Best Parameters:  {'alpha': 0.001, 'hidden_layer_sizes': (25, 25), 'max_iter': 300}\n",
    "\n",
    "Best Score (F1):  0.8666554063053423\n",
    "\n",
    "Test Set F1 Score:  0.7034932446517811\n",
    "\n",
    "              precision    recall  f1-score   support\n",
    "\n",
    "           0       0.90      0.65      0.76      4843\n",
    "           1       0.42      0.77      0.54      1553\n",
    "\n",
    " "
   ]
  },
  {
   "cell_type": "markdown",
   "id": "9c72f1bd-c5a0-4fbc-90ff-ef34754b3bbb",
   "metadata": {},
   "source": [
    "Cross Validation Results:\n",
    "\n",
    "Best Parameters:  {'alpha': 0.001, 'hidden_layer_sizes': (25, 25), 'max_iter': 300}\n",
    "Best Score (F1):  0.8666554063053423\n",
    "Test Set F1 Score:  0.7034932446517811\n",
    "              precision    recall  f1-score   support\n",
    "\n",
    "           0       0.90      0.65      0.76      4843\n",
    "           1       0.42      0.77      0.54      1553\n",
    "\n",
    "    accuracy                           0.68      6396\n",
    "\n"
   ]
  },
  {
   "cell_type": "code",
   "execution_count": 82,
   "id": "6b061b20-a2c0-4098-a456-f1d28fd25ad6",
   "metadata": {},
   "outputs": [],
   "source": [
    "# df_MLPcv = pd.DataFrame.from_dict(grid_searchMLP.cv_results_)\n",
    "# df_MLPcv.head()"
   ]
  },
  {
   "cell_type": "markdown",
   "id": "8859a68c-7c54-49c3-bcc2-06bd2649097d",
   "metadata": {},
   "source": [
    "Best MLP Model"
   ]
  },
  {
   "cell_type": "code",
   "execution_count": 83,
   "id": "3f2cdcf2-3985-4dea-8c17-9e650eef0ceb",
   "metadata": {},
   "outputs": [
    {
     "name": "stdout",
     "output_type": "stream",
     "text": [
      "Best MLP Test Set F1 Score:  0.8317238027857752\n",
      "              precision    recall  f1-score   support\n",
      "\n",
      "           0       0.92      0.84      0.88      4843\n",
      "           1       0.61      0.78      0.68      1553\n",
      "\n",
      "    accuracy                           0.83      6396\n",
      "   macro avg       0.77      0.81      0.78      6396\n",
      "weighted avg       0.85      0.83      0.83      6396\n",
      "\n"
     ]
    }
   ],
   "source": [
    "#Best MLP Model\n",
    "\n",
    "bestmlp = MLPClassifier(alpha = 0.001, hidden_layer_sizes=(25,25), max_iter=300)\n",
    "bestmlp.fit(X_s_train, y_s_train)\n",
    "\n",
    "# Predict the test set results\n",
    "y_pred = bestmlp.predict(X_test)\n",
    "\n",
    "# Check the performance of the model\n",
    "test_f1_score = f1_score(y_test, y_pred, average='weighted')\n",
    "\n",
    "print(\"Best MLP Test Set F1 Score: \", test_f1_score)\n",
    "\n",
    "report = classification_report(y_test, y_pred)\n",
    "\n",
    "print(report)\n"
   ]
  },
  {
   "cell_type": "markdown",
   "id": "1bb743cc-6910-45bd-8b9d-ce45e306f8ba",
   "metadata": {},
   "source": [
    "# Random Forest"
   ]
  },
  {
   "cell_type": "code",
   "execution_count": 84,
   "id": "fb079ce0-1410-40d4-a285-4953aacd5c67",
   "metadata": {},
   "outputs": [],
   "source": [
    "rf = RandomForestClassifier(n_estimators=400,max_features='sqrt',random_state=0).fit(X_train, y_train)"
   ]
  },
  {
   "cell_type": "code",
   "execution_count": 85,
   "id": "f94ce753-a86f-4d9a-8427-62bdbe1669d5",
   "metadata": {},
   "outputs": [],
   "source": [
    "y_predRF = rf.predict(X_test)"
   ]
  },
  {
   "cell_type": "code",
   "execution_count": 86,
   "id": "63246b18-9826-4fcd-8ab6-254f09b56f4a",
   "metadata": {},
   "outputs": [
    {
     "name": "stdout",
     "output_type": "stream",
     "text": [
      "              precision    recall  f1-score   support\n",
      "\n",
      "           0       0.89      0.92      0.90      4843\n",
      "           1       0.72      0.63      0.67      1553\n",
      "\n",
      "    accuracy                           0.85      6396\n",
      "   macro avg       0.80      0.78      0.79      6396\n",
      "weighted avg       0.85      0.85      0.85      6396\n",
      "\n"
     ]
    }
   ],
   "source": [
    "print(classification_report(y_test, y_predRF))"
   ]
  },
  {
   "cell_type": "code",
   "execution_count": 87,
   "id": "b016b8ee-91ad-4071-bec3-fbd161b0b588",
   "metadata": {},
   "outputs": [
    {
     "name": "stdout",
     "output_type": "stream",
     "text": [
      "F1 score: 0.846940180696696\n"
     ]
    }
   ],
   "source": [
    "f1rf = f1_score(y_test, y_predRF, average='weighted')\n",
    "print(\"F1 score:\", f1rf)\n"
   ]
  },
  {
   "cell_type": "markdown",
   "id": "694fd117-1526-4357-8979-18674f037841",
   "metadata": {},
   "source": [
    "Without cross-validation, the weighted F1 score for the Random Forest is 0.84. \n",
    "From the classification report above, we can see that the model is still having a tough time with false negatives, given the recall for predicting 1's (those observations that are more than $50k)\n",
    "\n",
    "Let's see if we can improve this with parameter tuning."
   ]
  },
  {
   "cell_type": "code",
   "execution_count": 88,
   "id": "1c079ed8-8acd-4332-871d-c49db94183bc",
   "metadata": {},
   "outputs": [],
   "source": [
    "# # Random Forest hyperparameter grid\n",
    "# param_grid = {\n",
    "#     'n_estimators': [10, 50, 100, 400, 1000],\n",
    "#     'criterion': ['gini'],\n",
    "#     'max_depth': [None, 10, 20, 40],\n",
    "#     'max_features': ['sqrt']\n",
    "# }\n",
    "\n",
    "# # Create a Random Forest Classifier\n",
    "# rfc = RandomForestClassifier(random_state=0)\n",
    "\n",
    "# # Create a custom scorer using f1_score\n",
    "# f1_scorer = make_scorer(f1_score, average='weighted')\n",
    "\n",
    "# # Create the grid search object\n",
    "# grid_searchRF = GridSearchCV(estimator=rfc, param_grid=param_grid, scoring=f1_scorer, cv=5)\n",
    "\n",
    "# # Perform the grid search on the training data\n",
    "# grid_searchRF.fit(X_s_train, y_s_train)\n",
    "\n",
    "# # Get the best parameters and the corresponding score\n",
    "# best_params = grid_searchRF.best_params_\n",
    "# best_score = grid_searchRF.best_score_\n",
    "\n",
    "# # Print the best parameters and score\n",
    "# print(\"Best Parameters: \", best_params)\n",
    "# print(\"Best Score (F1): \", best_score)\n",
    "\n",
    "\n"
   ]
  },
  {
   "cell_type": "markdown",
   "id": "f779ddb5-821c-4e04-8b56-115c8a7c8fc4",
   "metadata": {},
   "source": [
    "Best Parameters:  {'criterion': 'gini', 'max_depth': 40, 'max_features': 'sqrt', 'n_estimators': 1000}\n",
    "\n",
    "Best Score (F1):  0.8900461931775352"
   ]
  },
  {
   "cell_type": "code",
   "execution_count": 89,
   "id": "a40dc099-a0ea-4fda-963c-9ac4e0087ba0",
   "metadata": {},
   "outputs": [],
   "source": [
    "# df_RFcv = pd.DataFrame.from_dict(grid_searchRF.cv_results_)\n",
    "# df_RFcv.head()"
   ]
  },
  {
   "cell_type": "code",
   "execution_count": 90,
   "id": "a270c524-a971-456b-83fc-2ddc3adac0cb",
   "metadata": {},
   "outputs": [],
   "source": [
    "# # Evaluate the model on the test set\n",
    "# y_pred = grid_searchRF.predict(X_test)\n",
    "# test_f1_score = f1_score(y_test, y_pred, average='weighted')\n",
    "# print(\"Test Set F1 Score: \", test_f1_score)\n",
    "\n",
    "# report = classification_report(y_test, y_pred)\n",
    "# print(report)"
   ]
  },
  {
   "cell_type": "markdown",
   "id": "96219282-5115-492e-81fa-c1112f65c9d6",
   "metadata": {},
   "source": [
    "Test Set F1 Score:  0.8399585113438829\n",
    "\n",
    "              precision    recall  f1-score   support\n",
    "\n",
    "           0       0.90      0.89      0.89      4843\n",
    "           1       0.66      0.68      0.67      1553\n",
    "\n"
   ]
  },
  {
   "cell_type": "markdown",
   "id": "9e014de2-fbff-415a-a53c-180ac4904643",
   "metadata": {},
   "source": [
    "**Best Random Forest Model**"
   ]
  },
  {
   "cell_type": "code",
   "execution_count": 96,
   "id": "7afc21bb-94ae-44c8-ba0e-9daab5625503",
   "metadata": {},
   "outputs": [
    {
     "name": "stdout",
     "output_type": "stream",
     "text": [
      "F1 score: 0.8469192898133088\n"
     ]
    }
   ],
   "source": [
    "rf = RandomForestClassifier(n_estimators=1000, max_features='sqrt', max_depth = 40, criterion = 'gini', random_state=0).fit(X_train, y_train)\n",
    "y_predRF = rf.predict(X_test)\n",
    "\n",
    "f1rf = f1_score(y_test, y_predRF, average='weighted')\n",
    "print(\"F1 score:\", f1rf)\n"
   ]
  },
  {
   "cell_type": "markdown",
   "id": "ec74f764-4f8c-4b6f-a7e4-db033f71e547",
   "metadata": {},
   "source": [
    "# Boosting"
   ]
  },
  {
   "cell_type": "markdown",
   "id": "3cea0156-5df7-4937-9f42-b99568aa0c01",
   "metadata": {},
   "source": [
    "We build, train, test and compare four different Boosting Classifiers, as some have features which offer greater efficiency (XGBoost), help in classifying data with weak predictors (CatBoost) or support adaptive re-weighting that might be useful in picking up nuanced differences between observations in the training data (AdaBoost)."
   ]
  },
  {
   "cell_type": "code",
   "execution_count": 97,
   "id": "dfa88cb1-0599-456b-8942-7164361354d9",
   "metadata": {},
   "outputs": [],
   "source": [
    "#!pip install xgboost\n",
    "#!pip install catboost"
   ]
  },
  {
   "cell_type": "code",
   "execution_count": 98,
   "id": "56c5570c-98cb-42fe-ab4c-0dc2182efeb3",
   "metadata": {},
   "outputs": [
    {
     "name": "stderr",
     "output_type": "stream",
     "text": [
      "C:\\Users\\bhave\\anaconda3\\lib\\site-packages\\xgboost\\sklearn.py:1395: UserWarning: `use_label_encoder` is deprecated in 1.7.0.\n",
      "  warnings.warn(\"`use_label_encoder` is deprecated in 1.7.0.\")\n"
     ]
    },
    {
     "name": "stdout",
     "output_type": "stream",
     "text": [
      "              precision    recall  f1-score   support\n",
      "\n",
      "           0       0.92      0.86      0.89      4843\n",
      "           1       0.64      0.78      0.71      1553\n",
      "\n",
      "    accuracy                           0.84      6396\n",
      "   macro avg       0.78      0.82      0.80      6396\n",
      "weighted avg       0.86      0.84      0.85      6396\n",
      "\n",
      "Boost F1 Score: 84.71661140685836%\n",
      "              precision    recall  f1-score   support\n",
      "\n",
      "           0       0.92      0.89      0.90      4843\n",
      "           1       0.68      0.76      0.72      1553\n",
      "\n",
      "    accuracy                           0.86      6396\n",
      "   macro avg       0.80      0.82      0.81      6396\n",
      "weighted avg       0.86      0.86      0.86      6396\n",
      "\n",
      "XGBoost F1 Score: 85.80352260017598%\n",
      "              precision    recall  f1-score   support\n",
      "\n",
      "           0       0.92      0.88      0.90      4843\n",
      "           1       0.67      0.77      0.72      1553\n",
      "\n",
      "    accuracy                           0.85      6396\n",
      "   macro avg       0.80      0.82      0.81      6396\n",
      "weighted avg       0.86      0.85      0.86      6396\n",
      "\n",
      "CatBoost F1 Score: 85.62112612350968%\n",
      "              precision    recall  f1-score   support\n",
      "\n",
      "           0       0.92      0.86      0.89      4843\n",
      "           1       0.64      0.78      0.70      1553\n",
      "\n",
      "    accuracy                           0.84      6396\n",
      "   macro avg       0.78      0.82      0.80      6396\n",
      "weighted avg       0.86      0.84      0.85      6396\n",
      "\n",
      "AdaBoost F1 Score: 84.59705630447831%\n"
     ]
    }
   ],
   "source": [
    "from xgboost import XGBClassifier\n",
    "from catboost import CatBoostClassifier\n",
    "from sklearn.ensemble import AdaBoostClassifier\n",
    "\n",
    "\n",
    "classifiers = {\n",
    "    \"Boost\": GradientBoostingClassifier(n_estimators=250,max_depth=3,learning_rate=0.1,random_state=0),\n",
    "    \"XGBoost\": XGBClassifier(use_label_encoder=False, eval_metric='mlogloss',random_state=0),\n",
    "    \"CatBoost\": CatBoostClassifier(verbose=0, n_estimators=250,random_state=0),\n",
    "    \"AdaBoost\": AdaBoostClassifier(n_estimators=250,random_state=0),\n",
    "}\n",
    "\n",
    "\n",
    "for key, classifier in classifiers.items():\n",
    "    classifier.fit(X_s_train, y_s_train)\n",
    "    y_pred = classifier.predict(X_test)\n",
    "    f1 = f1_score(y_test, y_pred, average='weighted')  \n",
    "    print(classification_report(y_test, y_pred))\n",
    "    print(f\"{key} F1 Score: {f1 * 100.0}%\")\n"
   ]
  },
  {
   "cell_type": "code",
   "execution_count": 99,
   "id": "b8e7a391-f16f-40ee-b750-2f128392d182",
   "metadata": {
    "tags": []
   },
   "outputs": [],
   "source": [
    "\n",
    "# #Ran for almost 40 mins\n",
    "\n",
    "# #parameters for grid search\n",
    "\n",
    "# boost_params = {\n",
    "#     'n_estimators': [100, 200, 500],\n",
    "#     'learning_rate': [0.01, 0.05, 0.1],\n",
    "#     'max_depth': [3, 5, 7],\n",
    "# }\n",
    "\n",
    "\n",
    "# xgb_params = {\n",
    "#     'n_estimators': [100, 200, 500],\n",
    "#     'learning_rate': [0.01, 0.05, 0.1],\n",
    "#     'max_depth': [3, 5, 7],\n",
    "# }\n",
    "\n",
    "# cat_params = {\n",
    "#     'iterations': [100, 200, 500],\n",
    "#     'learning_rate': [0.01, 0.05, 0.1],\n",
    "#     'depth': [3, 5, 7],\n",
    "# }\n",
    "\n",
    "# ada_params = {\n",
    "#     'n_estimators': [50, 100, 200],\n",
    "#     'learning_rate': [0.01, 0.05, 0.1],\n",
    "# }\n",
    "\n",
    "# classifiers = {\n",
    "#     \"Boost\": (GradientBoostingClassifier(random_state=0), boost_params),\n",
    "#     \"XGBoost\": (XGBClassifier(use_label_encoder=False,random_state=0), xgb_params),\n",
    "#     \"CatBoost\": (CatBoostClassifier(verbose=0,random_state=0), cat_params),\n",
    "#     \"AdaBoost\": (AdaBoostClassifier(random_state=0), ada_params),\n",
    "# }\n",
    "\n",
    "# # Fit the models and print results\n",
    "# for key, (classifier, params) in classifiers.items():\n",
    "#     grid_boost = GridSearchCV(estimator=classifier, param_grid=params, cv=5, scoring='f1_weighted')\n",
    "#     grid_boost.fit(X_s_train, y_s_train)\n",
    "#     print(f\"{key} Best Parameters: {grid_boost.best_params_}\" )\n",
    "#     print(f\"{key} Best F1 Score: {grid_boost.best_score_}\")\n"
   ]
  },
  {
   "cell_type": "code",
   "execution_count": 100,
   "id": "07cdc360-f44e-44df-b3cb-669eb013732a",
   "metadata": {},
   "outputs": [],
   "source": [
    "# # Evaluate the model on the test set\n",
    "# y_pred = grid_boost.predict(X_test)\n",
    "# test_f1_score = f1_score(y_test, y_pred, average='weighted')\n",
    "# print(\"Test Set F1 Score: \", test_f1_score)\n",
    "\n",
    "# report = classification_report(y_test, y_pred)\n",
    "# print(report)"
   ]
  },
  {
   "cell_type": "code",
   "execution_count": 101,
   "id": "5c54c255-87e9-4faa-ae0a-d1d9acd6a8fc",
   "metadata": {},
   "outputs": [],
   "source": [
    "# df_Boostcv = pd.DataFrame.from_dict(grid_boost.cv_results_)\n",
    "# df_Boostcv.head()"
   ]
  },
  {
   "cell_type": "markdown",
   "id": "cb560a11-b508-4a44-a161-27ef8c46bb39",
   "metadata": {},
   "source": [
    "Test Set F1 Score:  0.8212750811696571\n",
    "\n",
    "              precision    recall  f1-score   support\n",
    "\n",
    "           0       0.93      0.81      0.87      4843\n",
    "           1       0.58      0.82      0.68      1553\n",
    "\n",
    "\n",
    "\n",
    "Boost Best Parameters: {'learning_rate': 0.1, 'max_depth': 7, 'n_estimators': 500}\n",
    "\n",
    "Boost Best F1 Score: 0.8926342770512428\n",
    "\n",
    "XGBoost Best Parameters: {'learning_rate': 0.1, 'max_depth': 7, 'n_estimators': 500}\n",
    "\n",
    "XGBoost Best F1 Score: 0.892788312044576\n",
    "\n",
    "CatBoost Best Parameters: {'depth': 7, 'iterations': 500, 'learning_rate': 0.1}\n",
    "\n",
    "CatBoost Best F1 Score: 0.8908227865996807\n",
    "\n",
    "AdaBoost Best Parameters: {'learning_rate': 0.1, 'n_estimators': 200}\n",
    "\n",
    "AdaBoost Best F1 Score: 0.8498994485534151"
   ]
  },
  {
   "cell_type": "code",
   "execution_count": 118,
   "id": "3e85ff27-9d74-4ad3-bb46-16a659e62976",
   "metadata": {
    "collapsed": true,
    "jupyter": {
     "outputs_hidden": true
    },
    "tags": []
   },
   "outputs": [
    {
     "name": "stdout",
     "output_type": "stream",
     "text": [
      "              precision    recall  f1-score   support\n",
      "\n",
      "           0       0.91      0.89      0.90      4843\n",
      "           1       0.69      0.73      0.71      1553\n",
      "\n",
      "    accuracy                           0.85      6396\n",
      "   macro avg       0.80      0.81      0.81      6396\n",
      "weighted avg       0.86      0.85      0.86      6396\n",
      "\n",
      "Boosting F1 Score: 85.54293901756327%\n",
      "              precision    recall  f1-score   support\n",
      "\n",
      "           0       0.92      0.89      0.90      4843\n",
      "           1       0.69      0.75      0.72      1553\n",
      "\n",
      "    accuracy                           0.86      6396\n",
      "   macro avg       0.80      0.82      0.81      6396\n",
      "weighted avg       0.86      0.86      0.86      6396\n",
      "\n",
      "XGBoost F1 Score: 85.8605897327246%\n",
      "0:\tlearn: 0.6105390\ttotal: 18.8ms\tremaining: 9.38s\n",
      "1:\tlearn: 0.5572221\ttotal: 39.8ms\tremaining: 9.92s\n",
      "2:\tlearn: 0.5152413\ttotal: 60.6ms\tremaining: 10s\n",
      "3:\tlearn: 0.4835566\ttotal: 81.8ms\tremaining: 10.1s\n",
      "4:\tlearn: 0.4634539\ttotal: 104ms\tremaining: 10.3s\n",
      "5:\tlearn: 0.4411783\ttotal: 126ms\tremaining: 10.4s\n",
      "6:\tlearn: 0.4269354\ttotal: 148ms\tremaining: 10.4s\n",
      "7:\tlearn: 0.4163424\ttotal: 170ms\tremaining: 10.4s\n",
      "8:\tlearn: 0.4074895\ttotal: 194ms\tremaining: 10.6s\n",
      "9:\tlearn: 0.3904867\ttotal: 216ms\tremaining: 10.6s\n",
      "10:\tlearn: 0.3838928\ttotal: 239ms\tremaining: 10.6s\n",
      "11:\tlearn: 0.3723846\ttotal: 259ms\tremaining: 10.6s\n",
      "12:\tlearn: 0.3666436\ttotal: 279ms\tremaining: 10.5s\n",
      "13:\tlearn: 0.3614341\ttotal: 299ms\tremaining: 10.4s\n",
      "14:\tlearn: 0.3557787\ttotal: 319ms\tremaining: 10.3s\n",
      "15:\tlearn: 0.3515946\ttotal: 339ms\tremaining: 10.3s\n",
      "16:\tlearn: 0.3477962\ttotal: 359ms\tremaining: 10.2s\n",
      "17:\tlearn: 0.3432618\ttotal: 379ms\tremaining: 10.2s\n",
      "18:\tlearn: 0.3403235\ttotal: 400ms\tremaining: 10.1s\n",
      "19:\tlearn: 0.3366834\ttotal: 424ms\tremaining: 10.2s\n",
      "20:\tlearn: 0.3339544\ttotal: 444ms\tremaining: 10.1s\n",
      "21:\tlearn: 0.3318526\ttotal: 463ms\tremaining: 10.1s\n",
      "22:\tlearn: 0.3296736\ttotal: 485ms\tremaining: 10.1s\n",
      "23:\tlearn: 0.3278046\ttotal: 506ms\tremaining: 10s\n",
      "24:\tlearn: 0.3249791\ttotal: 526ms\tremaining: 10s\n",
      "25:\tlearn: 0.3230819\ttotal: 546ms\tremaining: 9.96s\n",
      "26:\tlearn: 0.3213277\ttotal: 566ms\tremaining: 9.91s\n",
      "27:\tlearn: 0.3197608\ttotal: 587ms\tremaining: 9.89s\n",
      "28:\tlearn: 0.3177251\ttotal: 609ms\tremaining: 9.88s\n",
      "29:\tlearn: 0.3162975\ttotal: 634ms\tremaining: 9.93s\n",
      "30:\tlearn: 0.3136742\ttotal: 663ms\tremaining: 10s\n",
      "31:\tlearn: 0.3112811\ttotal: 692ms\tremaining: 10.1s\n",
      "32:\tlearn: 0.3099023\ttotal: 722ms\tremaining: 10.2s\n",
      "33:\tlearn: 0.3086341\ttotal: 747ms\tremaining: 10.2s\n",
      "34:\tlearn: 0.3074893\ttotal: 772ms\tremaining: 10.3s\n",
      "35:\tlearn: 0.3065133\ttotal: 802ms\tremaining: 10.3s\n",
      "36:\tlearn: 0.3055445\ttotal: 832ms\tremaining: 10.4s\n",
      "37:\tlearn: 0.3045221\ttotal: 860ms\tremaining: 10.5s\n",
      "38:\tlearn: 0.3035772\ttotal: 888ms\tremaining: 10.5s\n",
      "39:\tlearn: 0.3026790\ttotal: 916ms\tremaining: 10.5s\n",
      "40:\tlearn: 0.3009573\ttotal: 940ms\tremaining: 10.5s\n",
      "41:\tlearn: 0.2998934\ttotal: 965ms\tremaining: 10.5s\n",
      "42:\tlearn: 0.2992187\ttotal: 995ms\tremaining: 10.6s\n",
      "43:\tlearn: 0.2984719\ttotal: 1.02s\tremaining: 10.6s\n",
      "44:\tlearn: 0.2972334\ttotal: 1.04s\tremaining: 10.5s\n",
      "45:\tlearn: 0.2964916\ttotal: 1.07s\tremaining: 10.5s\n",
      "46:\tlearn: 0.2951465\ttotal: 1.09s\tremaining: 10.5s\n",
      "47:\tlearn: 0.2937706\ttotal: 1.11s\tremaining: 10.4s\n",
      "48:\tlearn: 0.2930804\ttotal: 1.13s\tremaining: 10.4s\n",
      "49:\tlearn: 0.2922361\ttotal: 1.15s\tremaining: 10.4s\n",
      "50:\tlearn: 0.2916035\ttotal: 1.17s\tremaining: 10.3s\n",
      "51:\tlearn: 0.2909353\ttotal: 1.19s\tremaining: 10.3s\n",
      "52:\tlearn: 0.2904157\ttotal: 1.21s\tremaining: 10.2s\n",
      "53:\tlearn: 0.2895982\ttotal: 1.24s\tremaining: 10.2s\n",
      "54:\tlearn: 0.2888653\ttotal: 1.26s\tremaining: 10.2s\n",
      "55:\tlearn: 0.2882405\ttotal: 1.28s\tremaining: 10.2s\n",
      "56:\tlearn: 0.2874368\ttotal: 1.3s\tremaining: 10.1s\n",
      "57:\tlearn: 0.2867589\ttotal: 1.32s\tremaining: 10.1s\n",
      "58:\tlearn: 0.2856767\ttotal: 1.34s\tremaining: 10s\n",
      "59:\tlearn: 0.2848963\ttotal: 1.36s\tremaining: 9.98s\n",
      "60:\tlearn: 0.2843645\ttotal: 1.38s\tremaining: 9.94s\n",
      "61:\tlearn: 0.2814713\ttotal: 1.4s\tremaining: 9.9s\n",
      "62:\tlearn: 0.2800782\ttotal: 1.42s\tremaining: 9.87s\n",
      "63:\tlearn: 0.2791808\ttotal: 1.45s\tremaining: 9.86s\n",
      "64:\tlearn: 0.2779222\ttotal: 1.47s\tremaining: 9.83s\n",
      "65:\tlearn: 0.2774824\ttotal: 1.49s\tremaining: 9.82s\n",
      "66:\tlearn: 0.2762487\ttotal: 1.51s\tremaining: 9.78s\n",
      "67:\tlearn: 0.2756824\ttotal: 1.53s\tremaining: 9.75s\n",
      "68:\tlearn: 0.2752143\ttotal: 1.55s\tremaining: 9.71s\n",
      "69:\tlearn: 0.2745816\ttotal: 1.57s\tremaining: 9.67s\n",
      "70:\tlearn: 0.2741570\ttotal: 1.59s\tremaining: 9.63s\n",
      "71:\tlearn: 0.2735017\ttotal: 1.61s\tremaining: 9.6s\n",
      "72:\tlearn: 0.2732096\ttotal: 1.64s\tremaining: 9.57s\n",
      "73:\tlearn: 0.2728288\ttotal: 1.66s\tremaining: 9.58s\n",
      "74:\tlearn: 0.2720048\ttotal: 1.69s\tremaining: 9.6s\n",
      "75:\tlearn: 0.2714593\ttotal: 1.72s\tremaining: 9.59s\n",
      "76:\tlearn: 0.2710639\ttotal: 1.74s\tremaining: 9.58s\n",
      "77:\tlearn: 0.2707089\ttotal: 1.77s\tremaining: 9.57s\n",
      "78:\tlearn: 0.2702211\ttotal: 1.79s\tremaining: 9.54s\n",
      "79:\tlearn: 0.2698565\ttotal: 1.81s\tremaining: 9.52s\n",
      "80:\tlearn: 0.2692200\ttotal: 1.83s\tremaining: 9.49s\n",
      "81:\tlearn: 0.2689025\ttotal: 1.86s\tremaining: 9.47s\n",
      "82:\tlearn: 0.2685558\ttotal: 1.88s\tremaining: 9.45s\n",
      "83:\tlearn: 0.2679108\ttotal: 1.91s\tremaining: 9.44s\n",
      "84:\tlearn: 0.2669942\ttotal: 1.93s\tremaining: 9.44s\n",
      "85:\tlearn: 0.2665314\ttotal: 1.96s\tremaining: 9.43s\n",
      "86:\tlearn: 0.2650410\ttotal: 1.98s\tremaining: 9.42s\n",
      "87:\tlearn: 0.2647683\ttotal: 2.01s\tremaining: 9.42s\n",
      "88:\tlearn: 0.2643651\ttotal: 2.04s\tremaining: 9.43s\n",
      "89:\tlearn: 0.2639410\ttotal: 2.07s\tremaining: 9.42s\n",
      "90:\tlearn: 0.2636508\ttotal: 2.1s\tremaining: 9.45s\n",
      "91:\tlearn: 0.2632156\ttotal: 2.13s\tremaining: 9.46s\n",
      "92:\tlearn: 0.2628900\ttotal: 2.16s\tremaining: 9.47s\n",
      "93:\tlearn: 0.2626422\ttotal: 2.19s\tremaining: 9.46s\n",
      "94:\tlearn: 0.2623283\ttotal: 2.22s\tremaining: 9.45s\n",
      "95:\tlearn: 0.2620479\ttotal: 2.24s\tremaining: 9.44s\n",
      "96:\tlearn: 0.2617107\ttotal: 2.26s\tremaining: 9.41s\n",
      "97:\tlearn: 0.2612125\ttotal: 2.29s\tremaining: 9.38s\n",
      "98:\tlearn: 0.2608593\ttotal: 2.31s\tremaining: 9.37s\n",
      "99:\tlearn: 0.2606494\ttotal: 2.33s\tremaining: 9.33s\n",
      "100:\tlearn: 0.2602511\ttotal: 2.35s\tremaining: 9.3s\n",
      "101:\tlearn: 0.2598881\ttotal: 2.38s\tremaining: 9.27s\n",
      "102:\tlearn: 0.2595443\ttotal: 2.4s\tremaining: 9.25s\n",
      "103:\tlearn: 0.2591909\ttotal: 2.42s\tremaining: 9.22s\n",
      "104:\tlearn: 0.2589350\ttotal: 2.44s\tremaining: 9.19s\n",
      "105:\tlearn: 0.2587074\ttotal: 2.46s\tremaining: 9.15s\n",
      "106:\tlearn: 0.2584375\ttotal: 2.48s\tremaining: 9.12s\n",
      "107:\tlearn: 0.2582472\ttotal: 2.5s\tremaining: 9.09s\n",
      "108:\tlearn: 0.2578455\ttotal: 2.53s\tremaining: 9.06s\n",
      "109:\tlearn: 0.2576327\ttotal: 2.55s\tremaining: 9.04s\n",
      "110:\tlearn: 0.2571058\ttotal: 2.57s\tremaining: 9.01s\n",
      "111:\tlearn: 0.2568173\ttotal: 2.59s\tremaining: 8.98s\n",
      "112:\tlearn: 0.2565667\ttotal: 2.61s\tremaining: 8.95s\n",
      "113:\tlearn: 0.2562180\ttotal: 2.63s\tremaining: 8.92s\n",
      "114:\tlearn: 0.2559181\ttotal: 2.65s\tremaining: 8.89s\n",
      "115:\tlearn: 0.2556701\ttotal: 2.68s\tremaining: 8.86s\n",
      "116:\tlearn: 0.2553372\ttotal: 2.7s\tremaining: 8.84s\n",
      "117:\tlearn: 0.2550150\ttotal: 2.72s\tremaining: 8.81s\n",
      "118:\tlearn: 0.2546665\ttotal: 2.74s\tremaining: 8.78s\n",
      "119:\tlearn: 0.2544112\ttotal: 2.76s\tremaining: 8.75s\n",
      "120:\tlearn: 0.2541985\ttotal: 2.79s\tremaining: 8.73s\n",
      "121:\tlearn: 0.2538433\ttotal: 2.81s\tremaining: 8.71s\n",
      "122:\tlearn: 0.2535957\ttotal: 2.83s\tremaining: 8.69s\n",
      "123:\tlearn: 0.2533282\ttotal: 2.86s\tremaining: 8.67s\n",
      "124:\tlearn: 0.2530536\ttotal: 2.88s\tremaining: 8.65s\n",
      "125:\tlearn: 0.2521715\ttotal: 2.9s\tremaining: 8.62s\n",
      "126:\tlearn: 0.2520360\ttotal: 2.92s\tremaining: 8.59s\n",
      "127:\tlearn: 0.2517690\ttotal: 2.95s\tremaining: 8.57s\n",
      "128:\tlearn: 0.2515444\ttotal: 2.97s\tremaining: 8.54s\n",
      "129:\tlearn: 0.2512631\ttotal: 3s\tremaining: 8.53s\n",
      "130:\tlearn: 0.2510435\ttotal: 3.02s\tremaining: 8.52s\n",
      "131:\tlearn: 0.2507829\ttotal: 3.05s\tremaining: 8.51s\n",
      "132:\tlearn: 0.2503883\ttotal: 3.08s\tremaining: 8.49s\n",
      "133:\tlearn: 0.2501404\ttotal: 3.1s\tremaining: 8.48s\n",
      "134:\tlearn: 0.2497706\ttotal: 3.13s\tremaining: 8.46s\n",
      "135:\tlearn: 0.2494993\ttotal: 3.16s\tremaining: 8.46s\n",
      "136:\tlearn: 0.2492709\ttotal: 3.19s\tremaining: 8.47s\n",
      "137:\tlearn: 0.2489881\ttotal: 3.23s\tremaining: 8.47s\n",
      "138:\tlearn: 0.2487624\ttotal: 3.27s\tremaining: 8.48s\n",
      "139:\tlearn: 0.2484789\ttotal: 3.29s\tremaining: 8.47s\n",
      "140:\tlearn: 0.2482275\ttotal: 3.32s\tremaining: 8.45s\n",
      "141:\tlearn: 0.2479203\ttotal: 3.35s\tremaining: 8.44s\n",
      "142:\tlearn: 0.2476611\ttotal: 3.38s\tremaining: 8.43s\n",
      "143:\tlearn: 0.2474887\ttotal: 3.4s\tremaining: 8.41s\n",
      "144:\tlearn: 0.2472583\ttotal: 3.43s\tremaining: 8.4s\n",
      "145:\tlearn: 0.2471174\ttotal: 3.45s\tremaining: 8.38s\n",
      "146:\tlearn: 0.2461877\ttotal: 3.48s\tremaining: 8.35s\n",
      "147:\tlearn: 0.2458687\ttotal: 3.5s\tremaining: 8.33s\n",
      "148:\tlearn: 0.2456194\ttotal: 3.52s\tremaining: 8.3s\n",
      "149:\tlearn: 0.2454381\ttotal: 3.54s\tremaining: 8.27s\n",
      "150:\tlearn: 0.2452729\ttotal: 3.57s\tremaining: 8.24s\n",
      "151:\tlearn: 0.2450251\ttotal: 3.59s\tremaining: 8.22s\n",
      "152:\tlearn: 0.2448028\ttotal: 3.61s\tremaining: 8.19s\n",
      "153:\tlearn: 0.2446185\ttotal: 3.63s\tremaining: 8.16s\n",
      "154:\tlearn: 0.2444244\ttotal: 3.65s\tremaining: 8.13s\n",
      "155:\tlearn: 0.2439541\ttotal: 3.67s\tremaining: 8.1s\n",
      "156:\tlearn: 0.2437541\ttotal: 3.69s\tremaining: 8.07s\n",
      "157:\tlearn: 0.2434721\ttotal: 3.71s\tremaining: 8.04s\n",
      "158:\tlearn: 0.2429258\ttotal: 3.73s\tremaining: 8.01s\n",
      "159:\tlearn: 0.2427472\ttotal: 3.75s\tremaining: 7.98s\n",
      "160:\tlearn: 0.2422327\ttotal: 3.77s\tremaining: 7.95s\n",
      "161:\tlearn: 0.2420957\ttotal: 3.79s\tremaining: 7.92s\n",
      "162:\tlearn: 0.2418173\ttotal: 3.82s\tremaining: 7.89s\n",
      "163:\tlearn: 0.2414880\ttotal: 3.84s\tremaining: 7.86s\n",
      "164:\tlearn: 0.2411897\ttotal: 3.86s\tremaining: 7.84s\n",
      "165:\tlearn: 0.2409160\ttotal: 3.88s\tremaining: 7.81s\n",
      "166:\tlearn: 0.2408056\ttotal: 3.9s\tremaining: 7.78s\n",
      "167:\tlearn: 0.2406388\ttotal: 3.92s\tremaining: 7.75s\n",
      "168:\tlearn: 0.2404445\ttotal: 3.94s\tremaining: 7.71s\n",
      "169:\tlearn: 0.2401536\ttotal: 3.96s\tremaining: 7.69s\n",
      "170:\tlearn: 0.2400044\ttotal: 3.98s\tremaining: 7.66s\n",
      "171:\tlearn: 0.2398464\ttotal: 4s\tremaining: 7.63s\n",
      "172:\tlearn: 0.2396257\ttotal: 4.02s\tremaining: 7.6s\n",
      "173:\tlearn: 0.2394634\ttotal: 4.05s\tremaining: 7.58s\n",
      "174:\tlearn: 0.2393409\ttotal: 4.07s\tremaining: 7.55s\n",
      "175:\tlearn: 0.2391747\ttotal: 4.09s\tremaining: 7.53s\n",
      "176:\tlearn: 0.2390002\ttotal: 4.11s\tremaining: 7.5s\n",
      "177:\tlearn: 0.2388352\ttotal: 4.13s\tremaining: 7.47s\n",
      "178:\tlearn: 0.2386323\ttotal: 4.15s\tremaining: 7.44s\n",
      "179:\tlearn: 0.2384311\ttotal: 4.17s\tremaining: 7.41s\n",
      "180:\tlearn: 0.2382229\ttotal: 4.19s\tremaining: 7.38s\n",
      "181:\tlearn: 0.2380003\ttotal: 4.21s\tremaining: 7.35s\n",
      "182:\tlearn: 0.2378297\ttotal: 4.23s\tremaining: 7.33s\n",
      "183:\tlearn: 0.2374464\ttotal: 4.25s\tremaining: 7.3s\n",
      "184:\tlearn: 0.2372270\ttotal: 4.27s\tremaining: 7.27s\n",
      "185:\tlearn: 0.2369544\ttotal: 4.29s\tremaining: 7.25s\n",
      "186:\tlearn: 0.2366396\ttotal: 4.31s\tremaining: 7.22s\n",
      "187:\tlearn: 0.2365233\ttotal: 4.33s\tremaining: 7.19s\n",
      "188:\tlearn: 0.2363169\ttotal: 4.35s\tremaining: 7.16s\n",
      "189:\tlearn: 0.2361308\ttotal: 4.37s\tremaining: 7.13s\n",
      "190:\tlearn: 0.2359266\ttotal: 4.39s\tremaining: 7.11s\n",
      "191:\tlearn: 0.2357664\ttotal: 4.42s\tremaining: 7.09s\n",
      "192:\tlearn: 0.2355383\ttotal: 4.45s\tremaining: 7.08s\n",
      "193:\tlearn: 0.2353529\ttotal: 4.47s\tremaining: 7.06s\n",
      "194:\tlearn: 0.2351452\ttotal: 4.5s\tremaining: 7.04s\n",
      "195:\tlearn: 0.2348834\ttotal: 4.53s\tremaining: 7.03s\n",
      "196:\tlearn: 0.2346786\ttotal: 4.56s\tremaining: 7.01s\n",
      "197:\tlearn: 0.2345239\ttotal: 4.58s\tremaining: 6.99s\n",
      "198:\tlearn: 0.2343972\ttotal: 4.61s\tremaining: 6.97s\n",
      "199:\tlearn: 0.2342928\ttotal: 4.63s\tremaining: 6.95s\n",
      "200:\tlearn: 0.2337133\ttotal: 4.66s\tremaining: 6.93s\n",
      "201:\tlearn: 0.2335663\ttotal: 4.68s\tremaining: 6.91s\n",
      "202:\tlearn: 0.2333273\ttotal: 4.71s\tremaining: 6.89s\n",
      "203:\tlearn: 0.2332105\ttotal: 4.73s\tremaining: 6.87s\n",
      "204:\tlearn: 0.2330168\ttotal: 4.76s\tremaining: 6.85s\n",
      "205:\tlearn: 0.2329004\ttotal: 4.79s\tremaining: 6.83s\n",
      "206:\tlearn: 0.2327280\ttotal: 4.81s\tremaining: 6.81s\n",
      "207:\tlearn: 0.2325225\ttotal: 4.84s\tremaining: 6.8s\n",
      "208:\tlearn: 0.2323503\ttotal: 4.87s\tremaining: 6.78s\n",
      "209:\tlearn: 0.2322064\ttotal: 4.9s\tremaining: 6.76s\n",
      "210:\tlearn: 0.2320912\ttotal: 4.92s\tremaining: 6.74s\n",
      "211:\tlearn: 0.2318806\ttotal: 4.95s\tremaining: 6.72s\n",
      "212:\tlearn: 0.2317276\ttotal: 4.97s\tremaining: 6.7s\n",
      "213:\tlearn: 0.2315671\ttotal: 4.99s\tremaining: 6.67s\n",
      "214:\tlearn: 0.2314701\ttotal: 5.01s\tremaining: 6.64s\n",
      "215:\tlearn: 0.2312841\ttotal: 5.03s\tremaining: 6.62s\n",
      "216:\tlearn: 0.2309469\ttotal: 5.05s\tremaining: 6.59s\n",
      "217:\tlearn: 0.2307613\ttotal: 5.08s\tremaining: 6.57s\n",
      "218:\tlearn: 0.2307014\ttotal: 5.1s\tremaining: 6.55s\n",
      "219:\tlearn: 0.2305692\ttotal: 5.13s\tremaining: 6.52s\n",
      "220:\tlearn: 0.2303485\ttotal: 5.15s\tremaining: 6.5s\n",
      "221:\tlearn: 0.2301028\ttotal: 5.17s\tremaining: 6.47s\n",
      "222:\tlearn: 0.2299410\ttotal: 5.19s\tremaining: 6.45s\n",
      "223:\tlearn: 0.2298090\ttotal: 5.21s\tremaining: 6.42s\n",
      "224:\tlearn: 0.2296344\ttotal: 5.23s\tremaining: 6.4s\n",
      "225:\tlearn: 0.2294728\ttotal: 5.26s\tremaining: 6.38s\n",
      "226:\tlearn: 0.2291894\ttotal: 5.29s\tremaining: 6.36s\n",
      "227:\tlearn: 0.2290073\ttotal: 5.31s\tremaining: 6.34s\n",
      "228:\tlearn: 0.2287486\ttotal: 5.34s\tremaining: 6.32s\n",
      "229:\tlearn: 0.2285869\ttotal: 5.37s\tremaining: 6.3s\n",
      "230:\tlearn: 0.2284004\ttotal: 5.39s\tremaining: 6.28s\n",
      "231:\tlearn: 0.2282511\ttotal: 5.42s\tremaining: 6.26s\n",
      "232:\tlearn: 0.2280208\ttotal: 5.44s\tremaining: 6.23s\n",
      "233:\tlearn: 0.2277256\ttotal: 5.47s\tremaining: 6.21s\n",
      "234:\tlearn: 0.2276291\ttotal: 5.49s\tremaining: 6.19s\n",
      "235:\tlearn: 0.2273968\ttotal: 5.52s\tremaining: 6.17s\n",
      "236:\tlearn: 0.2272180\ttotal: 5.55s\tremaining: 6.16s\n",
      "237:\tlearn: 0.2270508\ttotal: 5.57s\tremaining: 6.13s\n",
      "238:\tlearn: 0.2268512\ttotal: 5.59s\tremaining: 6.11s\n",
      "239:\tlearn: 0.2266127\ttotal: 5.62s\tremaining: 6.09s\n",
      "240:\tlearn: 0.2264612\ttotal: 5.64s\tremaining: 6.07s\n",
      "241:\tlearn: 0.2263100\ttotal: 5.67s\tremaining: 6.05s\n",
      "242:\tlearn: 0.2262190\ttotal: 5.71s\tremaining: 6.04s\n",
      "243:\tlearn: 0.2260704\ttotal: 5.73s\tremaining: 6.01s\n",
      "244:\tlearn: 0.2259282\ttotal: 5.76s\tremaining: 6s\n",
      "245:\tlearn: 0.2256358\ttotal: 5.79s\tremaining: 5.98s\n",
      "246:\tlearn: 0.2255444\ttotal: 5.82s\tremaining: 5.96s\n",
      "247:\tlearn: 0.2254219\ttotal: 5.84s\tremaining: 5.93s\n",
      "248:\tlearn: 0.2251494\ttotal: 5.87s\tremaining: 5.92s\n",
      "249:\tlearn: 0.2249690\ttotal: 5.9s\tremaining: 5.9s\n",
      "250:\tlearn: 0.2247911\ttotal: 5.92s\tremaining: 5.87s\n",
      "251:\tlearn: 0.2246421\ttotal: 5.95s\tremaining: 5.85s\n",
      "252:\tlearn: 0.2245013\ttotal: 5.97s\tremaining: 5.83s\n",
      "253:\tlearn: 0.2244423\ttotal: 6s\tremaining: 5.81s\n",
      "254:\tlearn: 0.2243623\ttotal: 6.03s\tremaining: 5.79s\n",
      "255:\tlearn: 0.2241857\ttotal: 6.05s\tremaining: 5.77s\n",
      "256:\tlearn: 0.2240502\ttotal: 6.08s\tremaining: 5.75s\n",
      "257:\tlearn: 0.2238510\ttotal: 6.1s\tremaining: 5.72s\n",
      "258:\tlearn: 0.2236939\ttotal: 6.13s\tremaining: 5.71s\n",
      "259:\tlearn: 0.2235781\ttotal: 6.16s\tremaining: 5.69s\n",
      "260:\tlearn: 0.2234610\ttotal: 6.19s\tremaining: 5.67s\n",
      "261:\tlearn: 0.2233357\ttotal: 6.21s\tremaining: 5.65s\n",
      "262:\tlearn: 0.2232321\ttotal: 6.24s\tremaining: 5.62s\n",
      "263:\tlearn: 0.2230623\ttotal: 6.27s\tremaining: 5.6s\n",
      "264:\tlearn: 0.2228533\ttotal: 6.29s\tremaining: 5.58s\n",
      "265:\tlearn: 0.2226370\ttotal: 6.32s\tremaining: 5.56s\n",
      "266:\tlearn: 0.2224575\ttotal: 6.34s\tremaining: 5.54s\n",
      "267:\tlearn: 0.2222939\ttotal: 6.37s\tremaining: 5.51s\n",
      "268:\tlearn: 0.2221155\ttotal: 6.39s\tremaining: 5.49s\n",
      "269:\tlearn: 0.2220483\ttotal: 6.42s\tremaining: 5.47s\n",
      "270:\tlearn: 0.2219227\ttotal: 6.45s\tremaining: 5.45s\n",
      "271:\tlearn: 0.2217771\ttotal: 6.47s\tremaining: 5.42s\n",
      "272:\tlearn: 0.2216075\ttotal: 6.5s\tremaining: 5.4s\n",
      "273:\tlearn: 0.2214676\ttotal: 6.52s\tremaining: 5.38s\n",
      "274:\tlearn: 0.2213145\ttotal: 6.55s\tremaining: 5.36s\n",
      "275:\tlearn: 0.2211945\ttotal: 6.57s\tremaining: 5.34s\n",
      "276:\tlearn: 0.2210299\ttotal: 6.6s\tremaining: 5.31s\n",
      "277:\tlearn: 0.2207423\ttotal: 6.62s\tremaining: 5.29s\n",
      "278:\tlearn: 0.2206065\ttotal: 6.65s\tremaining: 5.27s\n",
      "279:\tlearn: 0.2204762\ttotal: 6.68s\tremaining: 5.25s\n",
      "280:\tlearn: 0.2203725\ttotal: 6.7s\tremaining: 5.22s\n",
      "281:\tlearn: 0.2202159\ttotal: 6.73s\tremaining: 5.2s\n",
      "282:\tlearn: 0.2200622\ttotal: 6.76s\tremaining: 5.18s\n",
      "283:\tlearn: 0.2199317\ttotal: 6.78s\tremaining: 5.16s\n",
      "284:\tlearn: 0.2198063\ttotal: 6.81s\tremaining: 5.13s\n",
      "285:\tlearn: 0.2196967\ttotal: 6.83s\tremaining: 5.11s\n",
      "286:\tlearn: 0.2196512\ttotal: 6.85s\tremaining: 5.09s\n",
      "287:\tlearn: 0.2195328\ttotal: 6.88s\tremaining: 5.06s\n",
      "288:\tlearn: 0.2193465\ttotal: 6.9s\tremaining: 5.04s\n",
      "289:\tlearn: 0.2192052\ttotal: 6.93s\tremaining: 5.01s\n",
      "290:\tlearn: 0.2190853\ttotal: 6.95s\tremaining: 4.99s\n",
      "291:\tlearn: 0.2189496\ttotal: 6.97s\tremaining: 4.97s\n",
      "292:\tlearn: 0.2188850\ttotal: 7s\tremaining: 4.94s\n",
      "293:\tlearn: 0.2188384\ttotal: 7.03s\tremaining: 4.92s\n",
      "294:\tlearn: 0.2186342\ttotal: 7.05s\tremaining: 4.9s\n",
      "295:\tlearn: 0.2185021\ttotal: 7.08s\tremaining: 4.88s\n",
      "296:\tlearn: 0.2183674\ttotal: 7.1s\tremaining: 4.86s\n",
      "297:\tlearn: 0.2182621\ttotal: 7.14s\tremaining: 4.84s\n",
      "298:\tlearn: 0.2180834\ttotal: 7.17s\tremaining: 4.82s\n",
      "299:\tlearn: 0.2179551\ttotal: 7.2s\tremaining: 4.8s\n",
      "300:\tlearn: 0.2178922\ttotal: 7.22s\tremaining: 4.77s\n",
      "301:\tlearn: 0.2177015\ttotal: 7.25s\tremaining: 4.75s\n",
      "302:\tlearn: 0.2174510\ttotal: 7.28s\tremaining: 4.74s\n",
      "303:\tlearn: 0.2173034\ttotal: 7.31s\tremaining: 4.71s\n",
      "304:\tlearn: 0.2172186\ttotal: 7.34s\tremaining: 4.69s\n",
      "305:\tlearn: 0.2171429\ttotal: 7.36s\tremaining: 4.67s\n",
      "306:\tlearn: 0.2169410\ttotal: 7.39s\tremaining: 4.65s\n",
      "307:\tlearn: 0.2168113\ttotal: 7.42s\tremaining: 4.63s\n",
      "308:\tlearn: 0.2166475\ttotal: 7.45s\tremaining: 4.6s\n",
      "309:\tlearn: 0.2165218\ttotal: 7.48s\tremaining: 4.58s\n",
      "310:\tlearn: 0.2162564\ttotal: 7.51s\tremaining: 4.56s\n",
      "311:\tlearn: 0.2161618\ttotal: 7.53s\tremaining: 4.54s\n",
      "312:\tlearn: 0.2160051\ttotal: 7.56s\tremaining: 4.51s\n",
      "313:\tlearn: 0.2158777\ttotal: 7.58s\tremaining: 4.49s\n",
      "314:\tlearn: 0.2157269\ttotal: 7.61s\tremaining: 4.47s\n",
      "315:\tlearn: 0.2155477\ttotal: 7.64s\tremaining: 4.45s\n",
      "316:\tlearn: 0.2154851\ttotal: 7.67s\tremaining: 4.43s\n",
      "317:\tlearn: 0.2153048\ttotal: 7.69s\tremaining: 4.4s\n",
      "318:\tlearn: 0.2152119\ttotal: 7.72s\tremaining: 4.38s\n",
      "319:\tlearn: 0.2150626\ttotal: 7.75s\tremaining: 4.36s\n",
      "320:\tlearn: 0.2148886\ttotal: 7.78s\tremaining: 4.34s\n",
      "321:\tlearn: 0.2147656\ttotal: 7.8s\tremaining: 4.31s\n",
      "322:\tlearn: 0.2146039\ttotal: 7.83s\tremaining: 4.29s\n",
      "323:\tlearn: 0.2144905\ttotal: 7.86s\tremaining: 4.27s\n",
      "324:\tlearn: 0.2143120\ttotal: 7.89s\tremaining: 4.25s\n",
      "325:\tlearn: 0.2142701\ttotal: 7.92s\tremaining: 4.22s\n",
      "326:\tlearn: 0.2141769\ttotal: 7.94s\tremaining: 4.2s\n",
      "327:\tlearn: 0.2139884\ttotal: 7.97s\tremaining: 4.18s\n",
      "328:\tlearn: 0.2138789\ttotal: 7.99s\tremaining: 4.15s\n",
      "329:\tlearn: 0.2137736\ttotal: 8.02s\tremaining: 4.13s\n",
      "330:\tlearn: 0.2137167\ttotal: 8.05s\tremaining: 4.11s\n",
      "331:\tlearn: 0.2136746\ttotal: 8.07s\tremaining: 4.09s\n",
      "332:\tlearn: 0.2135501\ttotal: 8.1s\tremaining: 4.06s\n",
      "333:\tlearn: 0.2133129\ttotal: 8.13s\tremaining: 4.04s\n",
      "334:\tlearn: 0.2131852\ttotal: 8.16s\tremaining: 4.02s\n",
      "335:\tlearn: 0.2131275\ttotal: 8.19s\tremaining: 4s\n",
      "336:\tlearn: 0.2129989\ttotal: 8.21s\tremaining: 3.97s\n",
      "337:\tlearn: 0.2128398\ttotal: 8.24s\tremaining: 3.95s\n",
      "338:\tlearn: 0.2127035\ttotal: 8.27s\tremaining: 3.93s\n",
      "339:\tlearn: 0.2125519\ttotal: 8.3s\tremaining: 3.9s\n",
      "340:\tlearn: 0.2123534\ttotal: 8.33s\tremaining: 3.88s\n",
      "341:\tlearn: 0.2122152\ttotal: 8.35s\tremaining: 3.86s\n",
      "342:\tlearn: 0.2120466\ttotal: 8.38s\tremaining: 3.84s\n",
      "343:\tlearn: 0.2119073\ttotal: 8.41s\tremaining: 3.81s\n",
      "344:\tlearn: 0.2117916\ttotal: 8.43s\tremaining: 3.79s\n",
      "345:\tlearn: 0.2116637\ttotal: 8.46s\tremaining: 3.77s\n",
      "346:\tlearn: 0.2115467\ttotal: 8.49s\tremaining: 3.74s\n",
      "347:\tlearn: 0.2114527\ttotal: 8.52s\tremaining: 3.72s\n",
      "348:\tlearn: 0.2113591\ttotal: 8.55s\tremaining: 3.7s\n",
      "349:\tlearn: 0.2113037\ttotal: 8.58s\tremaining: 3.68s\n",
      "350:\tlearn: 0.2111927\ttotal: 8.61s\tremaining: 3.65s\n",
      "351:\tlearn: 0.2110874\ttotal: 8.63s\tremaining: 3.63s\n",
      "352:\tlearn: 0.2109596\ttotal: 8.66s\tremaining: 3.61s\n",
      "353:\tlearn: 0.2109165\ttotal: 8.69s\tremaining: 3.58s\n",
      "354:\tlearn: 0.2108287\ttotal: 8.72s\tremaining: 3.56s\n",
      "355:\tlearn: 0.2107202\ttotal: 8.75s\tremaining: 3.54s\n",
      "356:\tlearn: 0.2106266\ttotal: 8.78s\tremaining: 3.51s\n",
      "357:\tlearn: 0.2105095\ttotal: 8.8s\tremaining: 3.49s\n",
      "358:\tlearn: 0.2103888\ttotal: 8.83s\tremaining: 3.47s\n",
      "359:\tlearn: 0.2102476\ttotal: 8.86s\tremaining: 3.44s\n",
      "360:\tlearn: 0.2101179\ttotal: 8.89s\tremaining: 3.42s\n",
      "361:\tlearn: 0.2099577\ttotal: 8.91s\tremaining: 3.4s\n",
      "362:\tlearn: 0.2098749\ttotal: 8.94s\tremaining: 3.37s\n",
      "363:\tlearn: 0.2098073\ttotal: 8.97s\tremaining: 3.35s\n",
      "364:\tlearn: 0.2097011\ttotal: 8.99s\tremaining: 3.33s\n",
      "365:\tlearn: 0.2095657\ttotal: 9.02s\tremaining: 3.3s\n",
      "366:\tlearn: 0.2094117\ttotal: 9.05s\tremaining: 3.28s\n",
      "367:\tlearn: 0.2092917\ttotal: 9.07s\tremaining: 3.25s\n",
      "368:\tlearn: 0.2091892\ttotal: 9.09s\tremaining: 3.23s\n",
      "369:\tlearn: 0.2090825\ttotal: 9.12s\tremaining: 3.2s\n",
      "370:\tlearn: 0.2090085\ttotal: 9.14s\tremaining: 3.18s\n",
      "371:\tlearn: 0.2089080\ttotal: 9.16s\tremaining: 3.15s\n",
      "372:\tlearn: 0.2087887\ttotal: 9.19s\tremaining: 3.13s\n",
      "373:\tlearn: 0.2086630\ttotal: 9.21s\tremaining: 3.1s\n",
      "374:\tlearn: 0.2084347\ttotal: 9.24s\tremaining: 3.08s\n",
      "375:\tlearn: 0.2083446\ttotal: 9.26s\tremaining: 3.05s\n",
      "376:\tlearn: 0.2082036\ttotal: 9.28s\tremaining: 3.03s\n",
      "377:\tlearn: 0.2080990\ttotal: 9.3s\tremaining: 3s\n",
      "378:\tlearn: 0.2080236\ttotal: 9.33s\tremaining: 2.98s\n",
      "379:\tlearn: 0.2078917\ttotal: 9.36s\tremaining: 2.95s\n",
      "380:\tlearn: 0.2077691\ttotal: 9.38s\tremaining: 2.93s\n",
      "381:\tlearn: 0.2077257\ttotal: 9.41s\tremaining: 2.91s\n",
      "382:\tlearn: 0.2073999\ttotal: 9.44s\tremaining: 2.88s\n",
      "383:\tlearn: 0.2072832\ttotal: 9.47s\tremaining: 2.86s\n",
      "384:\tlearn: 0.2071965\ttotal: 9.49s\tremaining: 2.83s\n",
      "385:\tlearn: 0.2070813\ttotal: 9.52s\tremaining: 2.81s\n",
      "386:\tlearn: 0.2069702\ttotal: 9.55s\tremaining: 2.79s\n",
      "387:\tlearn: 0.2068360\ttotal: 9.57s\tremaining: 2.76s\n",
      "388:\tlearn: 0.2066655\ttotal: 9.61s\tremaining: 2.74s\n",
      "389:\tlearn: 0.2065734\ttotal: 9.65s\tremaining: 2.72s\n",
      "390:\tlearn: 0.2064748\ttotal: 9.68s\tremaining: 2.7s\n",
      "391:\tlearn: 0.2063633\ttotal: 9.71s\tremaining: 2.67s\n",
      "392:\tlearn: 0.2062510\ttotal: 9.73s\tremaining: 2.65s\n",
      "393:\tlearn: 0.2061659\ttotal: 9.77s\tremaining: 2.63s\n",
      "394:\tlearn: 0.2060147\ttotal: 9.79s\tremaining: 2.6s\n",
      "395:\tlearn: 0.2059098\ttotal: 9.81s\tremaining: 2.58s\n",
      "396:\tlearn: 0.2058568\ttotal: 9.84s\tremaining: 2.55s\n",
      "397:\tlearn: 0.2057478\ttotal: 9.86s\tremaining: 2.53s\n",
      "398:\tlearn: 0.2056622\ttotal: 9.89s\tremaining: 2.5s\n",
      "399:\tlearn: 0.2055950\ttotal: 9.91s\tremaining: 2.48s\n",
      "400:\tlearn: 0.2055259\ttotal: 9.93s\tremaining: 2.45s\n",
      "401:\tlearn: 0.2054545\ttotal: 9.95s\tremaining: 2.43s\n",
      "402:\tlearn: 0.2053426\ttotal: 9.98s\tremaining: 2.4s\n",
      "403:\tlearn: 0.2053055\ttotal: 10s\tremaining: 2.38s\n",
      "404:\tlearn: 0.2052260\ttotal: 10s\tremaining: 2.35s\n",
      "405:\tlearn: 0.2051127\ttotal: 10s\tremaining: 2.33s\n",
      "406:\tlearn: 0.2050604\ttotal: 10.1s\tremaining: 2.3s\n",
      "407:\tlearn: 0.2049222\ttotal: 10.1s\tremaining: 2.28s\n",
      "408:\tlearn: 0.2048353\ttotal: 10.1s\tremaining: 2.25s\n",
      "409:\tlearn: 0.2047369\ttotal: 10.2s\tremaining: 2.23s\n",
      "410:\tlearn: 0.2046395\ttotal: 10.2s\tremaining: 2.2s\n",
      "411:\tlearn: 0.2045190\ttotal: 10.2s\tremaining: 2.18s\n",
      "412:\tlearn: 0.2043945\ttotal: 10.2s\tremaining: 2.15s\n",
      "413:\tlearn: 0.2042485\ttotal: 10.2s\tremaining: 2.13s\n",
      "414:\tlearn: 0.2041510\ttotal: 10.3s\tremaining: 2.1s\n",
      "415:\tlearn: 0.2040532\ttotal: 10.3s\tremaining: 2.08s\n",
      "416:\tlearn: 0.2039499\ttotal: 10.3s\tremaining: 2.05s\n",
      "417:\tlearn: 0.2038587\ttotal: 10.3s\tremaining: 2.03s\n",
      "418:\tlearn: 0.2038173\ttotal: 10.4s\tremaining: 2s\n",
      "419:\tlearn: 0.2035602\ttotal: 10.4s\tremaining: 1.98s\n",
      "420:\tlearn: 0.2034833\ttotal: 10.4s\tremaining: 1.95s\n",
      "421:\tlearn: 0.2033701\ttotal: 10.4s\tremaining: 1.93s\n",
      "422:\tlearn: 0.2032909\ttotal: 10.4s\tremaining: 1.9s\n",
      "423:\tlearn: 0.2032100\ttotal: 10.5s\tremaining: 1.88s\n",
      "424:\tlearn: 0.2031304\ttotal: 10.5s\tremaining: 1.85s\n",
      "425:\tlearn: 0.2030285\ttotal: 10.5s\tremaining: 1.82s\n",
      "426:\tlearn: 0.2029394\ttotal: 10.5s\tremaining: 1.8s\n",
      "427:\tlearn: 0.2027642\ttotal: 10.5s\tremaining: 1.77s\n",
      "428:\tlearn: 0.2026637\ttotal: 10.6s\tremaining: 1.75s\n",
      "429:\tlearn: 0.2026163\ttotal: 10.6s\tremaining: 1.73s\n",
      "430:\tlearn: 0.2024692\ttotal: 10.6s\tremaining: 1.7s\n",
      "431:\tlearn: 0.2023418\ttotal: 10.6s\tremaining: 1.68s\n",
      "432:\tlearn: 0.2022128\ttotal: 10.7s\tremaining: 1.65s\n",
      "433:\tlearn: 0.2020645\ttotal: 10.7s\tremaining: 1.63s\n",
      "434:\tlearn: 0.2019902\ttotal: 10.7s\tremaining: 1.6s\n",
      "435:\tlearn: 0.2018576\ttotal: 10.7s\tremaining: 1.57s\n",
      "436:\tlearn: 0.2017134\ttotal: 10.7s\tremaining: 1.55s\n",
      "437:\tlearn: 0.2016506\ttotal: 10.8s\tremaining: 1.52s\n",
      "438:\tlearn: 0.2015205\ttotal: 10.8s\tremaining: 1.5s\n",
      "439:\tlearn: 0.2014569\ttotal: 10.8s\tremaining: 1.47s\n",
      "440:\tlearn: 0.2012945\ttotal: 10.8s\tremaining: 1.45s\n",
      "441:\tlearn: 0.2011931\ttotal: 10.9s\tremaining: 1.42s\n",
      "442:\tlearn: 0.2010574\ttotal: 10.9s\tremaining: 1.4s\n",
      "443:\tlearn: 0.2009479\ttotal: 10.9s\tremaining: 1.38s\n",
      "444:\tlearn: 0.2008386\ttotal: 10.9s\tremaining: 1.35s\n",
      "445:\tlearn: 0.2007450\ttotal: 10.9s\tremaining: 1.32s\n",
      "446:\tlearn: 0.2006519\ttotal: 11s\tremaining: 1.3s\n",
      "447:\tlearn: 0.2004792\ttotal: 11s\tremaining: 1.27s\n",
      "448:\tlearn: 0.2003507\ttotal: 11s\tremaining: 1.25s\n",
      "449:\tlearn: 0.2001672\ttotal: 11s\tremaining: 1.23s\n",
      "450:\tlearn: 0.2000894\ttotal: 11s\tremaining: 1.2s\n",
      "451:\tlearn: 0.1999668\ttotal: 11.1s\tremaining: 1.18s\n",
      "452:\tlearn: 0.1998091\ttotal: 11.1s\tremaining: 1.15s\n",
      "453:\tlearn: 0.1997183\ttotal: 11.1s\tremaining: 1.13s\n",
      "454:\tlearn: 0.1996372\ttotal: 11.1s\tremaining: 1.1s\n",
      "455:\tlearn: 0.1995349\ttotal: 11.2s\tremaining: 1.08s\n",
      "456:\tlearn: 0.1994282\ttotal: 11.2s\tremaining: 1.05s\n",
      "457:\tlearn: 0.1993501\ttotal: 11.2s\tremaining: 1.03s\n",
      "458:\tlearn: 0.1992344\ttotal: 11.2s\tremaining: 1s\n",
      "459:\tlearn: 0.1991301\ttotal: 11.2s\tremaining: 978ms\n",
      "460:\tlearn: 0.1990715\ttotal: 11.3s\tremaining: 953ms\n",
      "461:\tlearn: 0.1990385\ttotal: 11.3s\tremaining: 928ms\n",
      "462:\tlearn: 0.1989571\ttotal: 11.3s\tremaining: 903ms\n",
      "463:\tlearn: 0.1988303\ttotal: 11.3s\tremaining: 879ms\n",
      "464:\tlearn: 0.1987581\ttotal: 11.3s\tremaining: 854ms\n",
      "465:\tlearn: 0.1986892\ttotal: 11.4s\tremaining: 829ms\n",
      "466:\tlearn: 0.1986244\ttotal: 11.4s\tremaining: 805ms\n",
      "467:\tlearn: 0.1984682\ttotal: 11.4s\tremaining: 780ms\n",
      "468:\tlearn: 0.1983869\ttotal: 11.4s\tremaining: 756ms\n",
      "469:\tlearn: 0.1983162\ttotal: 11.5s\tremaining: 731ms\n",
      "470:\tlearn: 0.1982557\ttotal: 11.5s\tremaining: 706ms\n",
      "471:\tlearn: 0.1981692\ttotal: 11.5s\tremaining: 682ms\n",
      "472:\tlearn: 0.1980318\ttotal: 11.5s\tremaining: 657ms\n",
      "473:\tlearn: 0.1979083\ttotal: 11.5s\tremaining: 633ms\n",
      "474:\tlearn: 0.1978310\ttotal: 11.6s\tremaining: 608ms\n",
      "475:\tlearn: 0.1977125\ttotal: 11.6s\tremaining: 584ms\n",
      "476:\tlearn: 0.1976263\ttotal: 11.6s\tremaining: 559ms\n",
      "477:\tlearn: 0.1975465\ttotal: 11.6s\tremaining: 535ms\n",
      "478:\tlearn: 0.1974289\ttotal: 11.6s\tremaining: 510ms\n",
      "479:\tlearn: 0.1973272\ttotal: 11.7s\tremaining: 486ms\n",
      "480:\tlearn: 0.1972207\ttotal: 11.7s\tremaining: 461ms\n",
      "481:\tlearn: 0.1971750\ttotal: 11.7s\tremaining: 437ms\n",
      "482:\tlearn: 0.1970191\ttotal: 11.7s\tremaining: 413ms\n",
      "483:\tlearn: 0.1969258\ttotal: 11.7s\tremaining: 388ms\n",
      "484:\tlearn: 0.1968031\ttotal: 11.8s\tremaining: 364ms\n",
      "485:\tlearn: 0.1967196\ttotal: 11.8s\tremaining: 340ms\n",
      "486:\tlearn: 0.1966237\ttotal: 11.8s\tremaining: 315ms\n",
      "487:\tlearn: 0.1964086\ttotal: 11.8s\tremaining: 291ms\n",
      "488:\tlearn: 0.1962896\ttotal: 11.8s\tremaining: 267ms\n",
      "489:\tlearn: 0.1962192\ttotal: 11.9s\tremaining: 242ms\n",
      "490:\tlearn: 0.1961218\ttotal: 11.9s\tremaining: 218ms\n",
      "491:\tlearn: 0.1959907\ttotal: 11.9s\tremaining: 194ms\n",
      "492:\tlearn: 0.1959366\ttotal: 11.9s\tremaining: 169ms\n",
      "493:\tlearn: 0.1958654\ttotal: 12s\tremaining: 145ms\n",
      "494:\tlearn: 0.1957560\ttotal: 12s\tremaining: 121ms\n",
      "495:\tlearn: 0.1956377\ttotal: 12s\tremaining: 96.7ms\n",
      "496:\tlearn: 0.1954753\ttotal: 12s\tremaining: 72.5ms\n",
      "497:\tlearn: 0.1954126\ttotal: 12s\tremaining: 48.3ms\n",
      "498:\tlearn: 0.1952172\ttotal: 12s\tremaining: 24.1ms\n",
      "499:\tlearn: 0.1951818\ttotal: 12.1s\tremaining: 0us\n",
      "              precision    recall  f1-score   support\n",
      "\n",
      "           0       0.92      0.89      0.90      4843\n",
      "           1       0.68      0.76      0.72      1553\n",
      "\n",
      "    accuracy                           0.85      6396\n",
      "   macro avg       0.80      0.82      0.81      6396\n",
      "weighted avg       0.86      0.85      0.86      6396\n",
      "\n",
      "CatBoost F1 Score: 85.65089270733233%\n",
      "              precision    recall  f1-score   support\n",
      "\n",
      "           0       0.93      0.80      0.86      4843\n",
      "           1       0.57      0.82      0.68      1553\n",
      "\n",
      "    accuracy                           0.81      6396\n",
      "   macro avg       0.75      0.81      0.77      6396\n",
      "weighted avg       0.85      0.81      0.82      6396\n",
      "\n",
      "AdaBoost F1 Score: 81.88319762004713%\n"
     ]
    }
   ],
   "source": [
    "#Best Boosting Models\n",
    "\n",
    "classifiers = {\n",
    "    \"Boosting\": GradientBoostingClassifier(n_estimators=500,max_depth=7,learning_rate=0.1,random_state=0),\n",
    "    \"XGBoost\": XGBClassifier(n_estimators=500,max_depth=7,learning_rate=0.1,random_state=0),\n",
    "    \"CatBoost\": CatBoostClassifier(max_depth=7, learning_rate=0.1, iterations = 500, random_state=0),\n",
    "    \"AdaBoost\": AdaBoostClassifier(n_estimators=200, learning_rate=0.1, random_state=0),\n",
    "}\n",
    "\n",
    "f1_scores = {}\n",
    "\n",
    "for key, classifier in classifiers.items():\n",
    "    classifier.fit(X_s_train, y_s_train)\n",
    "    y_pred = classifier.predict(X_test)\n",
    "    f1 = f1_score(y_test, y_pred, average='weighted')  \n",
    "    print(classification_report(y_test, y_pred))\n",
    "    f1 = f1_score(y_test, y_pred, average='weighted')  # Here we calculate the F1 score\n",
    "    f1_scores[key] = f1  # And here we store it in the dictionary\n",
    "    print(f\"{key} F1 Score: {f1 * 100.0}%\")\n"
   ]
  },
  {
   "cell_type": "code",
   "execution_count": 119,
   "id": "7a26d42c-c7e3-4a9a-a040-ddbbc9bb0a81",
   "metadata": {
    "tags": []
   },
   "outputs": [
    {
     "name": "stdout",
     "output_type": "stream",
     "text": [
      "{'Boosting': 0.8554293901756327, 'XGBoost': 0.8586058973272461, 'CatBoost': 0.8565089270733233, 'AdaBoost': 0.8188319762004712}\n"
     ]
    }
   ],
   "source": [
    "print(f1_scores)"
   ]
  },
  {
   "cell_type": "markdown",
   "id": "b8419cf7-1ee0-4dec-be60-ba32a510927a",
   "metadata": {},
   "source": [
    "## Model Summary"
   ]
  },
  {
   "cell_type": "markdown",
   "id": "f73f4c57-4585-48cd-a56b-be6b6c8a9a14",
   "metadata": {},
   "source": [
    "**Weighted F1 Score of Models with best parameters**"
   ]
  },
  {
   "cell_type": "code",
   "execution_count": 120,
   "id": "78b0c18c",
   "metadata": {},
   "outputs": [],
   "source": [
    "# print('LR:', LR_f1)\n",
    "# print('KNN:', KNN_f1)\n",
    "# print('Bagging:', BG_f1)\n",
    "# print('Decision Tree:', DT_f1)\n",
    "# print('MLP:', test_f1_score )\n",
    "# print('Random Forest:', f1rf )\n",
    "# print('Boosting:', f1_scores )"
   ]
  },
  {
   "cell_type": "markdown",
   "id": "e285fe40-b301-4d76-8d0b-ac2913be8dc4",
   "metadata": {},
   "source": [
    "LR: 0.6890255349764189\n",
    "\n",
    "KNN: 0.79869611280124\n",
    "\n",
    "Bagging: 0.8331087187755222\n",
    "\n",
    "Decision Tree: 0.8130953515362849\n",
    "\n",
    "MLP: 0.8317238027857752\n",
    "\n",
    "Random Forest: 0.8469192898133088\n",
    "\n",
    "Boosting: {'Boosting': 0.8554293901756327, 'XGBoost': 0.8586058973272461, 'CatBoost': 0.8565089270733233, 'AdaBoost': 0.8188319762004712}\n",
    "\n",
    "Based on the weighted F1 scores above, the top 3 models are Bagging, Random Forest and Boosting (with XGboost having the highest F1 Score)."
   ]
  },
  {
   "cell_type": "markdown",
   "id": "e7bfa2c7-b300-41be-ae46-e1880b2f839a",
   "metadata": {},
   "source": [
    "# Outlier Elimination / Data Refinement"
   ]
  },
  {
   "cell_type": "code",
   "execution_count": 105,
   "id": "370b02dc-0f03-4156-99dd-0756977cfe36",
   "metadata": {},
   "outputs": [
    {
     "data": {
      "text/html": [
       "<div>\n",
       "<style scoped>\n",
       "    .dataframe tbody tr th:only-of-type {\n",
       "        vertical-align: middle;\n",
       "    }\n",
       "\n",
       "    .dataframe tbody tr th {\n",
       "        vertical-align: top;\n",
       "    }\n",
       "\n",
       "    .dataframe thead th {\n",
       "        text-align: right;\n",
       "    }\n",
       "</style>\n",
       "<table border=\"1\" class=\"dataframe\">\n",
       "  <thead>\n",
       "    <tr style=\"text-align: right;\">\n",
       "      <th></th>\n",
       "      <th>age</th>\n",
       "      <th>education.num</th>\n",
       "      <th>capital.gain</th>\n",
       "      <th>capital.loss</th>\n",
       "      <th>hours.per.week</th>\n",
       "      <th>income_&gt;50K</th>\n",
       "      <th>workclass_Local-gov</th>\n",
       "      <th>workclass_Never-worked</th>\n",
       "      <th>workclass_Private</th>\n",
       "      <th>workclass_Self-emp-inc</th>\n",
       "      <th>...</th>\n",
       "      <th>relationship_Other-relative</th>\n",
       "      <th>relationship_Own-child</th>\n",
       "      <th>relationship_Unmarried</th>\n",
       "      <th>relationship_Wife</th>\n",
       "      <th>race_Asian-Pac-Islander</th>\n",
       "      <th>race_Black</th>\n",
       "      <th>race_Other</th>\n",
       "      <th>race_White</th>\n",
       "      <th>sex_Male</th>\n",
       "      <th>native.country_United-States</th>\n",
       "    </tr>\n",
       "  </thead>\n",
       "  <tbody>\n",
       "    <tr>\n",
       "      <th>0</th>\n",
       "      <td>90</td>\n",
       "      <td>9</td>\n",
       "      <td>0</td>\n",
       "      <td>4356</td>\n",
       "      <td>40</td>\n",
       "      <td>0</td>\n",
       "      <td>0</td>\n",
       "      <td>0</td>\n",
       "      <td>0</td>\n",
       "      <td>0</td>\n",
       "      <td>...</td>\n",
       "      <td>0</td>\n",
       "      <td>0</td>\n",
       "      <td>0</td>\n",
       "      <td>0</td>\n",
       "      <td>0</td>\n",
       "      <td>0</td>\n",
       "      <td>0</td>\n",
       "      <td>1</td>\n",
       "      <td>0</td>\n",
       "      <td>1</td>\n",
       "    </tr>\n",
       "    <tr>\n",
       "      <th>1</th>\n",
       "      <td>82</td>\n",
       "      <td>9</td>\n",
       "      <td>0</td>\n",
       "      <td>4356</td>\n",
       "      <td>18</td>\n",
       "      <td>0</td>\n",
       "      <td>0</td>\n",
       "      <td>0</td>\n",
       "      <td>1</td>\n",
       "      <td>0</td>\n",
       "      <td>...</td>\n",
       "      <td>0</td>\n",
       "      <td>0</td>\n",
       "      <td>0</td>\n",
       "      <td>0</td>\n",
       "      <td>0</td>\n",
       "      <td>0</td>\n",
       "      <td>0</td>\n",
       "      <td>1</td>\n",
       "      <td>0</td>\n",
       "      <td>1</td>\n",
       "    </tr>\n",
       "    <tr>\n",
       "      <th>2</th>\n",
       "      <td>66</td>\n",
       "      <td>10</td>\n",
       "      <td>0</td>\n",
       "      <td>4356</td>\n",
       "      <td>40</td>\n",
       "      <td>0</td>\n",
       "      <td>0</td>\n",
       "      <td>0</td>\n",
       "      <td>0</td>\n",
       "      <td>0</td>\n",
       "      <td>...</td>\n",
       "      <td>0</td>\n",
       "      <td>0</td>\n",
       "      <td>1</td>\n",
       "      <td>0</td>\n",
       "      <td>0</td>\n",
       "      <td>1</td>\n",
       "      <td>0</td>\n",
       "      <td>0</td>\n",
       "      <td>0</td>\n",
       "      <td>1</td>\n",
       "    </tr>\n",
       "    <tr>\n",
       "      <th>3</th>\n",
       "      <td>54</td>\n",
       "      <td>4</td>\n",
       "      <td>0</td>\n",
       "      <td>3900</td>\n",
       "      <td>40</td>\n",
       "      <td>0</td>\n",
       "      <td>0</td>\n",
       "      <td>0</td>\n",
       "      <td>1</td>\n",
       "      <td>0</td>\n",
       "      <td>...</td>\n",
       "      <td>0</td>\n",
       "      <td>0</td>\n",
       "      <td>1</td>\n",
       "      <td>0</td>\n",
       "      <td>0</td>\n",
       "      <td>0</td>\n",
       "      <td>0</td>\n",
       "      <td>1</td>\n",
       "      <td>0</td>\n",
       "      <td>1</td>\n",
       "    </tr>\n",
       "    <tr>\n",
       "      <th>4</th>\n",
       "      <td>41</td>\n",
       "      <td>10</td>\n",
       "      <td>0</td>\n",
       "      <td>3900</td>\n",
       "      <td>40</td>\n",
       "      <td>0</td>\n",
       "      <td>0</td>\n",
       "      <td>0</td>\n",
       "      <td>1</td>\n",
       "      <td>0</td>\n",
       "      <td>...</td>\n",
       "      <td>0</td>\n",
       "      <td>1</td>\n",
       "      <td>0</td>\n",
       "      <td>0</td>\n",
       "      <td>0</td>\n",
       "      <td>0</td>\n",
       "      <td>0</td>\n",
       "      <td>1</td>\n",
       "      <td>0</td>\n",
       "      <td>1</td>\n",
       "    </tr>\n",
       "  </tbody>\n",
       "</table>\n",
       "<p>5 rows × 45 columns</p>\n",
       "</div>"
      ],
      "text/plain": [
       "   age  education.num  capital.gain  capital.loss  hours.per.week  \\\n",
       "0   90              9             0          4356              40   \n",
       "1   82              9             0          4356              18   \n",
       "2   66             10             0          4356              40   \n",
       "3   54              4             0          3900              40   \n",
       "4   41             10             0          3900              40   \n",
       "\n",
       "   income_>50K  workclass_Local-gov  workclass_Never-worked  \\\n",
       "0            0                    0                       0   \n",
       "1            0                    0                       0   \n",
       "2            0                    0                       0   \n",
       "3            0                    0                       0   \n",
       "4            0                    0                       0   \n",
       "\n",
       "   workclass_Private  workclass_Self-emp-inc  ...  \\\n",
       "0                  0                       0  ...   \n",
       "1                  1                       0  ...   \n",
       "2                  0                       0  ...   \n",
       "3                  1                       0  ...   \n",
       "4                  1                       0  ...   \n",
       "\n",
       "   relationship_Other-relative  relationship_Own-child  \\\n",
       "0                            0                       0   \n",
       "1                            0                       0   \n",
       "2                            0                       0   \n",
       "3                            0                       0   \n",
       "4                            0                       1   \n",
       "\n",
       "   relationship_Unmarried  relationship_Wife  race_Asian-Pac-Islander  \\\n",
       "0                       0                  0                        0   \n",
       "1                       0                  0                        0   \n",
       "2                       1                  0                        0   \n",
       "3                       1                  0                        0   \n",
       "4                       0                  0                        0   \n",
       "\n",
       "   race_Black  race_Other  race_White  sex_Male  native.country_United-States  \n",
       "0           0           0           1         0                             1  \n",
       "1           0           0           1         0                             1  \n",
       "2           1           0           0         0                             1  \n",
       "3           0           0           1         0                             1  \n",
       "4           0           0           1         0                             1  \n",
       "\n",
       "[5 rows x 45 columns]"
      ]
     },
     "execution_count": 105,
     "metadata": {},
     "output_type": "execute_result"
    }
   ],
   "source": [
    "df.head()"
   ]
  },
  {
   "cell_type": "code",
   "execution_count": 106,
   "id": "8c41b616-f919-4afb-b3d6-38c4a2bbfbc4",
   "metadata": {},
   "outputs": [
    {
     "data": {
      "image/png": "[encoded data removed]",
      "text/plain": [
       "<Figure size 1440x720 with 1 Axes>"
      ]
     },
     "metadata": {
      "needs_background": "light"
     },
     "output_type": "display_data"
    }
   ],
   "source": [
    "# setting the dimensions of the plot\n",
    "fig, ax = plt.subplots(figsize=(20, 10))\n",
    "sns.countplot(x = df['age'],hue=df['income_>50K'], palette = \"Dark2\", ax=ax)\n",
    "\n",
    "plt.xticks(rotation=90)\n",
    "plt.show()"
   ]
  },
  {
   "cell_type": "markdown",
   "id": "028619ee-48df-478a-8c11-6280b7c84e5c",
   "metadata": {},
   "source": [
    "## Refined Dataset: Restricting age between 25 and 70"
   ]
  },
  {
   "cell_type": "markdown",
   "id": "05a4ae06-4d83-42e9-ae00-c4fb125da01e",
   "metadata": {},
   "source": [
    "As we can see from the plot we have more people in the dataset that earn less than 50K and those are mainly between 17 and 30. In order to improve our models ability to predict if someone earns more than 50K or not, we will remove very young people from the data set to have a more even dataset and hopefully improve the models ability to predict if someone earns more than 50K. We will compare those model with the adjusted data set to models that use the whole data set."
   ]
  },
  {
   "cell_type": "code",
   "execution_count": 107,
   "id": "62a31f24-0612-4959-a4f1-6fb3457cc862",
   "metadata": {},
   "outputs": [
    {
     "data": {
      "text/plain": [
       "(25025, 45)"
      ]
     },
     "execution_count": 107,
     "metadata": {},
     "output_type": "execute_result"
    }
   ],
   "source": [
    "df_age = df.loc[(df['age']<70) & (df['age']> 25)]\n",
    "df_age.shape"
   ]
  },
  {
   "cell_type": "code",
   "execution_count": 108,
   "id": "55e6eb9f-75bc-4bfd-831d-cc337176a758",
   "metadata": {},
   "outputs": [
    {
     "data": {
      "text/plain": [
       "6953"
      ]
     },
     "execution_count": 108,
     "metadata": {},
     "output_type": "execute_result"
    }
   ],
   "source": [
    "len(df) - len(df_age)"
   ]
  },
  {
   "cell_type": "markdown",
   "id": "6e257f68-41cb-441e-b9f8-1bd95c8b15f9",
   "metadata": {},
   "source": [
    "Applying the age filter removed about 7000 observations from the dataset"
   ]
  },
  {
   "cell_type": "code",
   "execution_count": 109,
   "id": "09d18aa2-4b56-43dc-8a36-ed22c563e0fa",
   "metadata": {},
   "outputs": [],
   "source": [
    "X2 = df_age.drop(['income_>50K'], axis = 1)\n",
    "y2 = df_age['income_>50K']"
   ]
  },
  {
   "cell_type": "markdown",
   "id": "89cdfba1-76c2-4f22-94f4-076480e78530",
   "metadata": {},
   "source": [
    "X2 and y2 are derived from the new dataframe only including observations with age between 25 and 70."
   ]
  },
  {
   "cell_type": "code",
   "execution_count": 110,
   "id": "35e16e3f-580c-4aee-9507-153ab7fad44d",
   "metadata": {},
   "outputs": [],
   "source": [
    "X2_train, X2_test, y2_train, y2_test = train_test_split(X2, y2, test_size = 0.2, random_state = 0)"
   ]
  },
  {
   "cell_type": "code",
   "execution_count": 111,
   "id": "6d478f0c-331e-4ba7-8827-ff5564b22ebc",
   "metadata": {},
   "outputs": [],
   "source": [
    "X2_s_train, y2_s_train = oversample.fit_resample(X2_train, y2_train)"
   ]
  },
  {
   "cell_type": "code",
   "execution_count": 112,
   "id": "06109eff-3893-400e-8582-a3acb2c6007a",
   "metadata": {},
   "outputs": [],
   "source": [
    "X2_train_scaled = scaler.fit_transform(X2_train)\n",
    "X2_test_scaled = scaler.fit_transform(X2_test)\n",
    "X2s = scaler.fit_transform(X2)"
   ]
  },
  {
   "cell_type": "markdown",
   "id": "5984a075-2ad2-4382-9c15-4b45f8eb9f85",
   "metadata": {},
   "source": [
    "**In this section, we fit our models tuned with the best hyperparameters on the age-restricted dataset**"
   ]
  },
  {
   "cell_type": "markdown",
   "id": "d1ad7690-872c-48ba-8b0d-6c3f377bd1db",
   "metadata": {},
   "source": [
    "# Bagging"
   ]
  },
  {
   "cell_type": "code",
   "execution_count": 113,
   "id": "1131aed0-bde4-4dff-80f3-ca6f878d25ae",
   "metadata": {},
   "outputs": [
    {
     "data": {
      "text/plain": [
       "0.7973276398864734"
      ]
     },
     "execution_count": 113,
     "metadata": {},
     "output_type": "execute_result"
    }
   ],
   "source": [
    "bg_clf_best = BaggingClassifier(base_estimator = DecisionTreeClassifier(), n_estimators = 300, random_state = 0)\n",
    "bg_clf_best = bg_clf_best.fit(X2_s_train, y2_s_train)\n",
    "BG_f1 = f1_score(bg_clf_best.predict(X2_test), y2_test, average = 'weighted')\n",
    "BG_f1"
   ]
  },
  {
   "cell_type": "markdown",
   "id": "b227046c-b366-4def-bd55-ff548052a703",
   "metadata": {},
   "source": [
    "# Random Forest"
   ]
  },
  {
   "cell_type": "code",
   "execution_count": 115,
   "id": "2beb0a0e-6b1b-43e8-a98a-931203a07dfc",
   "metadata": {},
   "outputs": [
    {
     "name": "stdout",
     "output_type": "stream",
     "text": [
      "F1 score: 0.8113454889231255\n",
      "              precision    recall  f1-score   support\n",
      "\n",
      "           0       0.87      0.88      0.87      3546\n",
      "           1       0.70      0.67      0.68      1459\n",
      "\n",
      "    accuracy                           0.82      5005\n",
      "   macro avg       0.78      0.77      0.78      5005\n",
      "weighted avg       0.82      0.82      0.82      5005\n",
      "\n"
     ]
    }
   ],
   "source": [
    "#Best RF Model\n",
    "\n",
    "rf = RandomForestClassifier(n_estimators=1000, max_features='sqrt', max_depth = 40, criterion = 'gini', random_state=0).fit(X2_s_train, y2_s_train)\n",
    "y2_predRF = rf.predict(X2_test)\n",
    "\n",
    "f1rf = f1_score(y2_test, y2_predRF, average='weighted')\n",
    "print(\"F1 score:\", f1rf)\n",
    "print(report)"
   ]
  },
  {
   "cell_type": "markdown",
   "id": "11d22034-c49b-4a1b-8794-056fc892d87b",
   "metadata": {},
   "source": [
    "# Boosting Models"
   ]
  },
  {
   "cell_type": "code",
   "execution_count": 116,
   "id": "fbffe20b-5f42-4938-ad1f-d90fe77e0303",
   "metadata": {
    "collapsed": true,
    "jupyter": {
     "outputs_hidden": true
    },
    "tags": []
   },
   "outputs": [
    {
     "name": "stderr",
     "output_type": "stream",
     "text": [
      "C:\\Users\\bhave\\anaconda3\\lib\\site-packages\\xgboost\\sklearn.py:1395: UserWarning: `use_label_encoder` is deprecated in 1.7.0.\n",
      "  warnings.warn(\"`use_label_encoder` is deprecated in 1.7.0.\")\n"
     ]
    },
    {
     "name": "stdout",
     "output_type": "stream",
     "text": [
      "              precision    recall  f1-score   support\n",
      "\n",
      "           0       0.89      0.86      0.87      3546\n",
      "           1       0.68      0.73      0.70      1459\n",
      "\n",
      "    accuracy                           0.82      5005\n",
      "   macro avg       0.78      0.79      0.79      5005\n",
      "weighted avg       0.83      0.82      0.82      5005\n",
      "\n",
      "Boosting F1 Score: 82.35187035119758%\n",
      "              precision    recall  f1-score   support\n",
      "\n",
      "           0       0.89      0.86      0.87      3546\n",
      "           1       0.68      0.75      0.72      1459\n",
      "\n",
      "    accuracy                           0.83      5005\n",
      "   macro avg       0.79      0.80      0.79      5005\n",
      "weighted avg       0.83      0.83      0.83      5005\n",
      "\n",
      "XGBoost F1 Score: 82.79397420767262%\n",
      "0:\tlearn: 0.6315341\ttotal: 21.2ms\tremaining: 10.6s\n",
      "1:\tlearn: 0.5876685\ttotal: 39ms\tremaining: 9.7s\n",
      "2:\tlearn: 0.5495450\ttotal: 63.4ms\tremaining: 10.5s\n",
      "3:\tlearn: 0.5254725\ttotal: 84.3ms\tremaining: 10.5s\n",
      "4:\tlearn: 0.5069210\ttotal: 107ms\tremaining: 10.6s\n",
      "5:\tlearn: 0.4888204\ttotal: 127ms\tremaining: 10.5s\n",
      "6:\tlearn: 0.4775854\ttotal: 148ms\tremaining: 10.4s\n",
      "7:\tlearn: 0.4683496\ttotal: 170ms\tremaining: 10.5s\n",
      "8:\tlearn: 0.4593253\ttotal: 191ms\tremaining: 10.4s\n",
      "9:\tlearn: 0.4520394\ttotal: 211ms\tremaining: 10.4s\n",
      "10:\tlearn: 0.4385074\ttotal: 235ms\tremaining: 10.4s\n",
      "11:\tlearn: 0.4283684\ttotal: 257ms\tremaining: 10.5s\n",
      "12:\tlearn: 0.4226947\ttotal: 278ms\tremaining: 10.4s\n",
      "13:\tlearn: 0.4173029\ttotal: 297ms\tremaining: 10.3s\n",
      "14:\tlearn: 0.4118541\ttotal: 316ms\tremaining: 10.2s\n",
      "15:\tlearn: 0.4079158\ttotal: 335ms\tremaining: 10.1s\n",
      "16:\tlearn: 0.4046769\ttotal: 355ms\tremaining: 10.1s\n",
      "17:\tlearn: 0.4013875\ttotal: 376ms\tremaining: 10.1s\n",
      "18:\tlearn: 0.3986128\ttotal: 397ms\tremaining: 10.1s\n",
      "19:\tlearn: 0.3958901\ttotal: 419ms\tremaining: 10.1s\n",
      "20:\tlearn: 0.3937065\ttotal: 438ms\tremaining: 10s\n",
      "21:\tlearn: 0.3912630\ttotal: 458ms\tremaining: 9.95s\n",
      "22:\tlearn: 0.3892096\ttotal: 478ms\tremaining: 9.9s\n",
      "23:\tlearn: 0.3869346\ttotal: 497ms\tremaining: 9.86s\n",
      "24:\tlearn: 0.3828354\ttotal: 516ms\tremaining: 9.81s\n",
      "25:\tlearn: 0.3810484\ttotal: 537ms\tremaining: 9.79s\n",
      "26:\tlearn: 0.3777536\ttotal: 558ms\tremaining: 9.77s\n",
      "27:\tlearn: 0.3750704\ttotal: 580ms\tremaining: 9.77s\n",
      "28:\tlearn: 0.3733095\ttotal: 602ms\tremaining: 9.78s\n",
      "29:\tlearn: 0.3718404\ttotal: 625ms\tremaining: 9.79s\n",
      "30:\tlearn: 0.3703281\ttotal: 646ms\tremaining: 9.77s\n",
      "31:\tlearn: 0.3689213\ttotal: 668ms\tremaining: 9.76s\n",
      "32:\tlearn: 0.3677781\ttotal: 690ms\tremaining: 9.76s\n",
      "33:\tlearn: 0.3663551\ttotal: 711ms\tremaining: 9.74s\n",
      "34:\tlearn: 0.3650616\ttotal: 731ms\tremaining: 9.71s\n",
      "35:\tlearn: 0.3634496\ttotal: 752ms\tremaining: 9.69s\n",
      "36:\tlearn: 0.3625683\ttotal: 774ms\tremaining: 9.68s\n",
      "37:\tlearn: 0.3614820\ttotal: 793ms\tremaining: 9.64s\n",
      "38:\tlearn: 0.3604962\ttotal: 814ms\tremaining: 9.62s\n",
      "39:\tlearn: 0.3596145\ttotal: 836ms\tremaining: 9.61s\n",
      "40:\tlearn: 0.3585878\ttotal: 858ms\tremaining: 9.61s\n",
      "41:\tlearn: 0.3577249\ttotal: 881ms\tremaining: 9.6s\n",
      "42:\tlearn: 0.3569724\ttotal: 902ms\tremaining: 9.59s\n",
      "43:\tlearn: 0.3558021\ttotal: 923ms\tremaining: 9.57s\n",
      "44:\tlearn: 0.3550380\ttotal: 944ms\tremaining: 9.54s\n",
      "45:\tlearn: 0.3540435\ttotal: 963ms\tremaining: 9.51s\n",
      "46:\tlearn: 0.3503329\ttotal: 983ms\tremaining: 9.47s\n",
      "47:\tlearn: 0.3495917\ttotal: 1s\tremaining: 9.44s\n",
      "48:\tlearn: 0.3488583\ttotal: 1.02s\tremaining: 9.41s\n",
      "49:\tlearn: 0.3481554\ttotal: 1.04s\tremaining: 9.41s\n",
      "50:\tlearn: 0.3460213\ttotal: 1.07s\tremaining: 9.42s\n",
      "51:\tlearn: 0.3451588\ttotal: 1.1s\tremaining: 9.45s\n",
      "52:\tlearn: 0.3445041\ttotal: 1.12s\tremaining: 9.47s\n",
      "53:\tlearn: 0.3439769\ttotal: 1.15s\tremaining: 9.51s\n",
      "54:\tlearn: 0.3432612\ttotal: 1.18s\tremaining: 9.52s\n",
      "55:\tlearn: 0.3426562\ttotal: 1.2s\tremaining: 9.52s\n",
      "56:\tlearn: 0.3422649\ttotal: 1.22s\tremaining: 9.52s\n",
      "57:\tlearn: 0.3415125\ttotal: 1.25s\tremaining: 9.52s\n",
      "58:\tlearn: 0.3410159\ttotal: 1.27s\tremaining: 9.51s\n",
      "59:\tlearn: 0.3404494\ttotal: 1.3s\tremaining: 9.51s\n",
      "60:\tlearn: 0.3398448\ttotal: 1.32s\tremaining: 9.48s\n",
      "61:\tlearn: 0.3390737\ttotal: 1.34s\tremaining: 9.46s\n",
      "62:\tlearn: 0.3382244\ttotal: 1.36s\tremaining: 9.45s\n",
      "63:\tlearn: 0.3369962\ttotal: 1.38s\tremaining: 9.42s\n",
      "64:\tlearn: 0.3361273\ttotal: 1.4s\tremaining: 9.39s\n",
      "65:\tlearn: 0.3355919\ttotal: 1.42s\tremaining: 9.36s\n",
      "66:\tlearn: 0.3351688\ttotal: 1.45s\tremaining: 9.34s\n",
      "67:\tlearn: 0.3346482\ttotal: 1.47s\tremaining: 9.32s\n",
      "68:\tlearn: 0.3341872\ttotal: 1.49s\tremaining: 9.29s\n",
      "69:\tlearn: 0.3335120\ttotal: 1.51s\tremaining: 9.26s\n",
      "70:\tlearn: 0.3331278\ttotal: 1.53s\tremaining: 9.23s\n",
      "71:\tlearn: 0.3325434\ttotal: 1.55s\tremaining: 9.2s\n",
      "72:\tlearn: 0.3322369\ttotal: 1.57s\tremaining: 9.17s\n",
      "73:\tlearn: 0.3315758\ttotal: 1.59s\tremaining: 9.14s\n",
      "74:\tlearn: 0.3310428\ttotal: 1.61s\tremaining: 9.11s\n",
      "75:\tlearn: 0.3299759\ttotal: 1.63s\tremaining: 9.08s\n",
      "76:\tlearn: 0.3295540\ttotal: 1.65s\tremaining: 9.06s\n",
      "77:\tlearn: 0.3289855\ttotal: 1.67s\tremaining: 9.04s\n",
      "78:\tlearn: 0.3284010\ttotal: 1.69s\tremaining: 9.03s\n",
      "79:\tlearn: 0.3279260\ttotal: 1.72s\tremaining: 9s\n",
      "80:\tlearn: 0.3273263\ttotal: 1.74s\tremaining: 8.98s\n",
      "81:\tlearn: 0.3270627\ttotal: 1.75s\tremaining: 8.95s\n",
      "82:\tlearn: 0.3267270\ttotal: 1.77s\tremaining: 8.92s\n",
      "83:\tlearn: 0.3264038\ttotal: 1.79s\tremaining: 8.89s\n",
      "84:\tlearn: 0.3256746\ttotal: 1.82s\tremaining: 8.87s\n",
      "85:\tlearn: 0.3251667\ttotal: 1.84s\tremaining: 8.85s\n",
      "86:\tlearn: 0.3247485\ttotal: 1.86s\tremaining: 8.83s\n",
      "87:\tlearn: 0.3241223\ttotal: 1.88s\tremaining: 8.81s\n",
      "88:\tlearn: 0.3237254\ttotal: 1.9s\tremaining: 8.78s\n",
      "89:\tlearn: 0.3234553\ttotal: 1.92s\tremaining: 8.77s\n",
      "90:\tlearn: 0.3231284\ttotal: 1.94s\tremaining: 8.74s\n",
      "91:\tlearn: 0.3230434\ttotal: 1.96s\tremaining: 8.69s\n",
      "92:\tlearn: 0.3228474\ttotal: 1.98s\tremaining: 8.67s\n",
      "93:\tlearn: 0.3225765\ttotal: 2s\tremaining: 8.64s\n",
      "94:\tlearn: 0.3221817\ttotal: 2.02s\tremaining: 8.62s\n",
      "95:\tlearn: 0.3216919\ttotal: 2.04s\tremaining: 8.59s\n",
      "96:\tlearn: 0.3212950\ttotal: 2.06s\tremaining: 8.57s\n",
      "97:\tlearn: 0.3205149\ttotal: 2.09s\tremaining: 8.57s\n",
      "98:\tlearn: 0.3201285\ttotal: 2.11s\tremaining: 8.56s\n",
      "99:\tlearn: 0.3198068\ttotal: 2.14s\tremaining: 8.55s\n",
      "100:\tlearn: 0.3195838\ttotal: 2.16s\tremaining: 8.55s\n",
      "101:\tlearn: 0.3192098\ttotal: 2.19s\tremaining: 8.53s\n",
      "102:\tlearn: 0.3188844\ttotal: 2.21s\tremaining: 8.53s\n",
      "103:\tlearn: 0.3184429\ttotal: 2.24s\tremaining: 8.52s\n",
      "104:\tlearn: 0.3179873\ttotal: 2.26s\tremaining: 8.52s\n",
      "105:\tlearn: 0.3177506\ttotal: 2.29s\tremaining: 8.51s\n",
      "106:\tlearn: 0.3173903\ttotal: 2.31s\tremaining: 8.5s\n",
      "107:\tlearn: 0.3170850\ttotal: 2.34s\tremaining: 8.48s\n",
      "108:\tlearn: 0.3165725\ttotal: 2.36s\tremaining: 8.48s\n",
      "109:\tlearn: 0.3146054\ttotal: 2.39s\tremaining: 8.47s\n",
      "110:\tlearn: 0.3143461\ttotal: 2.41s\tremaining: 8.45s\n",
      "111:\tlearn: 0.3137754\ttotal: 2.44s\tremaining: 8.44s\n",
      "112:\tlearn: 0.3131178\ttotal: 2.46s\tremaining: 8.44s\n",
      "113:\tlearn: 0.3126737\ttotal: 2.49s\tremaining: 8.42s\n",
      "114:\tlearn: 0.3120690\ttotal: 2.51s\tremaining: 8.41s\n",
      "115:\tlearn: 0.3116333\ttotal: 2.53s\tremaining: 8.38s\n",
      "116:\tlearn: 0.3114512\ttotal: 2.56s\tremaining: 8.36s\n",
      "117:\tlearn: 0.3109195\ttotal: 2.58s\tremaining: 8.35s\n",
      "118:\tlearn: 0.3105868\ttotal: 2.6s\tremaining: 8.34s\n",
      "119:\tlearn: 0.3102760\ttotal: 2.63s\tremaining: 8.32s\n",
      "120:\tlearn: 0.3091159\ttotal: 2.65s\tremaining: 8.29s\n",
      "121:\tlearn: 0.3087298\ttotal: 2.67s\tremaining: 8.27s\n",
      "122:\tlearn: 0.3084480\ttotal: 2.69s\tremaining: 8.25s\n",
      "123:\tlearn: 0.3080291\ttotal: 2.71s\tremaining: 8.23s\n",
      "124:\tlearn: 0.3073926\ttotal: 2.74s\tremaining: 8.22s\n",
      "125:\tlearn: 0.3070042\ttotal: 2.76s\tremaining: 8.2s\n",
      "126:\tlearn: 0.3067540\ttotal: 2.79s\tremaining: 8.19s\n",
      "127:\tlearn: 0.3063922\ttotal: 2.81s\tremaining: 8.17s\n",
      "128:\tlearn: 0.3061631\ttotal: 2.84s\tremaining: 8.16s\n",
      "129:\tlearn: 0.3058029\ttotal: 2.86s\tremaining: 8.15s\n",
      "130:\tlearn: 0.3054300\ttotal: 2.89s\tremaining: 8.13s\n",
      "131:\tlearn: 0.3051039\ttotal: 2.91s\tremaining: 8.12s\n",
      "132:\tlearn: 0.3047288\ttotal: 2.94s\tremaining: 8.12s\n",
      "133:\tlearn: 0.3034987\ttotal: 2.97s\tremaining: 8.1s\n",
      "134:\tlearn: 0.3031817\ttotal: 3s\tremaining: 8.1s\n",
      "135:\tlearn: 0.3028588\ttotal: 3.04s\tremaining: 8.13s\n",
      "136:\tlearn: 0.3025097\ttotal: 3.06s\tremaining: 8.12s\n",
      "137:\tlearn: 0.3021949\ttotal: 3.09s\tremaining: 8.11s\n",
      "138:\tlearn: 0.3018999\ttotal: 3.12s\tremaining: 8.1s\n",
      "139:\tlearn: 0.3016760\ttotal: 3.14s\tremaining: 8.09s\n",
      "140:\tlearn: 0.3014120\ttotal: 3.17s\tremaining: 8.07s\n",
      "141:\tlearn: 0.3010805\ttotal: 3.2s\tremaining: 8.06s\n",
      "142:\tlearn: 0.3007663\ttotal: 3.23s\tremaining: 8.05s\n",
      "143:\tlearn: 0.3004879\ttotal: 3.25s\tremaining: 8.03s\n",
      "144:\tlearn: 0.3003085\ttotal: 3.27s\tremaining: 8.01s\n",
      "145:\tlearn: 0.2996573\ttotal: 3.29s\tremaining: 7.99s\n",
      "146:\tlearn: 0.2993512\ttotal: 3.32s\tremaining: 7.97s\n",
      "147:\tlearn: 0.2986080\ttotal: 3.35s\tremaining: 7.96s\n",
      "148:\tlearn: 0.2981410\ttotal: 3.37s\tremaining: 7.94s\n",
      "149:\tlearn: 0.2977879\ttotal: 3.39s\tremaining: 7.92s\n",
      "150:\tlearn: 0.2975430\ttotal: 3.42s\tremaining: 7.9s\n",
      "151:\tlearn: 0.2973261\ttotal: 3.44s\tremaining: 7.88s\n",
      "152:\tlearn: 0.2969454\ttotal: 3.46s\tremaining: 7.86s\n",
      "153:\tlearn: 0.2958899\ttotal: 3.48s\tremaining: 7.83s\n",
      "154:\tlearn: 0.2955955\ttotal: 3.51s\tremaining: 7.81s\n",
      "155:\tlearn: 0.2953101\ttotal: 3.53s\tremaining: 7.78s\n",
      "156:\tlearn: 0.2949763\ttotal: 3.56s\tremaining: 7.78s\n",
      "157:\tlearn: 0.2946399\ttotal: 3.58s\tremaining: 7.76s\n",
      "158:\tlearn: 0.2944214\ttotal: 3.61s\tremaining: 7.74s\n",
      "159:\tlearn: 0.2942358\ttotal: 3.63s\tremaining: 7.72s\n",
      "160:\tlearn: 0.2940301\ttotal: 3.66s\tremaining: 7.7s\n",
      "161:\tlearn: 0.2933372\ttotal: 3.68s\tremaining: 7.68s\n",
      "162:\tlearn: 0.2930300\ttotal: 3.71s\tremaining: 7.66s\n",
      "163:\tlearn: 0.2924634\ttotal: 3.73s\tremaining: 7.64s\n",
      "164:\tlearn: 0.2922288\ttotal: 3.75s\tremaining: 7.62s\n",
      "165:\tlearn: 0.2920115\ttotal: 3.77s\tremaining: 7.59s\n",
      "166:\tlearn: 0.2918341\ttotal: 3.79s\tremaining: 7.57s\n",
      "167:\tlearn: 0.2916167\ttotal: 3.82s\tremaining: 7.54s\n",
      "168:\tlearn: 0.2912664\ttotal: 3.84s\tremaining: 7.52s\n",
      "169:\tlearn: 0.2910288\ttotal: 3.86s\tremaining: 7.49s\n",
      "170:\tlearn: 0.2904841\ttotal: 3.88s\tremaining: 7.47s\n",
      "171:\tlearn: 0.2901646\ttotal: 3.9s\tremaining: 7.44s\n",
      "172:\tlearn: 0.2900555\ttotal: 3.92s\tremaining: 7.42s\n",
      "173:\tlearn: 0.2897579\ttotal: 3.94s\tremaining: 7.39s\n",
      "174:\tlearn: 0.2895499\ttotal: 3.96s\tremaining: 7.37s\n",
      "175:\tlearn: 0.2893044\ttotal: 3.99s\tremaining: 7.34s\n",
      "176:\tlearn: 0.2890219\ttotal: 4.01s\tremaining: 7.32s\n",
      "177:\tlearn: 0.2888782\ttotal: 4.03s\tremaining: 7.29s\n",
      "178:\tlearn: 0.2885474\ttotal: 4.05s\tremaining: 7.27s\n",
      "179:\tlearn: 0.2882899\ttotal: 4.08s\tremaining: 7.25s\n",
      "180:\tlearn: 0.2881457\ttotal: 4.1s\tremaining: 7.22s\n",
      "181:\tlearn: 0.2878786\ttotal: 4.12s\tremaining: 7.2s\n",
      "182:\tlearn: 0.2877461\ttotal: 4.14s\tremaining: 7.17s\n",
      "183:\tlearn: 0.2874675\ttotal: 4.16s\tremaining: 7.15s\n",
      "184:\tlearn: 0.2864853\ttotal: 4.18s\tremaining: 7.13s\n",
      "185:\tlearn: 0.2862469\ttotal: 4.21s\tremaining: 7.1s\n",
      "186:\tlearn: 0.2860691\ttotal: 4.23s\tremaining: 7.08s\n",
      "187:\tlearn: 0.2858809\ttotal: 4.25s\tremaining: 7.05s\n",
      "188:\tlearn: 0.2856784\ttotal: 4.27s\tremaining: 7.03s\n",
      "189:\tlearn: 0.2854735\ttotal: 4.29s\tremaining: 7s\n",
      "190:\tlearn: 0.2852332\ttotal: 4.31s\tremaining: 6.98s\n",
      "191:\tlearn: 0.2849187\ttotal: 4.33s\tremaining: 6.95s\n",
      "192:\tlearn: 0.2846293\ttotal: 4.36s\tremaining: 6.93s\n",
      "193:\tlearn: 0.2843315\ttotal: 4.38s\tremaining: 6.9s\n",
      "194:\tlearn: 0.2841220\ttotal: 4.4s\tremaining: 6.88s\n",
      "195:\tlearn: 0.2839441\ttotal: 4.42s\tremaining: 6.85s\n",
      "196:\tlearn: 0.2837911\ttotal: 4.44s\tremaining: 6.83s\n",
      "197:\tlearn: 0.2835151\ttotal: 4.46s\tremaining: 6.8s\n",
      "198:\tlearn: 0.2833671\ttotal: 4.48s\tremaining: 6.78s\n",
      "199:\tlearn: 0.2830801\ttotal: 4.5s\tremaining: 6.76s\n",
      "200:\tlearn: 0.2827992\ttotal: 4.53s\tremaining: 6.73s\n",
      "201:\tlearn: 0.2825853\ttotal: 4.55s\tremaining: 6.71s\n",
      "202:\tlearn: 0.2820717\ttotal: 4.57s\tremaining: 6.68s\n",
      "203:\tlearn: 0.2818707\ttotal: 4.59s\tremaining: 6.66s\n",
      "204:\tlearn: 0.2815863\ttotal: 4.61s\tremaining: 6.63s\n",
      "205:\tlearn: 0.2812354\ttotal: 4.63s\tremaining: 6.61s\n",
      "206:\tlearn: 0.2811730\ttotal: 4.65s\tremaining: 6.58s\n",
      "207:\tlearn: 0.2809922\ttotal: 4.67s\tremaining: 6.56s\n",
      "208:\tlearn: 0.2807418\ttotal: 4.7s\tremaining: 6.54s\n",
      "209:\tlearn: 0.2805045\ttotal: 4.72s\tremaining: 6.51s\n",
      "210:\tlearn: 0.2802830\ttotal: 4.74s\tremaining: 6.49s\n",
      "211:\tlearn: 0.2799870\ttotal: 4.76s\tremaining: 6.46s\n",
      "212:\tlearn: 0.2797633\ttotal: 4.78s\tremaining: 6.44s\n",
      "213:\tlearn: 0.2796733\ttotal: 4.8s\tremaining: 6.42s\n",
      "214:\tlearn: 0.2795183\ttotal: 4.82s\tremaining: 6.39s\n",
      "215:\tlearn: 0.2793595\ttotal: 4.85s\tremaining: 6.37s\n",
      "216:\tlearn: 0.2790821\ttotal: 4.87s\tremaining: 6.36s\n",
      "217:\tlearn: 0.2788427\ttotal: 4.9s\tremaining: 6.33s\n",
      "218:\tlearn: 0.2786975\ttotal: 4.92s\tremaining: 6.31s\n",
      "219:\tlearn: 0.2784377\ttotal: 4.94s\tremaining: 6.29s\n",
      "220:\tlearn: 0.2782383\ttotal: 4.96s\tremaining: 6.26s\n",
      "221:\tlearn: 0.2779474\ttotal: 4.98s\tremaining: 6.24s\n",
      "222:\tlearn: 0.2777274\ttotal: 5s\tremaining: 6.22s\n",
      "223:\tlearn: 0.2775755\ttotal: 5.03s\tremaining: 6.19s\n",
      "224:\tlearn: 0.2773727\ttotal: 5.05s\tremaining: 6.17s\n",
      "225:\tlearn: 0.2771205\ttotal: 5.07s\tremaining: 6.15s\n",
      "226:\tlearn: 0.2768705\ttotal: 5.1s\tremaining: 6.13s\n",
      "227:\tlearn: 0.2765689\ttotal: 5.12s\tremaining: 6.11s\n",
      "228:\tlearn: 0.2764442\ttotal: 5.14s\tremaining: 6.08s\n",
      "229:\tlearn: 0.2761526\ttotal: 5.16s\tremaining: 6.06s\n",
      "230:\tlearn: 0.2759511\ttotal: 5.18s\tremaining: 6.04s\n",
      "231:\tlearn: 0.2758558\ttotal: 5.21s\tremaining: 6.01s\n",
      "232:\tlearn: 0.2756419\ttotal: 5.23s\tremaining: 5.99s\n",
      "233:\tlearn: 0.2754569\ttotal: 5.25s\tremaining: 5.97s\n",
      "234:\tlearn: 0.2753184\ttotal: 5.27s\tremaining: 5.95s\n",
      "235:\tlearn: 0.2751595\ttotal: 5.3s\tremaining: 5.93s\n",
      "236:\tlearn: 0.2748982\ttotal: 5.32s\tremaining: 5.91s\n",
      "237:\tlearn: 0.2746843\ttotal: 5.34s\tremaining: 5.88s\n",
      "238:\tlearn: 0.2744046\ttotal: 5.37s\tremaining: 5.86s\n",
      "239:\tlearn: 0.2742373\ttotal: 5.39s\tremaining: 5.84s\n",
      "240:\tlearn: 0.2740490\ttotal: 5.41s\tremaining: 5.81s\n",
      "241:\tlearn: 0.2738920\ttotal: 5.43s\tremaining: 5.79s\n",
      "242:\tlearn: 0.2736835\ttotal: 5.45s\tremaining: 5.76s\n",
      "243:\tlearn: 0.2735080\ttotal: 5.47s\tremaining: 5.74s\n",
      "244:\tlearn: 0.2733646\ttotal: 5.5s\tremaining: 5.72s\n",
      "245:\tlearn: 0.2731433\ttotal: 5.52s\tremaining: 5.7s\n",
      "246:\tlearn: 0.2729708\ttotal: 5.54s\tremaining: 5.67s\n",
      "247:\tlearn: 0.2726873\ttotal: 5.56s\tremaining: 5.65s\n",
      "248:\tlearn: 0.2724877\ttotal: 5.59s\tremaining: 5.63s\n",
      "249:\tlearn: 0.2722742\ttotal: 5.61s\tremaining: 5.61s\n",
      "250:\tlearn: 0.2719873\ttotal: 5.63s\tremaining: 5.59s\n",
      "251:\tlearn: 0.2716451\ttotal: 5.67s\tremaining: 5.58s\n",
      "252:\tlearn: 0.2714876\ttotal: 5.69s\tremaining: 5.55s\n",
      "253:\tlearn: 0.2712915\ttotal: 5.72s\tremaining: 5.54s\n",
      "254:\tlearn: 0.2710477\ttotal: 5.75s\tremaining: 5.52s\n",
      "255:\tlearn: 0.2708232\ttotal: 5.77s\tremaining: 5.5s\n",
      "256:\tlearn: 0.2707195\ttotal: 5.8s\tremaining: 5.48s\n",
      "257:\tlearn: 0.2706094\ttotal: 5.82s\tremaining: 5.46s\n",
      "258:\tlearn: 0.2704447\ttotal: 5.84s\tremaining: 5.44s\n",
      "259:\tlearn: 0.2702994\ttotal: 5.87s\tremaining: 5.42s\n",
      "260:\tlearn: 0.2701383\ttotal: 5.89s\tremaining: 5.4s\n",
      "261:\tlearn: 0.2695315\ttotal: 5.92s\tremaining: 5.38s\n",
      "262:\tlearn: 0.2692940\ttotal: 5.94s\tremaining: 5.35s\n",
      "263:\tlearn: 0.2689917\ttotal: 5.96s\tremaining: 5.33s\n",
      "264:\tlearn: 0.2688688\ttotal: 5.98s\tremaining: 5.3s\n",
      "265:\tlearn: 0.2686459\ttotal: 6s\tremaining: 5.28s\n",
      "266:\tlearn: 0.2685443\ttotal: 6.03s\tremaining: 5.26s\n",
      "267:\tlearn: 0.2682860\ttotal: 6.05s\tremaining: 5.24s\n",
      "268:\tlearn: 0.2679923\ttotal: 6.07s\tremaining: 5.22s\n",
      "269:\tlearn: 0.2678366\ttotal: 6.1s\tremaining: 5.2s\n",
      "270:\tlearn: 0.2677033\ttotal: 6.13s\tremaining: 5.18s\n",
      "271:\tlearn: 0.2675337\ttotal: 6.15s\tremaining: 5.15s\n",
      "272:\tlearn: 0.2673195\ttotal: 6.18s\tremaining: 5.14s\n",
      "273:\tlearn: 0.2672026\ttotal: 6.2s\tremaining: 5.12s\n",
      "274:\tlearn: 0.2670331\ttotal: 6.23s\tremaining: 5.09s\n",
      "275:\tlearn: 0.2668051\ttotal: 6.25s\tremaining: 5.07s\n",
      "276:\tlearn: 0.2666122\ttotal: 6.27s\tremaining: 5.05s\n",
      "277:\tlearn: 0.2664594\ttotal: 6.3s\tremaining: 5.03s\n",
      "278:\tlearn: 0.2663300\ttotal: 6.32s\tremaining: 5.01s\n",
      "279:\tlearn: 0.2660862\ttotal: 6.34s\tremaining: 4.98s\n",
      "280:\tlearn: 0.2659794\ttotal: 6.37s\tremaining: 4.96s\n",
      "281:\tlearn: 0.2657626\ttotal: 6.39s\tremaining: 4.94s\n",
      "282:\tlearn: 0.2655476\ttotal: 6.41s\tremaining: 4.92s\n",
      "283:\tlearn: 0.2653308\ttotal: 6.43s\tremaining: 4.89s\n",
      "284:\tlearn: 0.2651632\ttotal: 6.46s\tremaining: 4.87s\n",
      "285:\tlearn: 0.2650107\ttotal: 6.48s\tremaining: 4.85s\n",
      "286:\tlearn: 0.2648945\ttotal: 6.5s\tremaining: 4.82s\n",
      "287:\tlearn: 0.2646688\ttotal: 6.52s\tremaining: 4.8s\n",
      "288:\tlearn: 0.2645789\ttotal: 6.54s\tremaining: 4.78s\n",
      "289:\tlearn: 0.2644548\ttotal: 6.57s\tremaining: 4.76s\n",
      "290:\tlearn: 0.2643339\ttotal: 6.59s\tremaining: 4.73s\n",
      "291:\tlearn: 0.2642088\ttotal: 6.61s\tremaining: 4.71s\n",
      "292:\tlearn: 0.2640708\ttotal: 6.63s\tremaining: 4.68s\n",
      "293:\tlearn: 0.2638775\ttotal: 6.65s\tremaining: 4.66s\n",
      "294:\tlearn: 0.2638168\ttotal: 6.68s\tremaining: 4.64s\n",
      "295:\tlearn: 0.2636801\ttotal: 6.7s\tremaining: 4.62s\n",
      "296:\tlearn: 0.2635363\ttotal: 6.72s\tremaining: 4.59s\n",
      "297:\tlearn: 0.2633955\ttotal: 6.75s\tremaining: 4.57s\n",
      "298:\tlearn: 0.2631698\ttotal: 6.77s\tremaining: 4.55s\n",
      "299:\tlearn: 0.2629905\ttotal: 6.79s\tremaining: 4.52s\n",
      "300:\tlearn: 0.2628714\ttotal: 6.81s\tremaining: 4.5s\n",
      "301:\tlearn: 0.2627653\ttotal: 6.83s\tremaining: 4.48s\n",
      "302:\tlearn: 0.2626245\ttotal: 6.85s\tremaining: 4.45s\n",
      "303:\tlearn: 0.2624773\ttotal: 6.87s\tremaining: 4.43s\n",
      "304:\tlearn: 0.2622807\ttotal: 6.89s\tremaining: 4.41s\n",
      "305:\tlearn: 0.2619640\ttotal: 6.91s\tremaining: 4.38s\n",
      "306:\tlearn: 0.2617437\ttotal: 6.94s\tremaining: 4.36s\n",
      "307:\tlearn: 0.2615754\ttotal: 6.96s\tremaining: 4.34s\n",
      "308:\tlearn: 0.2613823\ttotal: 6.98s\tremaining: 4.32s\n",
      "309:\tlearn: 0.2612009\ttotal: 7s\tremaining: 4.29s\n",
      "310:\tlearn: 0.2610233\ttotal: 7.02s\tremaining: 4.27s\n",
      "311:\tlearn: 0.2609014\ttotal: 7.04s\tremaining: 4.24s\n",
      "312:\tlearn: 0.2608200\ttotal: 7.06s\tremaining: 4.22s\n",
      "313:\tlearn: 0.2606495\ttotal: 7.09s\tremaining: 4.2s\n",
      "314:\tlearn: 0.2604323\ttotal: 7.11s\tremaining: 4.18s\n",
      "315:\tlearn: 0.2603100\ttotal: 7.13s\tremaining: 4.16s\n",
      "316:\tlearn: 0.2601962\ttotal: 7.16s\tremaining: 4.13s\n",
      "317:\tlearn: 0.2600626\ttotal: 7.18s\tremaining: 4.11s\n",
      "318:\tlearn: 0.2599881\ttotal: 7.21s\tremaining: 4.09s\n",
      "319:\tlearn: 0.2599522\ttotal: 7.23s\tremaining: 4.06s\n",
      "320:\tlearn: 0.2597668\ttotal: 7.25s\tremaining: 4.04s\n",
      "321:\tlearn: 0.2596018\ttotal: 7.27s\tremaining: 4.02s\n",
      "322:\tlearn: 0.2594969\ttotal: 7.29s\tremaining: 4s\n",
      "323:\tlearn: 0.2593780\ttotal: 7.31s\tremaining: 3.97s\n",
      "324:\tlearn: 0.2591535\ttotal: 7.34s\tremaining: 3.95s\n",
      "325:\tlearn: 0.2590992\ttotal: 7.36s\tremaining: 3.93s\n",
      "326:\tlearn: 0.2589608\ttotal: 7.38s\tremaining: 3.91s\n",
      "327:\tlearn: 0.2587731\ttotal: 7.41s\tremaining: 3.88s\n",
      "328:\tlearn: 0.2585909\ttotal: 7.42s\tremaining: 3.86s\n",
      "329:\tlearn: 0.2584044\ttotal: 7.45s\tremaining: 3.84s\n",
      "330:\tlearn: 0.2581556\ttotal: 7.47s\tremaining: 3.81s\n",
      "331:\tlearn: 0.2579699\ttotal: 7.49s\tremaining: 3.79s\n",
      "332:\tlearn: 0.2578467\ttotal: 7.5s\tremaining: 3.76s\n",
      "333:\tlearn: 0.2577140\ttotal: 7.53s\tremaining: 3.74s\n",
      "334:\tlearn: 0.2576058\ttotal: 7.55s\tremaining: 3.72s\n",
      "335:\tlearn: 0.2575004\ttotal: 7.57s\tremaining: 3.7s\n",
      "336:\tlearn: 0.2573783\ttotal: 7.6s\tremaining: 3.67s\n",
      "337:\tlearn: 0.2571935\ttotal: 7.63s\tremaining: 3.65s\n",
      "338:\tlearn: 0.2570472\ttotal: 7.65s\tremaining: 3.63s\n",
      "339:\tlearn: 0.2569171\ttotal: 7.68s\tremaining: 3.61s\n",
      "340:\tlearn: 0.2568677\ttotal: 7.7s\tremaining: 3.59s\n",
      "341:\tlearn: 0.2567459\ttotal: 7.73s\tremaining: 3.57s\n",
      "342:\tlearn: 0.2566056\ttotal: 7.76s\tremaining: 3.55s\n",
      "343:\tlearn: 0.2565731\ttotal: 7.78s\tremaining: 3.53s\n",
      "344:\tlearn: 0.2563953\ttotal: 7.8s\tremaining: 3.51s\n",
      "345:\tlearn: 0.2561448\ttotal: 7.83s\tremaining: 3.48s\n",
      "346:\tlearn: 0.2559787\ttotal: 7.85s\tremaining: 3.46s\n",
      "347:\tlearn: 0.2557640\ttotal: 7.88s\tremaining: 3.44s\n",
      "348:\tlearn: 0.2556151\ttotal: 7.9s\tremaining: 3.42s\n",
      "349:\tlearn: 0.2554546\ttotal: 7.92s\tremaining: 3.4s\n",
      "350:\tlearn: 0.2553917\ttotal: 7.95s\tremaining: 3.38s\n",
      "351:\tlearn: 0.2552201\ttotal: 7.98s\tremaining: 3.35s\n",
      "352:\tlearn: 0.2548848\ttotal: 8s\tremaining: 3.33s\n",
      "353:\tlearn: 0.2547228\ttotal: 8.02s\tremaining: 3.31s\n",
      "354:\tlearn: 0.2546079\ttotal: 8.05s\tremaining: 3.29s\n",
      "355:\tlearn: 0.2544467\ttotal: 8.07s\tremaining: 3.26s\n",
      "356:\tlearn: 0.2542682\ttotal: 8.09s\tremaining: 3.24s\n",
      "357:\tlearn: 0.2541193\ttotal: 8.11s\tremaining: 3.22s\n",
      "358:\tlearn: 0.2540678\ttotal: 8.13s\tremaining: 3.19s\n",
      "359:\tlearn: 0.2539299\ttotal: 8.15s\tremaining: 3.17s\n",
      "360:\tlearn: 0.2537851\ttotal: 8.17s\tremaining: 3.15s\n",
      "361:\tlearn: 0.2536794\ttotal: 8.2s\tremaining: 3.12s\n",
      "362:\tlearn: 0.2535984\ttotal: 8.22s\tremaining: 3.1s\n",
      "363:\tlearn: 0.2534991\ttotal: 8.24s\tremaining: 3.08s\n",
      "364:\tlearn: 0.2533402\ttotal: 8.26s\tremaining: 3.05s\n",
      "365:\tlearn: 0.2531993\ttotal: 8.28s\tremaining: 3.03s\n",
      "366:\tlearn: 0.2529799\ttotal: 8.31s\tremaining: 3.01s\n",
      "367:\tlearn: 0.2528951\ttotal: 8.34s\tremaining: 2.99s\n",
      "368:\tlearn: 0.2527325\ttotal: 8.36s\tremaining: 2.97s\n",
      "369:\tlearn: 0.2526050\ttotal: 8.39s\tremaining: 2.95s\n",
      "370:\tlearn: 0.2524910\ttotal: 8.41s\tremaining: 2.92s\n",
      "371:\tlearn: 0.2523498\ttotal: 8.43s\tremaining: 2.9s\n",
      "372:\tlearn: 0.2521969\ttotal: 8.46s\tremaining: 2.88s\n",
      "373:\tlearn: 0.2520497\ttotal: 8.48s\tremaining: 2.86s\n",
      "374:\tlearn: 0.2519545\ttotal: 8.51s\tremaining: 2.83s\n",
      "375:\tlearn: 0.2517910\ttotal: 8.53s\tremaining: 2.81s\n",
      "376:\tlearn: 0.2517640\ttotal: 8.55s\tremaining: 2.79s\n",
      "377:\tlearn: 0.2516130\ttotal: 8.57s\tremaining: 2.77s\n",
      "378:\tlearn: 0.2514516\ttotal: 8.59s\tremaining: 2.74s\n",
      "379:\tlearn: 0.2513215\ttotal: 8.62s\tremaining: 2.72s\n",
      "380:\tlearn: 0.2511305\ttotal: 8.64s\tremaining: 2.7s\n",
      "381:\tlearn: 0.2510136\ttotal: 8.66s\tremaining: 2.67s\n",
      "382:\tlearn: 0.2508832\ttotal: 8.68s\tremaining: 2.65s\n",
      "383:\tlearn: 0.2507259\ttotal: 8.7s\tremaining: 2.63s\n",
      "384:\tlearn: 0.2505591\ttotal: 8.72s\tremaining: 2.6s\n",
      "385:\tlearn: 0.2504378\ttotal: 8.74s\tremaining: 2.58s\n",
      "386:\tlearn: 0.2502353\ttotal: 8.76s\tremaining: 2.56s\n",
      "387:\tlearn: 0.2501198\ttotal: 8.78s\tremaining: 2.53s\n",
      "388:\tlearn: 0.2499576\ttotal: 8.8s\tremaining: 2.51s\n",
      "389:\tlearn: 0.2498231\ttotal: 8.82s\tremaining: 2.49s\n",
      "390:\tlearn: 0.2497421\ttotal: 8.84s\tremaining: 2.46s\n",
      "391:\tlearn: 0.2496140\ttotal: 8.86s\tremaining: 2.44s\n",
      "392:\tlearn: 0.2495089\ttotal: 8.88s\tremaining: 2.42s\n",
      "393:\tlearn: 0.2494074\ttotal: 8.9s\tremaining: 2.39s\n",
      "394:\tlearn: 0.2493071\ttotal: 8.92s\tremaining: 2.37s\n",
      "395:\tlearn: 0.2491265\ttotal: 8.94s\tremaining: 2.35s\n",
      "396:\tlearn: 0.2490112\ttotal: 8.96s\tremaining: 2.32s\n",
      "397:\tlearn: 0.2488835\ttotal: 8.98s\tremaining: 2.3s\n",
      "398:\tlearn: 0.2488181\ttotal: 9s\tremaining: 2.28s\n",
      "399:\tlearn: 0.2486225\ttotal: 9.02s\tremaining: 2.25s\n",
      "400:\tlearn: 0.2484320\ttotal: 9.04s\tremaining: 2.23s\n",
      "401:\tlearn: 0.2482786\ttotal: 9.06s\tremaining: 2.21s\n",
      "402:\tlearn: 0.2481828\ttotal: 9.08s\tremaining: 2.19s\n",
      "403:\tlearn: 0.2480440\ttotal: 9.1s\tremaining: 2.16s\n",
      "404:\tlearn: 0.2479077\ttotal: 9.12s\tremaining: 2.14s\n",
      "405:\tlearn: 0.2477671\ttotal: 9.14s\tremaining: 2.12s\n",
      "406:\tlearn: 0.2476665\ttotal: 9.16s\tremaining: 2.09s\n",
      "407:\tlearn: 0.2474599\ttotal: 9.18s\tremaining: 2.07s\n",
      "408:\tlearn: 0.2473544\ttotal: 9.2s\tremaining: 2.05s\n",
      "409:\tlearn: 0.2471950\ttotal: 9.22s\tremaining: 2.02s\n",
      "410:\tlearn: 0.2470485\ttotal: 9.25s\tremaining: 2s\n",
      "411:\tlearn: 0.2468940\ttotal: 9.27s\tremaining: 1.98s\n",
      "412:\tlearn: 0.2467082\ttotal: 9.29s\tremaining: 1.96s\n",
      "413:\tlearn: 0.2466417\ttotal: 9.3s\tremaining: 1.93s\n",
      "414:\tlearn: 0.2465658\ttotal: 9.32s\tremaining: 1.91s\n",
      "415:\tlearn: 0.2464264\ttotal: 9.34s\tremaining: 1.89s\n",
      "416:\tlearn: 0.2462955\ttotal: 9.36s\tremaining: 1.86s\n",
      "417:\tlearn: 0.2461620\ttotal: 9.39s\tremaining: 1.84s\n",
      "418:\tlearn: 0.2460322\ttotal: 9.41s\tremaining: 1.82s\n",
      "419:\tlearn: 0.2458226\ttotal: 9.44s\tremaining: 1.8s\n",
      "420:\tlearn: 0.2456910\ttotal: 9.46s\tremaining: 1.77s\n",
      "421:\tlearn: 0.2455810\ttotal: 9.49s\tremaining: 1.75s\n",
      "422:\tlearn: 0.2454767\ttotal: 9.51s\tremaining: 1.73s\n",
      "423:\tlearn: 0.2453290\ttotal: 9.53s\tremaining: 1.71s\n",
      "424:\tlearn: 0.2452670\ttotal: 9.56s\tremaining: 1.69s\n",
      "425:\tlearn: 0.2451675\ttotal: 9.58s\tremaining: 1.66s\n",
      "426:\tlearn: 0.2450796\ttotal: 9.61s\tremaining: 1.64s\n",
      "427:\tlearn: 0.2449936\ttotal: 9.63s\tremaining: 1.62s\n",
      "428:\tlearn: 0.2448639\ttotal: 9.66s\tremaining: 1.6s\n",
      "429:\tlearn: 0.2447306\ttotal: 9.69s\tremaining: 1.58s\n",
      "430:\tlearn: 0.2446195\ttotal: 9.71s\tremaining: 1.55s\n",
      "431:\tlearn: 0.2445414\ttotal: 9.73s\tremaining: 1.53s\n",
      "432:\tlearn: 0.2443960\ttotal: 9.75s\tremaining: 1.51s\n",
      "433:\tlearn: 0.2442321\ttotal: 9.77s\tremaining: 1.49s\n",
      "434:\tlearn: 0.2440575\ttotal: 9.79s\tremaining: 1.46s\n",
      "435:\tlearn: 0.2439240\ttotal: 9.81s\tremaining: 1.44s\n",
      "436:\tlearn: 0.2437965\ttotal: 9.83s\tremaining: 1.42s\n",
      "437:\tlearn: 0.2435590\ttotal: 9.85s\tremaining: 1.39s\n",
      "438:\tlearn: 0.2435240\ttotal: 9.87s\tremaining: 1.37s\n",
      "439:\tlearn: 0.2433620\ttotal: 9.89s\tremaining: 1.35s\n",
      "440:\tlearn: 0.2432521\ttotal: 9.91s\tremaining: 1.32s\n",
      "441:\tlearn: 0.2431809\ttotal: 9.93s\tremaining: 1.3s\n",
      "442:\tlearn: 0.2430464\ttotal: 9.95s\tremaining: 1.28s\n",
      "443:\tlearn: 0.2429302\ttotal: 9.97s\tremaining: 1.26s\n",
      "444:\tlearn: 0.2428497\ttotal: 9.98s\tremaining: 1.23s\n",
      "445:\tlearn: 0.2427163\ttotal: 10s\tremaining: 1.21s\n",
      "446:\tlearn: 0.2425471\ttotal: 10s\tremaining: 1.19s\n",
      "447:\tlearn: 0.2423923\ttotal: 10s\tremaining: 1.17s\n",
      "448:\tlearn: 0.2421904\ttotal: 10.1s\tremaining: 1.14s\n",
      "449:\tlearn: 0.2420766\ttotal: 10.1s\tremaining: 1.12s\n",
      "450:\tlearn: 0.2419679\ttotal: 10.1s\tremaining: 1.1s\n",
      "451:\tlearn: 0.2418357\ttotal: 10.1s\tremaining: 1.07s\n",
      "452:\tlearn: 0.2417077\ttotal: 10.1s\tremaining: 1.05s\n",
      "453:\tlearn: 0.2415784\ttotal: 10.2s\tremaining: 1.03s\n",
      "454:\tlearn: 0.2414792\ttotal: 10.2s\tremaining: 1.01s\n",
      "455:\tlearn: 0.2413558\ttotal: 10.2s\tremaining: 985ms\n",
      "456:\tlearn: 0.2412528\ttotal: 10.2s\tremaining: 962ms\n",
      "457:\tlearn: 0.2411251\ttotal: 10.3s\tremaining: 940ms\n",
      "458:\tlearn: 0.2409107\ttotal: 10.3s\tremaining: 918ms\n",
      "459:\tlearn: 0.2407813\ttotal: 10.3s\tremaining: 895ms\n",
      "460:\tlearn: 0.2406077\ttotal: 10.3s\tremaining: 873ms\n",
      "461:\tlearn: 0.2404998\ttotal: 10.3s\tremaining: 851ms\n",
      "462:\tlearn: 0.2404110\ttotal: 10.4s\tremaining: 828ms\n",
      "463:\tlearn: 0.2403092\ttotal: 10.4s\tremaining: 806ms\n",
      "464:\tlearn: 0.2401609\ttotal: 10.4s\tremaining: 783ms\n",
      "465:\tlearn: 0.2400817\ttotal: 10.4s\tremaining: 761ms\n",
      "466:\tlearn: 0.2399349\ttotal: 10.4s\tremaining: 738ms\n",
      "467:\tlearn: 0.2398031\ttotal: 10.5s\tremaining: 716ms\n",
      "468:\tlearn: 0.2396617\ttotal: 10.5s\tremaining: 693ms\n",
      "469:\tlearn: 0.2396137\ttotal: 10.5s\tremaining: 671ms\n",
      "470:\tlearn: 0.2395402\ttotal: 10.5s\tremaining: 648ms\n",
      "471:\tlearn: 0.2394228\ttotal: 10.6s\tremaining: 626ms\n",
      "472:\tlearn: 0.2392857\ttotal: 10.6s\tremaining: 604ms\n",
      "473:\tlearn: 0.2391669\ttotal: 10.6s\tremaining: 581ms\n",
      "474:\tlearn: 0.2390440\ttotal: 10.6s\tremaining: 559ms\n",
      "475:\tlearn: 0.2388518\ttotal: 10.6s\tremaining: 536ms\n",
      "476:\tlearn: 0.2387430\ttotal: 10.7s\tremaining: 514ms\n",
      "477:\tlearn: 0.2386084\ttotal: 10.7s\tremaining: 492ms\n",
      "478:\tlearn: 0.2383973\ttotal: 10.7s\tremaining: 469ms\n",
      "479:\tlearn: 0.2382782\ttotal: 10.7s\tremaining: 447ms\n",
      "480:\tlearn: 0.2381615\ttotal: 10.8s\tremaining: 425ms\n",
      "481:\tlearn: 0.2380095\ttotal: 10.8s\tremaining: 402ms\n",
      "482:\tlearn: 0.2379232\ttotal: 10.8s\tremaining: 380ms\n",
      "483:\tlearn: 0.2378155\ttotal: 10.8s\tremaining: 357ms\n",
      "484:\tlearn: 0.2377178\ttotal: 10.8s\tremaining: 335ms\n",
      "485:\tlearn: 0.2376174\ttotal: 10.8s\tremaining: 312ms\n",
      "486:\tlearn: 0.2374951\ttotal: 10.9s\tremaining: 290ms\n",
      "487:\tlearn: 0.2373713\ttotal: 10.9s\tremaining: 268ms\n",
      "488:\tlearn: 0.2372808\ttotal: 10.9s\tremaining: 245ms\n",
      "489:\tlearn: 0.2372166\ttotal: 10.9s\tremaining: 223ms\n",
      "490:\tlearn: 0.2371331\ttotal: 10.9s\tremaining: 201ms\n",
      "491:\tlearn: 0.2370434\ttotal: 11s\tremaining: 178ms\n",
      "492:\tlearn: 0.2369769\ttotal: 11s\tremaining: 156ms\n",
      "493:\tlearn: 0.2368772\ttotal: 11s\tremaining: 134ms\n",
      "494:\tlearn: 0.2367165\ttotal: 11s\tremaining: 112ms\n",
      "495:\tlearn: 0.2366134\ttotal: 11.1s\tremaining: 89.2ms\n",
      "496:\tlearn: 0.2364700\ttotal: 11.1s\tremaining: 66.9ms\n",
      "497:\tlearn: 0.2364067\ttotal: 11.1s\tremaining: 44.6ms\n",
      "498:\tlearn: 0.2363275\ttotal: 11.1s\tremaining: 22.3ms\n",
      "499:\tlearn: 0.2362555\ttotal: 11.2s\tremaining: 0us\n",
      "              precision    recall  f1-score   support\n",
      "\n",
      "           0       0.90      0.85      0.88      3546\n",
      "           1       0.68      0.76      0.72      1459\n",
      "\n",
      "    accuracy                           0.83      5005\n",
      "   macro avg       0.79      0.81      0.80      5005\n",
      "weighted avg       0.84      0.83      0.83      5005\n",
      "\n",
      "CatBoost F1 Score: 83.0818664097748%\n",
      "              precision    recall  f1-score   support\n",
      "\n",
      "           0       0.91      0.80      0.85      3546\n",
      "           1       0.62      0.81      0.70      1459\n",
      "\n",
      "    accuracy                           0.80      5005\n",
      "   macro avg       0.77      0.80      0.78      5005\n",
      "weighted avg       0.83      0.80      0.81      5005\n",
      "\n",
      "AdaBoost F1 Score: 80.65569415608157%\n"
     ]
    }
   ],
   "source": [
    "#Best Boosting Models\n",
    "\n",
    "classifiers = {\n",
    "    \"Boosting\": GradientBoostingClassifier(n_estimators=500,max_depth=7,learning_rate=0.1,random_state=0),\n",
    "    \"XGBoost\": XGBClassifier(n_estimators=500,max_depth=7,learning_rate=0.1,random_state=0),\n",
    "    \"CatBoost\": CatBoostClassifier(max_depth=7, learning_rate=0.1, iterations = 500, random_state=0),\n",
    "    \"AdaBoost\": AdaBoostClassifier(n_estimators=200, learning_rate=0.1, random_state=0),\n",
    "}\n",
    "\n",
    "\n",
    "for key, classifier in classifiers.items():\n",
    "    classifier.fit(X2_s_train, y2_s_train)\n",
    "    y_pred = classifier.predict(X2_test)\n",
    "    f1 = f1_score(y2_test, y_pred, average='weighted')  \n",
    "    print(classification_report(y2_test, y_pred))\n",
    "    f1 = f1_score(y2_test, y_pred, average='weighted')  # Here we calculate the F1 score\n",
    "    f1_scores[key] = f1  # And here we store it in the dictionary\n",
    "    print(f\"{key} F1 Score: {f1 * 100.0}%\")\n"
   ]
  },
  {
   "cell_type": "code",
   "execution_count": 117,
   "id": "a84fc6dd-8ae0-4677-9c70-504348dba44e",
   "metadata": {
    "tags": []
   },
   "outputs": [
    {
     "name": "stdout",
     "output_type": "stream",
     "text": [
      "{'Boosting': 0.8235187035119758, 'XGBoost': 0.8279397420767262, 'CatBoost': 0.8308186640977481, 'AdaBoost': 0.8065569415608157}\n"
     ]
    }
   ],
   "source": [
    "print(f1_scores)"
   ]
  },
  {
   "cell_type": "markdown",
   "id": "55f199bd-1d77-46cd-ae72-571bda6d7a53",
   "metadata": {},
   "source": [
    "\n",
    "# Conclusion\n",
    "\n",
    "In this research endeavor, we have constructed, trained, evaluated, and fine-tuned an array of predictive models. A close examination of the performance metrics associated with each model illuminated a distinct trend: our classifiers demonstrated increased proficiency in predicting the income of individuals earning less than $50,000 per annum compared to those earning more.\n",
    "\n",
    "By strategically refining our dataset to exclude potential outliers that could confound our classifiers — specifically, by limiting the age range — we observed a marginal enhancement in our models' performance. This was most notable in the improved recall of positive predictions, signified by a decrease in false negatives among high-income individuals, at the expense of precision (specifically for predicting those individuals who did not fall into the high income category).\n",
    "\n",
    "We theorize that this challenge could be partly attributable to the data collection methodology. For instance, the annual Capital Gain is capped at $99,999, thereby restricting the granularity of our data. Furthermore, we acknowledge the absence of certain features in the survey data that could potentially correlate strongly with income (ommited variables). These include family income, college major, geographic location, and overall health status, among others.\n",
    "\n",
    "To encapsulate our findings, we present a detailed overview of the performance of our fine-tuned models.\n",
    "\n",
    "As a team, we extend our gratitude to the U.S. Census Bureau for their diligent data collection, UCI for maintaining the Machine Learning Repository which provided us with access to this dataset, and to our esteemed Professor Stephen Devlin. His engaging course has truly stimulated our interest in data science and machine learning methodologies, fostering a deeper understanding of the practical challenges and the critical thinking involved in handling real-world data and equipping us with a toolkit to take on the challenge of meaningful analysis. This project has been an invaluable learning experience, and we look forward to applying the insights gained to our future research endeavors.\n",
    "\n",
    "\n",
    "\n",
    "\n"
   ]
  }
 ],
 "metadata": {
  "kernelspec": {
   "display_name": "Python 3 (ipykernel)",
   "language": "python",
   "name": "python3"
  },
  "language_info": {
   "codemirror_mode": {
    "name": "ipython",
    "version": 3
   },
   "file_extension": ".py",
   "mimetype": "text/x-python",
   "name": "python",
   "nbconvert_exporter": "python",
   "pygments_lexer": "ipython3",
   "version": "3.9.12"
  }
 },
 "nbformat": 4,
 "nbformat_minor": 5
}
