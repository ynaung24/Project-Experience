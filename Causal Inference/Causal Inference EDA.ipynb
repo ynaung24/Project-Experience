{
 "cells": [
  {
   "cell_type": "code",
   "execution_count": 1,
   "id": "e76489d8-a509-431f-ba04-661f2a83f635",
   "metadata": {},
   "outputs": [],
   "source": [
    "import numpy as np\n",
    "import pandas as pd\n",
    "\n",
    "from sklearn.impute import KNNImputer\n",
    "import statsmodels.api as sm\n",
    "from sklearn.preprocessing import StandardScaler\n",
    "\n",
    "import matplotlib.pyplot as plt\n",
    "%matplotlib inline\n",
    "\n",
    "import seaborn as sns\n",
    "sns.set()"
   ]
  },
  {
   "cell_type": "markdown",
   "id": "91750c51-6a2f-48f3-95ec-b6243d827d99",
   "metadata": {},
   "source": [
    "## Summary"
   ]
  },
  {
   "cell_type": "markdown",
   "id": "1bb43f3e-bace-4543-9130-14d0a9070e5e",
   "metadata": {},
   "source": [
    "This notebook will analyze five different before and after statistics of 3750 golfers who subscribed to a paid premium feature of a golf application. There will be linear regression (OLS) "
   ]
  },
  {
   "cell_type": "markdown",
   "id": "3dbd669a-d856-4f0c-ae10-9c2c011c78f1",
   "metadata": {
    "tags": []
   },
   "source": [
    "## Data Preprocessing"
   ]
  },
  {
   "cell_type": "code",
   "execution_count": 2,
   "id": "227cc5d0-9e7e-4d84-88a2-71ab529c36e0",
   "metadata": {},
   "outputs": [],
   "source": [
    "df = pd.read_csv('before-after-premium.csv')\n",
    "df.drop(columns = ['user_id'], inplace = True)"
   ]
  },
  {
   "cell_type": "code",
   "execution_count": 3,
   "id": "3a333c1d-ff22-4f36-83fa-77a86210a479",
   "metadata": {},
   "outputs": [
    {
     "data": {
      "text/html": [
       "<div>\n",
       "<style scoped>\n",
       "    .dataframe tbody tr th:only-of-type {\n",
       "        vertical-align: middle;\n",
       "    }\n",
       "\n",
       "    .dataframe tbody tr th {\n",
       "        vertical-align: top;\n",
       "    }\n",
       "\n",
       "    .dataframe thead th {\n",
       "        text-align: right;\n",
       "    }\n",
       "</style>\n",
       "<table border=\"1\" class=\"dataframe\">\n",
       "  <thead>\n",
       "    <tr style=\"text-align: right;\">\n",
       "      <th></th>\n",
       "      <th>avgBeforeToPar</th>\n",
       "      <th>avgBeforeFairwayHits</th>\n",
       "      <th>avgBeforeGir</th>\n",
       "      <th>avgBeforePuttsPerHole</th>\n",
       "      <th>avgBeforeUpAndDownPercentage</th>\n",
       "      <th>avgAfterToPar</th>\n",
       "      <th>avgAfterFairwayHits</th>\n",
       "      <th>avgAfterGir</th>\n",
       "      <th>avgAfterPuttsPerHole</th>\n",
       "      <th>avgAfterUpAndDownPercentage</th>\n",
       "    </tr>\n",
       "  </thead>\n",
       "  <tbody>\n",
       "    <tr>\n",
       "      <th>0</th>\n",
       "      <td>16.000000</td>\n",
       "      <td>9.666667</td>\n",
       "      <td>6.000000</td>\n",
       "      <td>1.851852</td>\n",
       "      <td>35.269360</td>\n",
       "      <td>11.000000</td>\n",
       "      <td>9.000000</td>\n",
       "      <td>8.000000</td>\n",
       "      <td>1.851852</td>\n",
       "      <td>33.333333</td>\n",
       "    </tr>\n",
       "    <tr>\n",
       "      <th>1</th>\n",
       "      <td>-1000.000000</td>\n",
       "      <td>-1000.000000</td>\n",
       "      <td>-1000.000000</td>\n",
       "      <td>-1000.000000</td>\n",
       "      <td>-1000.000000</td>\n",
       "      <td>22.000000</td>\n",
       "      <td>4.333333</td>\n",
       "      <td>4.000000</td>\n",
       "      <td>2.037037</td>\n",
       "      <td>23.333333</td>\n",
       "    </tr>\n",
       "    <tr>\n",
       "      <th>2</th>\n",
       "      <td>4.000000</td>\n",
       "      <td>6.333333</td>\n",
       "      <td>9.666667</td>\n",
       "      <td>1.740741</td>\n",
       "      <td>35.185185</td>\n",
       "      <td>1.666667</td>\n",
       "      <td>6.000000</td>\n",
       "      <td>9.666667</td>\n",
       "      <td>1.648148</td>\n",
       "      <td>81.944444</td>\n",
       "    </tr>\n",
       "    <tr>\n",
       "      <th>3</th>\n",
       "      <td>26.666667</td>\n",
       "      <td>5.666667</td>\n",
       "      <td>2.000000</td>\n",
       "      <td>2.055556</td>\n",
       "      <td>26.785714</td>\n",
       "      <td>23.666667</td>\n",
       "      <td>4.333333</td>\n",
       "      <td>4.333333</td>\n",
       "      <td>2.296296</td>\n",
       "      <td>31.746032</td>\n",
       "    </tr>\n",
       "    <tr>\n",
       "      <th>4</th>\n",
       "      <td>1.333333</td>\n",
       "      <td>10.666667</td>\n",
       "      <td>13.000000</td>\n",
       "      <td>1.851852</td>\n",
       "      <td>36.666667</td>\n",
       "      <td>-1000.000000</td>\n",
       "      <td>-1000.000000</td>\n",
       "      <td>-1000.000000</td>\n",
       "      <td>-1000.000000</td>\n",
       "      <td>-1000.000000</td>\n",
       "    </tr>\n",
       "    <tr>\n",
       "      <th>...</th>\n",
       "      <td>...</td>\n",
       "      <td>...</td>\n",
       "      <td>...</td>\n",
       "      <td>...</td>\n",
       "      <td>...</td>\n",
       "      <td>...</td>\n",
       "      <td>...</td>\n",
       "      <td>...</td>\n",
       "      <td>...</td>\n",
       "      <td>...</td>\n",
       "    </tr>\n",
       "    <tr>\n",
       "      <th>3745</th>\n",
       "      <td>15.666667</td>\n",
       "      <td>5.666667</td>\n",
       "      <td>6.000000</td>\n",
       "      <td>1.722222</td>\n",
       "      <td>56.944444</td>\n",
       "      <td>14.666667</td>\n",
       "      <td>7.333333</td>\n",
       "      <td>6.666667</td>\n",
       "      <td>1.870370</td>\n",
       "      <td>33.968254</td>\n",
       "    </tr>\n",
       "    <tr>\n",
       "      <th>3746</th>\n",
       "      <td>4.666667</td>\n",
       "      <td>10.000000</td>\n",
       "      <td>12.000000</td>\n",
       "      <td>1.925926</td>\n",
       "      <td>57.777778</td>\n",
       "      <td>9.000000</td>\n",
       "      <td>7.000000</td>\n",
       "      <td>8.000000</td>\n",
       "      <td>1.944444</td>\n",
       "      <td>55.555556</td>\n",
       "    </tr>\n",
       "    <tr>\n",
       "      <th>3747</th>\n",
       "      <td>-1000.000000</td>\n",
       "      <td>-1000.000000</td>\n",
       "      <td>-1000.000000</td>\n",
       "      <td>-1000.000000</td>\n",
       "      <td>-1000.000000</td>\n",
       "      <td>20.000000</td>\n",
       "      <td>4.666667</td>\n",
       "      <td>2.000000</td>\n",
       "      <td>1.944444</td>\n",
       "      <td>19.358974</td>\n",
       "    </tr>\n",
       "    <tr>\n",
       "      <th>3748</th>\n",
       "      <td>-1000.000000</td>\n",
       "      <td>-1000.000000</td>\n",
       "      <td>-1000.000000</td>\n",
       "      <td>-1000.000000</td>\n",
       "      <td>-1000.000000</td>\n",
       "      <td>-1000.000000</td>\n",
       "      <td>-1000.000000</td>\n",
       "      <td>-1000.000000</td>\n",
       "      <td>-1000.000000</td>\n",
       "      <td>-1000.000000</td>\n",
       "    </tr>\n",
       "    <tr>\n",
       "      <th>3749</th>\n",
       "      <td>17.333333</td>\n",
       "      <td>7.333333</td>\n",
       "      <td>7.000000</td>\n",
       "      <td>2.000000</td>\n",
       "      <td>12.424242</td>\n",
       "      <td>21.000000</td>\n",
       "      <td>6.666667</td>\n",
       "      <td>3.666667</td>\n",
       "      <td>1.870370</td>\n",
       "      <td>26.948052</td>\n",
       "    </tr>\n",
       "  </tbody>\n",
       "</table>\n",
       "<p>3750 rows × 10 columns</p>\n",
       "</div>"
      ],
      "text/plain": [
       "      avgBeforeToPar  avgBeforeFairwayHits  avgBeforeGir  \\\n",
       "0          16.000000              9.666667      6.000000   \n",
       "1       -1000.000000          -1000.000000  -1000.000000   \n",
       "2           4.000000              6.333333      9.666667   \n",
       "3          26.666667              5.666667      2.000000   \n",
       "4           1.333333             10.666667     13.000000   \n",
       "...              ...                   ...           ...   \n",
       "3745       15.666667              5.666667      6.000000   \n",
       "3746        4.666667             10.000000     12.000000   \n",
       "3747    -1000.000000          -1000.000000  -1000.000000   \n",
       "3748    -1000.000000          -1000.000000  -1000.000000   \n",
       "3749       17.333333              7.333333      7.000000   \n",
       "\n",
       "      avgBeforePuttsPerHole  avgBeforeUpAndDownPercentage  avgAfterToPar  \\\n",
       "0                  1.851852                     35.269360      11.000000   \n",
       "1              -1000.000000                  -1000.000000      22.000000   \n",
       "2                  1.740741                     35.185185       1.666667   \n",
       "3                  2.055556                     26.785714      23.666667   \n",
       "4                  1.851852                     36.666667   -1000.000000   \n",
       "...                     ...                           ...            ...   \n",
       "3745               1.722222                     56.944444      14.666667   \n",
       "3746               1.925926                     57.777778       9.000000   \n",
       "3747           -1000.000000                  -1000.000000      20.000000   \n",
       "3748           -1000.000000                  -1000.000000   -1000.000000   \n",
       "3749               2.000000                     12.424242      21.000000   \n",
       "\n",
       "      avgAfterFairwayHits  avgAfterGir  avgAfterPuttsPerHole  \\\n",
       "0                9.000000     8.000000              1.851852   \n",
       "1                4.333333     4.000000              2.037037   \n",
       "2                6.000000     9.666667              1.648148   \n",
       "3                4.333333     4.333333              2.296296   \n",
       "4            -1000.000000 -1000.000000          -1000.000000   \n",
       "...                   ...          ...                   ...   \n",
       "3745             7.333333     6.666667              1.870370   \n",
       "3746             7.000000     8.000000              1.944444   \n",
       "3747             4.666667     2.000000              1.944444   \n",
       "3748         -1000.000000 -1000.000000          -1000.000000   \n",
       "3749             6.666667     3.666667              1.870370   \n",
       "\n",
       "      avgAfterUpAndDownPercentage  \n",
       "0                       33.333333  \n",
       "1                       23.333333  \n",
       "2                       81.944444  \n",
       "3                       31.746032  \n",
       "4                    -1000.000000  \n",
       "...                           ...  \n",
       "3745                    33.968254  \n",
       "3746                    55.555556  \n",
       "3747                    19.358974  \n",
       "3748                 -1000.000000  \n",
       "3749                    26.948052  \n",
       "\n",
       "[3750 rows x 10 columns]"
      ]
     },
     "execution_count": 3,
     "metadata": {},
     "output_type": "execute_result"
    }
   ],
   "source": [
    "df"
   ]
  },
  {
   "cell_type": "code",
   "execution_count": 4,
   "id": "a098efda-8459-44f5-b0ec-669bb94d8051",
   "metadata": {},
   "outputs": [
    {
     "data": {
      "text/html": [
       "<div>\n",
       "<style scoped>\n",
       "    .dataframe tbody tr th:only-of-type {\n",
       "        vertical-align: middle;\n",
       "    }\n",
       "\n",
       "    .dataframe tbody tr th {\n",
       "        vertical-align: top;\n",
       "    }\n",
       "\n",
       "    .dataframe thead th {\n",
       "        text-align: right;\n",
       "    }\n",
       "</style>\n",
       "<table border=\"1\" class=\"dataframe\">\n",
       "  <thead>\n",
       "    <tr style=\"text-align: right;\">\n",
       "      <th></th>\n",
       "      <th>avgBeforeToPar</th>\n",
       "      <th>avgBeforeFairwayHits</th>\n",
       "      <th>avgBeforeGir</th>\n",
       "      <th>avgBeforePuttsPerHole</th>\n",
       "      <th>avgBeforeUpAndDownPercentage</th>\n",
       "      <th>avgAfterToPar</th>\n",
       "      <th>avgAfterFairwayHits</th>\n",
       "      <th>avgAfterGir</th>\n",
       "      <th>avgAfterPuttsPerHole</th>\n",
       "      <th>avgAfterUpAndDownPercentage</th>\n",
       "    </tr>\n",
       "  </thead>\n",
       "  <tbody>\n",
       "    <tr>\n",
       "      <th>count</th>\n",
       "      <td>3750.000000</td>\n",
       "      <td>3750.000000</td>\n",
       "      <td>3750.000000</td>\n",
       "      <td>3750.000000</td>\n",
       "      <td>3750.000000</td>\n",
       "      <td>3750.000000</td>\n",
       "      <td>3750.000000</td>\n",
       "      <td>3750.000000</td>\n",
       "      <td>3750.000000</td>\n",
       "      <td>3750.000000</td>\n",
       "    </tr>\n",
       "    <tr>\n",
       "      <th>mean</th>\n",
       "      <td>-268.548444</td>\n",
       "      <td>-275.975289</td>\n",
       "      <td>-276.763644</td>\n",
       "      <td>-279.420652</td>\n",
       "      <td>-259.431301</td>\n",
       "      <td>-223.649867</td>\n",
       "      <td>-231.413333</td>\n",
       "      <td>-232.240533</td>\n",
       "      <td>-235.072207</td>\n",
       "      <td>-213.590625</td>\n",
       "    </tr>\n",
       "    <tr>\n",
       "      <th>std</th>\n",
       "      <td>457.163685</td>\n",
       "      <td>452.469488</td>\n",
       "      <td>451.978735</td>\n",
       "      <td>450.311939</td>\n",
       "      <td>463.071049</td>\n",
       "      <td>432.241343</td>\n",
       "      <td>427.865312</td>\n",
       "      <td>427.406646</td>\n",
       "      <td>425.823396</td>\n",
       "      <td>438.086415</td>\n",
       "    </tr>\n",
       "    <tr>\n",
       "      <th>min</th>\n",
       "      <td>-1000.000000</td>\n",
       "      <td>-1000.000000</td>\n",
       "      <td>-1000.000000</td>\n",
       "      <td>-1000.000000</td>\n",
       "      <td>-1000.000000</td>\n",
       "      <td>-1000.000000</td>\n",
       "      <td>-1000.000000</td>\n",
       "      <td>-1000.000000</td>\n",
       "      <td>-1000.000000</td>\n",
       "      <td>-1000.000000</td>\n",
       "    </tr>\n",
       "    <tr>\n",
       "      <th>25%</th>\n",
       "      <td>-1000.000000</td>\n",
       "      <td>-1000.000000</td>\n",
       "      <td>-1000.000000</td>\n",
       "      <td>-1000.000000</td>\n",
       "      <td>-1000.000000</td>\n",
       "      <td>2.000000</td>\n",
       "      <td>2.000000</td>\n",
       "      <td>1.000000</td>\n",
       "      <td>1.555556</td>\n",
       "      <td>0.000000</td>\n",
       "    </tr>\n",
       "    <tr>\n",
       "      <th>50%</th>\n",
       "      <td>12.333333</td>\n",
       "      <td>5.333333</td>\n",
       "      <td>4.000000</td>\n",
       "      <td>1.833333</td>\n",
       "      <td>19.444444</td>\n",
       "      <td>13.000000</td>\n",
       "      <td>5.666667</td>\n",
       "      <td>4.000000</td>\n",
       "      <td>1.833333</td>\n",
       "      <td>21.010656</td>\n",
       "    </tr>\n",
       "    <tr>\n",
       "      <th>75%</th>\n",
       "      <td>19.583333</td>\n",
       "      <td>7.666667</td>\n",
       "      <td>6.666667</td>\n",
       "      <td>1.981481</td>\n",
       "      <td>34.343434</td>\n",
       "      <td>20.000000</td>\n",
       "      <td>7.666667</td>\n",
       "      <td>6.666667</td>\n",
       "      <td>1.981481</td>\n",
       "      <td>34.722222</td>\n",
       "    </tr>\n",
       "    <tr>\n",
       "      <th>max</th>\n",
       "      <td>70.666667</td>\n",
       "      <td>14.000000</td>\n",
       "      <td>17.333333</td>\n",
       "      <td>2.888889</td>\n",
       "      <td>100.000000</td>\n",
       "      <td>55.333333</td>\n",
       "      <td>15.000000</td>\n",
       "      <td>18.000000</td>\n",
       "      <td>2.777778</td>\n",
       "      <td>100.000000</td>\n",
       "    </tr>\n",
       "  </tbody>\n",
       "</table>\n",
       "</div>"
      ],
      "text/plain": [
       "       avgBeforeToPar  avgBeforeFairwayHits  avgBeforeGir  \\\n",
       "count     3750.000000           3750.000000   3750.000000   \n",
       "mean      -268.548444           -275.975289   -276.763644   \n",
       "std        457.163685            452.469488    451.978735   \n",
       "min      -1000.000000          -1000.000000  -1000.000000   \n",
       "25%      -1000.000000          -1000.000000  -1000.000000   \n",
       "50%         12.333333              5.333333      4.000000   \n",
       "75%         19.583333              7.666667      6.666667   \n",
       "max         70.666667             14.000000     17.333333   \n",
       "\n",
       "       avgBeforePuttsPerHole  avgBeforeUpAndDownPercentage  avgAfterToPar  \\\n",
       "count            3750.000000                   3750.000000    3750.000000   \n",
       "mean             -279.420652                   -259.431301    -223.649867   \n",
       "std               450.311939                    463.071049     432.241343   \n",
       "min             -1000.000000                  -1000.000000   -1000.000000   \n",
       "25%             -1000.000000                  -1000.000000       2.000000   \n",
       "50%                 1.833333                     19.444444      13.000000   \n",
       "75%                 1.981481                     34.343434      20.000000   \n",
       "max                 2.888889                    100.000000      55.333333   \n",
       "\n",
       "       avgAfterFairwayHits  avgAfterGir  avgAfterPuttsPerHole  \\\n",
       "count          3750.000000  3750.000000           3750.000000   \n",
       "mean           -231.413333  -232.240533           -235.072207   \n",
       "std             427.865312   427.406646            425.823396   \n",
       "min           -1000.000000 -1000.000000          -1000.000000   \n",
       "25%               2.000000     1.000000              1.555556   \n",
       "50%               5.666667     4.000000              1.833333   \n",
       "75%               7.666667     6.666667              1.981481   \n",
       "max              15.000000    18.000000              2.777778   \n",
       "\n",
       "       avgAfterUpAndDownPercentage  \n",
       "count                  3750.000000  \n",
       "mean                   -213.590625  \n",
       "std                     438.086415  \n",
       "min                   -1000.000000  \n",
       "25%                       0.000000  \n",
       "50%                      21.010656  \n",
       "75%                      34.722222  \n",
       "max                     100.000000  "
      ]
     },
     "execution_count": 4,
     "metadata": {},
     "output_type": "execute_result"
    }
   ],
   "source": [
    "df.describe()"
   ]
  },
  {
   "cell_type": "code",
   "execution_count": 5,
   "id": "658b34b4-dfb0-429b-bf9d-d8fbe8e3f51c",
   "metadata": {},
   "outputs": [
    {
     "data": {
      "text/plain": [
       "0.3973333333333333"
      ]
     },
     "execution_count": 5,
     "metadata": {},
     "output_type": "execute_result"
    }
   ],
   "source": [
    "count = ((df == -1000).any(axis=1).sum())\n",
    "count/len(df)"
   ]
  },
  {
   "cell_type": "markdown",
   "id": "822eb2db-c416-4163-a9ff-54beb88bf179",
   "metadata": {},
   "source": [
    "If I just remove all of the -1000 then we will lose about 40% of the original dataset so to preserve that I replaced them with nan-values in order to use KNN Imputer."
   ]
  },
  {
   "cell_type": "code",
   "execution_count": 6,
   "id": "d20944bb-eb17-438a-9df5-e09a8cc62022",
   "metadata": {},
   "outputs": [],
   "source": [
    "df.replace(-1000, np.nan, inplace = True)"
   ]
  },
  {
   "cell_type": "code",
   "execution_count": 7,
   "id": "952ae9ca-b0b7-44b1-8845-b4f200b5f03c",
   "metadata": {},
   "outputs": [
    {
     "data": {
      "text/html": [
       "<div>\n",
       "<style scoped>\n",
       "    .dataframe tbody tr th:only-of-type {\n",
       "        vertical-align: middle;\n",
       "    }\n",
       "\n",
       "    .dataframe tbody tr th {\n",
       "        vertical-align: top;\n",
       "    }\n",
       "\n",
       "    .dataframe thead th {\n",
       "        text-align: right;\n",
       "    }\n",
       "</style>\n",
       "<table border=\"1\" class=\"dataframe\">\n",
       "  <thead>\n",
       "    <tr style=\"text-align: right;\">\n",
       "      <th></th>\n",
       "      <th>avgBeforeToPar</th>\n",
       "      <th>avgBeforeFairwayHits</th>\n",
       "      <th>avgBeforeGir</th>\n",
       "      <th>avgBeforePuttsPerHole</th>\n",
       "      <th>avgBeforeUpAndDownPercentage</th>\n",
       "      <th>avgAfterToPar</th>\n",
       "      <th>avgAfterFairwayHits</th>\n",
       "      <th>avgAfterGir</th>\n",
       "      <th>avgAfterPuttsPerHole</th>\n",
       "      <th>avgAfterUpAndDownPercentage</th>\n",
       "    </tr>\n",
       "  </thead>\n",
       "  <tbody>\n",
       "    <tr>\n",
       "      <th>0</th>\n",
       "      <td>16.000000</td>\n",
       "      <td>9.666667</td>\n",
       "      <td>6.000000</td>\n",
       "      <td>1.851852</td>\n",
       "      <td>35.269360</td>\n",
       "      <td>11.000000</td>\n",
       "      <td>9.000000</td>\n",
       "      <td>8.000000</td>\n",
       "      <td>1.851852</td>\n",
       "      <td>33.333333</td>\n",
       "    </tr>\n",
       "    <tr>\n",
       "      <th>1</th>\n",
       "      <td>22.633333</td>\n",
       "      <td>4.866667</td>\n",
       "      <td>3.966667</td>\n",
       "      <td>2.024074</td>\n",
       "      <td>19.289100</td>\n",
       "      <td>22.000000</td>\n",
       "      <td>4.333333</td>\n",
       "      <td>4.000000</td>\n",
       "      <td>2.037037</td>\n",
       "      <td>23.333333</td>\n",
       "    </tr>\n",
       "    <tr>\n",
       "      <th>2</th>\n",
       "      <td>4.000000</td>\n",
       "      <td>6.333333</td>\n",
       "      <td>9.666667</td>\n",
       "      <td>1.740741</td>\n",
       "      <td>35.185185</td>\n",
       "      <td>1.666667</td>\n",
       "      <td>6.000000</td>\n",
       "      <td>9.666667</td>\n",
       "      <td>1.648148</td>\n",
       "      <td>81.944444</td>\n",
       "    </tr>\n",
       "    <tr>\n",
       "      <th>3</th>\n",
       "      <td>26.666667</td>\n",
       "      <td>5.666667</td>\n",
       "      <td>2.000000</td>\n",
       "      <td>2.055556</td>\n",
       "      <td>26.785714</td>\n",
       "      <td>23.666667</td>\n",
       "      <td>4.333333</td>\n",
       "      <td>4.333333</td>\n",
       "      <td>2.296296</td>\n",
       "      <td>31.746032</td>\n",
       "    </tr>\n",
       "    <tr>\n",
       "      <th>4</th>\n",
       "      <td>1.333333</td>\n",
       "      <td>10.666667</td>\n",
       "      <td>13.000000</td>\n",
       "      <td>1.851852</td>\n",
       "      <td>36.666667</td>\n",
       "      <td>6.366667</td>\n",
       "      <td>8.700000</td>\n",
       "      <td>9.633333</td>\n",
       "      <td>1.842593</td>\n",
       "      <td>33.965127</td>\n",
       "    </tr>\n",
       "  </tbody>\n",
       "</table>\n",
       "</div>"
      ],
      "text/plain": [
       "   avgBeforeToPar  avgBeforeFairwayHits  avgBeforeGir  avgBeforePuttsPerHole  \\\n",
       "0       16.000000              9.666667      6.000000               1.851852   \n",
       "1       22.633333              4.866667      3.966667               2.024074   \n",
       "2        4.000000              6.333333      9.666667               1.740741   \n",
       "3       26.666667              5.666667      2.000000               2.055556   \n",
       "4        1.333333             10.666667     13.000000               1.851852   \n",
       "\n",
       "   avgBeforeUpAndDownPercentage  avgAfterToPar  avgAfterFairwayHits  \\\n",
       "0                     35.269360      11.000000             9.000000   \n",
       "1                     19.289100      22.000000             4.333333   \n",
       "2                     35.185185       1.666667             6.000000   \n",
       "3                     26.785714      23.666667             4.333333   \n",
       "4                     36.666667       6.366667             8.700000   \n",
       "\n",
       "   avgAfterGir  avgAfterPuttsPerHole  avgAfterUpAndDownPercentage  \n",
       "0     8.000000              1.851852                    33.333333  \n",
       "1     4.000000              2.037037                    23.333333  \n",
       "2     9.666667              1.648148                    81.944444  \n",
       "3     4.333333              2.296296                    31.746032  \n",
       "4     9.633333              1.842593                    33.965127  "
      ]
     },
     "execution_count": 7,
     "metadata": {},
     "output_type": "execute_result"
    }
   ],
   "source": [
    "#knn imputer will take 10 nearest neighbors from the missing values (-1000) and fill it with what fits the best based from mean, median, and mode of that particular cell.\n",
    "imputer = KNNImputer(n_neighbors = 10)\n",
    "\n",
    "dfi = pd.DataFrame(imputer.fit_transform(df), columns = df.columns)\n",
    "dfi.head()"
   ]
  },
  {
   "cell_type": "code",
   "execution_count": 8,
   "id": "fbc5769a-a4d3-4e7d-8281-fb2fd840c85d",
   "metadata": {},
   "outputs": [
    {
     "data": {
      "text/html": [
       "<div>\n",
       "<style scoped>\n",
       "    .dataframe tbody tr th:only-of-type {\n",
       "        vertical-align: middle;\n",
       "    }\n",
       "\n",
       "    .dataframe tbody tr th {\n",
       "        vertical-align: top;\n",
       "    }\n",
       "\n",
       "    .dataframe thead th {\n",
       "        text-align: right;\n",
       "    }\n",
       "</style>\n",
       "<table border=\"1\" class=\"dataframe\">\n",
       "  <thead>\n",
       "    <tr style=\"text-align: right;\">\n",
       "      <th></th>\n",
       "      <th>avgBeforeToPar</th>\n",
       "      <th>avgBeforeFairwayHits</th>\n",
       "      <th>avgBeforeGir</th>\n",
       "      <th>avgBeforePuttsPerHole</th>\n",
       "      <th>avgBeforeUpAndDownPercentage</th>\n",
       "      <th>avgAfterToPar</th>\n",
       "      <th>avgAfterFairwayHits</th>\n",
       "      <th>avgAfterGir</th>\n",
       "      <th>avgAfterPuttsPerHole</th>\n",
       "      <th>avgAfterUpAndDownPercentage</th>\n",
       "    </tr>\n",
       "  </thead>\n",
       "  <tbody>\n",
       "    <tr>\n",
       "      <th>count</th>\n",
       "      <td>3750.000000</td>\n",
       "      <td>3750.000000</td>\n",
       "      <td>3750.000000</td>\n",
       "      <td>3750.000000</td>\n",
       "      <td>3750.000000</td>\n",
       "      <td>3750.000000</td>\n",
       "      <td>3750.000000</td>\n",
       "      <td>3750.000000</td>\n",
       "      <td>3750.000000</td>\n",
       "      <td>3750.000000</td>\n",
       "    </tr>\n",
       "    <tr>\n",
       "      <th>mean</th>\n",
       "      <td>17.054971</td>\n",
       "      <td>6.715226</td>\n",
       "      <td>5.600239</td>\n",
       "      <td>1.918514</td>\n",
       "      <td>29.622448</td>\n",
       "      <td>16.927830</td>\n",
       "      <td>6.682590</td>\n",
       "      <td>5.601391</td>\n",
       "      <td>1.914144</td>\n",
       "      <td>30.001431</td>\n",
       "    </tr>\n",
       "    <tr>\n",
       "      <th>std</th>\n",
       "      <td>7.676915</td>\n",
       "      <td>2.062056</td>\n",
       "      <td>2.510144</td>\n",
       "      <td>0.157348</td>\n",
       "      <td>16.143265</td>\n",
       "      <td>7.484360</td>\n",
       "      <td>2.130246</td>\n",
       "      <td>2.510330</td>\n",
       "      <td>0.158807</td>\n",
       "      <td>16.642238</td>\n",
       "    </tr>\n",
       "    <tr>\n",
       "      <th>min</th>\n",
       "      <td>-7.000000</td>\n",
       "      <td>0.000000</td>\n",
       "      <td>0.000000</td>\n",
       "      <td>1.388889</td>\n",
       "      <td>0.000000</td>\n",
       "      <td>-6.000000</td>\n",
       "      <td>0.000000</td>\n",
       "      <td>0.000000</td>\n",
       "      <td>1.277778</td>\n",
       "      <td>0.000000</td>\n",
       "    </tr>\n",
       "    <tr>\n",
       "      <th>25%</th>\n",
       "      <td>12.208333</td>\n",
       "      <td>5.466667</td>\n",
       "      <td>4.000000</td>\n",
       "      <td>1.833333</td>\n",
       "      <td>19.949495</td>\n",
       "      <td>12.000000</td>\n",
       "      <td>5.333333</td>\n",
       "      <td>4.000000</td>\n",
       "      <td>1.833333</td>\n",
       "      <td>19.696970</td>\n",
       "    </tr>\n",
       "    <tr>\n",
       "      <th>50%</th>\n",
       "      <td>17.034977</td>\n",
       "      <td>6.708441</td>\n",
       "      <td>5.612285</td>\n",
       "      <td>1.917892</td>\n",
       "      <td>29.711762</td>\n",
       "      <td>16.874956</td>\n",
       "      <td>6.706252</td>\n",
       "      <td>5.622773</td>\n",
       "      <td>1.913804</td>\n",
       "      <td>30.050701</td>\n",
       "    </tr>\n",
       "    <tr>\n",
       "      <th>75%</th>\n",
       "      <td>21.000000</td>\n",
       "      <td>8.000000</td>\n",
       "      <td>7.000000</td>\n",
       "      <td>2.000000</td>\n",
       "      <td>37.106643</td>\n",
       "      <td>21.000000</td>\n",
       "      <td>8.000000</td>\n",
       "      <td>7.000000</td>\n",
       "      <td>2.000000</td>\n",
       "      <td>37.086640</td>\n",
       "    </tr>\n",
       "    <tr>\n",
       "      <th>max</th>\n",
       "      <td>70.666667</td>\n",
       "      <td>14.000000</td>\n",
       "      <td>17.333333</td>\n",
       "      <td>2.888889</td>\n",
       "      <td>100.000000</td>\n",
       "      <td>55.333333</td>\n",
       "      <td>15.000000</td>\n",
       "      <td>18.000000</td>\n",
       "      <td>2.777778</td>\n",
       "      <td>100.000000</td>\n",
       "    </tr>\n",
       "  </tbody>\n",
       "</table>\n",
       "</div>"
      ],
      "text/plain": [
       "       avgBeforeToPar  avgBeforeFairwayHits  avgBeforeGir  \\\n",
       "count     3750.000000           3750.000000   3750.000000   \n",
       "mean        17.054971              6.715226      5.600239   \n",
       "std          7.676915              2.062056      2.510144   \n",
       "min         -7.000000              0.000000      0.000000   \n",
       "25%         12.208333              5.466667      4.000000   \n",
       "50%         17.034977              6.708441      5.612285   \n",
       "75%         21.000000              8.000000      7.000000   \n",
       "max         70.666667             14.000000     17.333333   \n",
       "\n",
       "       avgBeforePuttsPerHole  avgBeforeUpAndDownPercentage  avgAfterToPar  \\\n",
       "count            3750.000000                   3750.000000    3750.000000   \n",
       "mean                1.918514                     29.622448      16.927830   \n",
       "std                 0.157348                     16.143265       7.484360   \n",
       "min                 1.388889                      0.000000      -6.000000   \n",
       "25%                 1.833333                     19.949495      12.000000   \n",
       "50%                 1.917892                     29.711762      16.874956   \n",
       "75%                 2.000000                     37.106643      21.000000   \n",
       "max                 2.888889                    100.000000      55.333333   \n",
       "\n",
       "       avgAfterFairwayHits  avgAfterGir  avgAfterPuttsPerHole  \\\n",
       "count          3750.000000  3750.000000           3750.000000   \n",
       "mean              6.682590     5.601391              1.914144   \n",
       "std               2.130246     2.510330              0.158807   \n",
       "min               0.000000     0.000000              1.277778   \n",
       "25%               5.333333     4.000000              1.833333   \n",
       "50%               6.706252     5.622773              1.913804   \n",
       "75%               8.000000     7.000000              2.000000   \n",
       "max              15.000000    18.000000              2.777778   \n",
       "\n",
       "       avgAfterUpAndDownPercentage  \n",
       "count                  3750.000000  \n",
       "mean                     30.001431  \n",
       "std                      16.642238  \n",
       "min                       0.000000  \n",
       "25%                      19.696970  \n",
       "50%                      30.050701  \n",
       "75%                      37.086640  \n",
       "max                     100.000000  "
      ]
     },
     "execution_count": 8,
     "metadata": {},
     "output_type": "execute_result"
    }
   ],
   "source": [
    "dfi.describe()"
   ]
  },
  {
   "cell_type": "markdown",
   "id": "d625d6c5-f536-4b3c-b7e8-35b0328ab7f4",
   "metadata": {},
   "source": [
    "## Distribution of Avg Score to Par for Before and After"
   ]
  },
  {
   "cell_type": "code",
   "execution_count": 9,
   "id": "5299c1ef-ae77-4bed-bf1f-0abbd0068314",
   "metadata": {},
   "outputs": [
    {
     "data": {
      "image/png": "[encoded data removed]",
      "text/plain": [
       "<Figure size 720x576 with 1 Axes>"
      ]
     },
     "metadata": {},
     "output_type": "display_data"
    }
   ],
   "source": [
    "plt.figure(figsize = (10,8))\n",
    "plt.hist(dfi['avgBeforeToPar'], color = 'blue', bins = 20, label = 'Before')\n",
    "plt.hist(dfi['avgAfterToPar'], color = 'red', bins = 20, label = 'After')\n",
    "\n",
    "plt.title('Distribution of Handicaps Before and After Premium Sub')\n",
    "plt.xlabel('avg to par')\n",
    "plt.ylabel('frequency')\n",
    "plt.legend()\n",
    "\n",
    "plt.show()"
   ]
  },
  {
   "cell_type": "markdown",
   "id": "cb607e21-ecfb-47b5-aa42-8bb28953d214",
   "metadata": {},
   "source": [
    "As we can see from the distribution of avg to par, there are more people who score lower after getting premium (distribution shifted to the left for after)."
   ]
  },
  {
   "cell_type": "markdown",
   "id": "e0276b84-fb0f-452f-86e9-6c8434a128d7",
   "metadata": {},
   "source": [
    "## Difference in Outcomes Calculation"
   ]
  },
  {
   "cell_type": "code",
   "execution_count": 10,
   "id": "34f7c249-b403-419e-9f92-7887fd50b7c4",
   "metadata": {},
   "outputs": [],
   "source": [
    "dfi1 = pd.DataFrame()\n",
    "\n",
    "dfi1['diff_hdc'] = dfi['avgBeforeToPar'] - dfi['avgAfterToPar']\n",
    "\n",
    "dfi1['diff_fwh'] = dfi['avgAfterFairwayHits'] - dfi['avgBeforeFairwayHits']\n",
    "\n",
    "dfi1['diff_gir'] = dfi['avgAfterGir'] - dfi['avgBeforeGir']\n",
    "\n",
    "dfi1['diff_pph'] = dfi['avgBeforePuttsPerHole'] - dfi['avgAfterPuttsPerHole']\n",
    "\n",
    "dfi1['diff_und'] = dfi['avgAfterUpAndDownPercentage'] - dfi['avgBeforeUpAndDownPercentage']"
   ]
  },
  {
   "cell_type": "markdown",
   "id": "fd69c345-604a-4d19-b4b5-30948ee65891",
   "metadata": {},
   "source": [
    "For simplicity, we will use the average score to par before and after as the handicap for each player to measure whether they improved or not. I have also framed the equations here to have positive results for improvement for all variables. For example, diff_hdc and diff_pph is calculated by subtracting after from before to have positive value for improvement since lower is better for the two of them, but the rest are subtracting before from after."
   ]
  },
  {
   "cell_type": "code",
   "execution_count": 11,
   "id": "b7f15947-516a-48e2-9107-8d4858ede70d",
   "metadata": {},
   "outputs": [
    {
     "data": {
      "text/html": [
       "<div>\n",
       "<style scoped>\n",
       "    .dataframe tbody tr th:only-of-type {\n",
       "        vertical-align: middle;\n",
       "    }\n",
       "\n",
       "    .dataframe tbody tr th {\n",
       "        vertical-align: top;\n",
       "    }\n",
       "\n",
       "    .dataframe thead th {\n",
       "        text-align: right;\n",
       "    }\n",
       "</style>\n",
       "<table border=\"1\" class=\"dataframe\">\n",
       "  <thead>\n",
       "    <tr style=\"text-align: right;\">\n",
       "      <th></th>\n",
       "      <th>diff_hdc</th>\n",
       "      <th>diff_fwh</th>\n",
       "      <th>diff_gir</th>\n",
       "      <th>diff_pph</th>\n",
       "      <th>diff_und</th>\n",
       "    </tr>\n",
       "  </thead>\n",
       "  <tbody>\n",
       "    <tr>\n",
       "      <th>0</th>\n",
       "      <td>5.000000</td>\n",
       "      <td>-0.666667</td>\n",
       "      <td>2.000000</td>\n",
       "      <td>0.000000</td>\n",
       "      <td>-1.936027</td>\n",
       "    </tr>\n",
       "    <tr>\n",
       "      <th>1</th>\n",
       "      <td>0.633333</td>\n",
       "      <td>-0.533333</td>\n",
       "      <td>0.033333</td>\n",
       "      <td>-0.012963</td>\n",
       "      <td>4.044234</td>\n",
       "    </tr>\n",
       "    <tr>\n",
       "      <th>2</th>\n",
       "      <td>2.333333</td>\n",
       "      <td>-0.333333</td>\n",
       "      <td>0.000000</td>\n",
       "      <td>0.092593</td>\n",
       "      <td>46.759259</td>\n",
       "    </tr>\n",
       "    <tr>\n",
       "      <th>3</th>\n",
       "      <td>3.000000</td>\n",
       "      <td>-1.333333</td>\n",
       "      <td>2.333333</td>\n",
       "      <td>-0.240741</td>\n",
       "      <td>4.960317</td>\n",
       "    </tr>\n",
       "    <tr>\n",
       "      <th>4</th>\n",
       "      <td>-5.033333</td>\n",
       "      <td>-1.966667</td>\n",
       "      <td>-3.366667</td>\n",
       "      <td>0.009259</td>\n",
       "      <td>-2.701539</td>\n",
       "    </tr>\n",
       "    <tr>\n",
       "      <th>...</th>\n",
       "      <td>...</td>\n",
       "      <td>...</td>\n",
       "      <td>...</td>\n",
       "      <td>...</td>\n",
       "      <td>...</td>\n",
       "    </tr>\n",
       "    <tr>\n",
       "      <th>3745</th>\n",
       "      <td>1.000000</td>\n",
       "      <td>1.666667</td>\n",
       "      <td>0.666667</td>\n",
       "      <td>-0.148148</td>\n",
       "      <td>-22.976190</td>\n",
       "    </tr>\n",
       "    <tr>\n",
       "      <th>3746</th>\n",
       "      <td>-4.333333</td>\n",
       "      <td>-3.000000</td>\n",
       "      <td>-4.000000</td>\n",
       "      <td>-0.018519</td>\n",
       "      <td>-2.222222</td>\n",
       "    </tr>\n",
       "    <tr>\n",
       "      <th>3747</th>\n",
       "      <td>-0.733333</td>\n",
       "      <td>-0.433333</td>\n",
       "      <td>-1.866667</td>\n",
       "      <td>-0.088889</td>\n",
       "      <td>-17.258510</td>\n",
       "    </tr>\n",
       "    <tr>\n",
       "      <th>3748</th>\n",
       "      <td>0.160021</td>\n",
       "      <td>-0.002189</td>\n",
       "      <td>0.010488</td>\n",
       "      <td>0.004088</td>\n",
       "      <td>0.338939</td>\n",
       "    </tr>\n",
       "    <tr>\n",
       "      <th>3749</th>\n",
       "      <td>-3.666667</td>\n",
       "      <td>-0.666667</td>\n",
       "      <td>-3.333333</td>\n",
       "      <td>0.129630</td>\n",
       "      <td>14.523810</td>\n",
       "    </tr>\n",
       "  </tbody>\n",
       "</table>\n",
       "<p>3750 rows × 5 columns</p>\n",
       "</div>"
      ],
      "text/plain": [
       "      diff_hdc  diff_fwh  diff_gir  diff_pph   diff_und\n",
       "0     5.000000 -0.666667  2.000000  0.000000  -1.936027\n",
       "1     0.633333 -0.533333  0.033333 -0.012963   4.044234\n",
       "2     2.333333 -0.333333  0.000000  0.092593  46.759259\n",
       "3     3.000000 -1.333333  2.333333 -0.240741   4.960317\n",
       "4    -5.033333 -1.966667 -3.366667  0.009259  -2.701539\n",
       "...        ...       ...       ...       ...        ...\n",
       "3745  1.000000  1.666667  0.666667 -0.148148 -22.976190\n",
       "3746 -4.333333 -3.000000 -4.000000 -0.018519  -2.222222\n",
       "3747 -0.733333 -0.433333 -1.866667 -0.088889 -17.258510\n",
       "3748  0.160021 -0.002189  0.010488  0.004088   0.338939\n",
       "3749 -3.666667 -0.666667 -3.333333  0.129630  14.523810\n",
       "\n",
       "[3750 rows x 5 columns]"
      ]
     },
     "execution_count": 11,
     "metadata": {},
     "output_type": "execute_result"
    }
   ],
   "source": [
    "dfi1"
   ]
  },
  {
   "cell_type": "code",
   "execution_count": 12,
   "id": "180cad39-f85c-4db8-913a-eadec3aec2f3",
   "metadata": {},
   "outputs": [
    {
     "data": {
      "text/plain": [
       "diff_hdc    0.127140\n",
       "diff_fwh   -0.032636\n",
       "diff_gir    0.001152\n",
       "diff_pph    0.004371\n",
       "diff_und    0.378983\n",
       "dtype: float64"
      ]
     },
     "execution_count": 12,
     "metadata": {},
     "output_type": "execute_result"
    }
   ],
   "source": [
    "dfi1.mean()"
   ]
  },
  {
   "cell_type": "markdown",
   "id": "4223ec74-d2c1-4444-b37d-dd095c153360",
   "metadata": {},
   "source": [
    "The table above is the mean of the differences of each variable between before and after (improvement or not). We can see that fairway hits is the only variable that did not improve after premium based on the simple difference in outcome approach."
   ]
  },
  {
   "cell_type": "markdown",
   "id": "b7276a7b-220f-4dd8-88ce-73306e16e359",
   "metadata": {},
   "source": [
    "## Data Visualization"
   ]
  },
  {
   "cell_type": "code",
   "execution_count": 13,
   "id": "01957d75-1b38-4ae5-9582-fe0aa2f68b18",
   "metadata": {},
   "outputs": [
    {
     "name": "stdout",
     "output_type": "stream",
     "text": [
      "percentage of population that improved in AVG to Par after premium: 56.266666666666666\n"
     ]
    }
   ],
   "source": [
    "#percentage of population that improved after premium\n",
    "print('percentage of population that improved in AVG to Par after premium:', (np.sum(dfi1.diff_hdc > 0)/len(dfi1))*100)"
   ]
  },
  {
   "cell_type": "code",
   "execution_count": 14,
   "id": "ef3f66b9-86d4-41d6-af78-113c46f96719",
   "metadata": {},
   "outputs": [
    {
     "data": {
      "image/png": "[encoded data removed]",
      "text/plain": [
       "<Figure size 432x288 with 1 Axes>"
      ]
     },
     "metadata": {},
     "output_type": "display_data"
    }
   ],
   "source": [
    "dfi['improve'] = (dfi1.diff_hdc > 0)\n",
    "\n",
    "sns.countplot(x = 'improve', data = dfi, palette = 'bright')\n",
    "plt.title('Improved and Not Improved Player Count')\n",
    "plt.show()"
   ]
  },
  {
   "cell_type": "code",
   "execution_count": 15,
   "id": "dedf77f1-b612-4d98-a15d-47bfea9456b4",
   "metadata": {},
   "outputs": [
    {
     "data": {
      "image/png": "[encoded data removed]",
      "text/plain": [
       "<Figure size 576x576 with 2 Axes>"
      ]
     },
     "metadata": {},
     "output_type": "display_data"
    }
   ],
   "source": [
    "plt.figure(figsize = (8,8))\n",
    "sns.heatmap(dfi1.corr(), annot = True, cmap = 'coolwarm')\n",
    "\n",
    "plt.title('Corrleation Matrix between Variables')\n",
    "plt.show()"
   ]
  },
  {
   "cell_type": "markdown",
   "id": "90d6fbbe-e2f7-4748-a248-5829393c01db",
   "metadata": {},
   "source": [
    "This is a correlatin matrix to see which variable is correlated the most with each other. We are only going to focus on the outcome (diff_hdc) and its covariates (others). We can see that GIR is the most correlated variable amongst all the variables with diff_hdc with 0.53, which makes sense because the more greens you hit the better your score will be and if you are regularly getting GIRs, you are probably an above average golfer as well. The second highest correlated variable is putts per hole at 0.42, which also makes sense because sinking putts will lead to a better score. The lowest correlated varaibles is fairway hit at .2, which also makes sense because hitting the fairway doesn't equate to finishing the hole with par since your approach shots will also determine your score. One thing that I want to highlight here is the correlation between diff_pph and diff_gir, these values are negatively correlated to each other and my reasoning behind that is due to the fact that people are hitting the greens from farther out (>150 yards) and as a result they are farther away from the pin, which requires them to making longer and more difficult putts."
   ]
  },
  {
   "cell_type": "markdown",
   "id": "1fecc56f-0004-46b1-9ec0-5931659cb5e8",
   "metadata": {},
   "source": [
    "## Linear Regression Analysis"
   ]
  },
  {
   "cell_type": "code",
   "execution_count": 16,
   "id": "079a0f14-b56e-46a7-a0b8-8d3787ec89a0",
   "metadata": {},
   "outputs": [],
   "source": [
    "scaler = StandardScaler()\n",
    "\n",
    "dfi1_s = pd.DataFrame(scaler.fit_transform(dfi1), columns = dfi1.columns)"
   ]
  },
  {
   "cell_type": "markdown",
   "id": "cf3737d6-f22e-4932-9fbb-3b2af1c57d0e",
   "metadata": {},
   "source": [
    "We will be using the statistical significance threshold (alpha) at 5% or 0.05 as 95% confidence level is the generally accepted confidence level to determine statistical significance. We want to see p-values of the regression lower than 0.05 for each variable so they can be determined to be statistically significant."
   ]
  },
  {
   "cell_type": "markdown",
   "id": "9651c387-33ed-4ecb-a05b-73eb301cce9f",
   "metadata": {},
   "source": [
    "### Total Sample"
   ]
  },
  {
   "cell_type": "code",
   "execution_count": 17,
   "id": "1c3fdb93-fc6b-4db8-8e03-5bddae963409",
   "metadata": {},
   "outputs": [
    {
     "name": "stdout",
     "output_type": "stream",
     "text": [
      "                            OLS Regression Results                            \n",
      "==============================================================================\n",
      "Dep. Variable:               diff_hdc   R-squared:                       0.546\n",
      "Model:                            OLS   Adj. R-squared:                  0.545\n",
      "Method:                 Least Squares   F-statistic:                     433.5\n",
      "Date:                Thu, 21 Dec 2023   Prob (F-statistic):          2.31e-307\n",
      "Time:                        09:43:00   Log-Likelihood:                -3841.1\n",
      "No. Observations:                3750   AIC:                             7692.\n",
      "Df Residuals:                    3745   BIC:                             7723.\n",
      "Df Model:                           4                                         \n",
      "Covariance Type:                  HC3                                         \n",
      "==============================================================================\n",
      "                 coef    std err          z      P>|z|      [0.025      0.975]\n",
      "------------------------------------------------------------------------------\n",
      "const       3.036e-18      0.011   2.75e-16      1.000      -0.022       0.022\n",
      "diff_fwh       0.0770      0.015      5.254      0.000       0.048       0.106\n",
      "diff_gir       0.5905      0.017     34.267      0.000       0.557       0.624\n",
      "diff_pph       0.5045      0.019     26.941      0.000       0.468       0.541\n",
      "diff_und       0.0136      0.016      0.865      0.387      -0.017       0.044\n",
      "==============================================================================\n",
      "Omnibus:                      411.155   Durbin-Watson:                   1.991\n",
      "Prob(Omnibus):                  0.000   Jarque-Bera (JB):             3646.194\n",
      "Skew:                           0.080   Prob(JB):                         0.00\n",
      "Kurtosis:                       7.828   Cond. No.                         1.78\n",
      "==============================================================================\n",
      "\n",
      "Notes:\n",
      "[1] Standard Errors are heteroscedasticity robust (HC3)\n"
     ]
    }
   ],
   "source": [
    "y = dfi1_s['diff_hdc']\n",
    "\n",
    "x = dfi1_s[['diff_fwh', 'diff_gir', 'diff_pph', 'diff_und']]\n",
    "\n",
    "x = sm.add_constant(x)\n",
    "\n",
    "mod = sm.OLS(y, x).fit(cov_type = 'HC3')\n",
    "print(mod.summary())"
   ]
  },
  {
   "cell_type": "markdown",
   "id": "b0aa5507-1b1e-469d-a2d4-27b56b7d5b2e",
   "metadata": {},
   "source": [
    "Above is the regression for the entire population. Based on the p-values (0.387) given in the regression, the up and down percentage statistic is only one that is not statistically significant enough to be associated with improvement in handicap (avg to par). To interpret the rest of the regression, we can see that GIR's coefficient is at 0.59, which means that every one unit increase (improvement) in GIR can be corrleated to 0.59 increase in handicap differential between before and after. Same thing goes with putts per hole where each unit of improvement (in this case decrease) in putts per hole can be associated to 0.50 improvement in average score to par."
   ]
  },
  {
   "cell_type": "code",
   "execution_count": 18,
   "id": "67e30b8f-cc3c-43f6-a070-ad6d3f4bc33a",
   "metadata": {},
   "outputs": [
    {
     "data": {
      "image/png": "[encoded data removed]",
      "text/plain": [
       "<Figure size 432x288 with 1 Axes>"
      ]
     },
     "metadata": {},
     "output_type": "display_data"
    }
   ],
   "source": [
    "variables = ['diff_fwh','diff_gir', 'diff_pph', 'diff_und']\n",
    "coefficients = mod.params.drop('const')\n",
    "std_errors = mod.bse.drop('const')\n",
    "\n",
    "plt.bar(variables, coefficients, yerr = std_errors, capsize = 10)\n",
    "plt.axhline(0, color = 'red')\n",
    "\n",
    "plt.ylabel('Impact on Avg to Par')\n",
    "plt.title('Impact on Avg to Par for each variable')\n",
    "\n",
    "plt.show()"
   ]
  },
  {
   "cell_type": "markdown",
   "id": "ccf7dad6-481c-48f2-ae36-5e3c8735ca82",
   "metadata": {},
   "source": [
    "### Improved Players Only"
   ]
  },
  {
   "cell_type": "code",
   "execution_count": 19,
   "id": "c4c952c5-b369-42d9-96e7-e79cb91ea045",
   "metadata": {},
   "outputs": [],
   "source": [
    "df_improved = dfi1[dfi1['diff_hdc'] > 0]"
   ]
  },
  {
   "cell_type": "code",
   "execution_count": 20,
   "id": "9eaadd59-0f6a-41cc-93bb-30e806c8192d",
   "metadata": {},
   "outputs": [
    {
     "name": "stdout",
     "output_type": "stream",
     "text": [
      "                            OLS Regression Results                            \n",
      "==============================================================================\n",
      "Dep. Variable:               diff_hdc   R-squared:                       0.382\n",
      "Model:                            OLS   Adj. R-squared:                  0.381\n",
      "Method:                 Least Squares   F-statistic:                     80.06\n",
      "Date:                Thu, 21 Dec 2023   Prob (F-statistic):           2.59e-63\n",
      "Time:                        09:43:05   Log-Likelihood:                -2485.8\n",
      "No. Observations:                2110   AIC:                             4982.\n",
      "Df Residuals:                    2105   BIC:                             5010.\n",
      "Df Model:                           4                                         \n",
      "Covariance Type:                  HC3                                         \n",
      "==============================================================================\n",
      "                 coef    std err          z      P>|z|      [0.025      0.975]\n",
      "------------------------------------------------------------------------------\n",
      "const       1.301e-17      0.017   7.57e-16      1.000      -0.034       0.034\n",
      "diff_fwh       0.0592      0.022      2.751      0.006       0.017       0.101\n",
      "diff_gir       0.5390      0.033     16.578      0.000       0.475       0.603\n",
      "diff_pph       0.4778      0.034     13.998      0.000       0.411       0.545\n",
      "diff_und       0.0150      0.026      0.584      0.559      -0.035       0.065\n",
      "==============================================================================\n",
      "Omnibus:                      909.953   Durbin-Watson:                   2.023\n",
      "Prob(Omnibus):                  0.000   Jarque-Bera (JB):             4979.583\n",
      "Skew:                           1.986   Prob(JB):                         0.00\n",
      "Kurtosis:                       9.392   Cond. No.                         1.89\n",
      "==============================================================================\n",
      "\n",
      "Notes:\n",
      "[1] Standard Errors are heteroscedasticity robust (HC3)\n"
     ]
    }
   ],
   "source": [
    "df_improved_s = pd.DataFrame(scaler.fit_transform(df_improved), columns = df_improved.columns)\n",
    "\n",
    "yi = df_improved_s['diff_hdc']\n",
    "\n",
    "xi = df_improved_s[['diff_fwh', 'diff_gir', 'diff_pph', 'diff_und']]\n",
    "\n",
    "xi = sm.add_constant(xi)\n",
    "\n",
    "mod1 = sm.OLS(yi, xi).fit(cov_type = 'HC3')\n",
    "print(mod1.summary())"
   ]
  },
  {
   "cell_type": "markdown",
   "id": "396d9921-df3d-4737-b191-ffbec3226109",
   "metadata": {},
   "source": [
    "Above is the regression with only the people who saw an improvement in average score to par. Similar to the regression with the entire sample, the p-values given in the regression, the up and down percentage statistic is only one that is not statistically significant enough to be associated with improvement in handicap (avg to par). To interpret the rest of the regression, we can see that GIR's coefficient is at 0.539, which means that every one unit increase in GIR can be corrleated to 0.539 increase in handicap differential between before and after. Same thing goes with putts per hole where each unit of improvement (in this case decrease) in putts per hole can be associated to 0.478 improvement in handicap differential."
   ]
  },
  {
   "cell_type": "code",
   "execution_count": 21,
   "id": "222ca505-4d78-43a6-bd6b-f1be4425f99e",
   "metadata": {},
   "outputs": [
    {
     "data": {
      "image/png": "[encoded data removed]",
      "text/plain": [
       "<Figure size 432x288 with 1 Axes>"
      ]
     },
     "metadata": {},
     "output_type": "display_data"
    }
   ],
   "source": [
    "variables1 = ['diff_fwh','diff_gir', 'diff_pph', 'diff_und']\n",
    "coefficients1 = mod1.params.drop('const')\n",
    "std_errors1 = mod1.bse.drop('const')\n",
    "\n",
    "plt.bar(variables1, coefficients1, yerr = std_errors1, capsize = 10)\n",
    "plt.axhline(0, color = 'red')\n",
    "\n",
    "plt.ylabel('Impact on Avg to Par')\n",
    "plt.title('Impact on Avg to Par for each variable (only improved players)')\n",
    "\n",
    "plt.show()"
   ]
  },
  {
   "cell_type": "markdown",
   "id": "88a98ce2-29cc-4251-bb15-b224f2baf498",
   "metadata": {},
   "source": [
    "### Not Improved Players Only"
   ]
  },
  {
   "cell_type": "code",
   "execution_count": 22,
   "id": "9f2609ef-29f1-4b49-98a8-56ccaf339b69",
   "metadata": {},
   "outputs": [],
   "source": [
    "#filter a new df with only NOT improved players\n",
    "df_notimproved = dfi1[dfi1['diff_hdc'] <= 0]"
   ]
  },
  {
   "cell_type": "code",
   "execution_count": 23,
   "id": "5f885e3f-36c7-4ace-a903-5c7690867858",
   "metadata": {},
   "outputs": [
    {
     "name": "stdout",
     "output_type": "stream",
     "text": [
      "                            OLS Regression Results                            \n",
      "==============================================================================\n",
      "Dep. Variable:               diff_hdc   R-squared:                       0.380\n",
      "Model:                            OLS   Adj. R-squared:                  0.379\n",
      "Method:                 Least Squares   F-statistic:                     78.55\n",
      "Date:                Thu, 21 Dec 2023   Prob (F-statistic):           5.17e-61\n",
      "Time:                        09:43:08   Log-Likelihood:                -1934.6\n",
      "No. Observations:                1640   AIC:                             3879.\n",
      "Df Residuals:                    1635   BIC:                             3906.\n",
      "Df Model:                           4                                         \n",
      "Covariance Type:                  HC3                                         \n",
      "==============================================================================\n",
      "                 coef    std err          z      P>|z|      [0.025      0.975]\n",
      "------------------------------------------------------------------------------\n",
      "const       1.284e-16      0.020   6.57e-15      1.000      -0.038       0.038\n",
      "diff_fwh       0.1106      0.028      3.943      0.000       0.056       0.166\n",
      "diff_gir       0.5457      0.032     17.049      0.000       0.483       0.608\n",
      "diff_pph       0.4356      0.035     12.349      0.000       0.366       0.505\n",
      "diff_und       0.0155      0.024      0.648      0.517      -0.031       0.062\n",
      "==============================================================================\n",
      "Omnibus:                      554.306   Durbin-Watson:                   1.996\n",
      "Prob(Omnibus):                  0.000   Jarque-Bera (JB):             2152.328\n",
      "Skew:                          -1.611   Prob(JB):                         0.00\n",
      "Kurtosis:                       7.595   Cond. No.                         1.77\n",
      "==============================================================================\n",
      "\n",
      "Notes:\n",
      "[1] Standard Errors are heteroscedasticity robust (HC3)\n"
     ]
    }
   ],
   "source": [
    "#do regression on only the people who did NOT improved\n",
    "df_notimproved_s = pd.DataFrame(scaler.fit_transform(df_notimproved), columns = df_notimproved.columns)\n",
    "\n",
    "yii = df_notimproved_s['diff_hdc']\n",
    "\n",
    "xii = df_notimproved_s[['diff_fwh', 'diff_gir', 'diff_pph', 'diff_und']]\n",
    "\n",
    "xii = sm.add_constant(xii)\n",
    "\n",
    "mod2 = sm.OLS(yii, xii).fit(cov_type = 'HC3')\n",
    "print(mod2.summary())"
   ]
  },
  {
   "cell_type": "markdown",
   "id": "3a8706f7-fac0-4c5b-9699-237a1d29b051",
   "metadata": {},
   "source": [
    "Above is the regression with only the people who saw an improvement in average score to par. Similar to the regression with the entire sample, the p-values given in the regression, the up and down percentage statistic is only one that is not statistically significant enough to be associated with improvement in handicap (avg to par). To interpret the rest of the regression, we can see that GIR's coefficient is at 0.546, which means that every one unit increase in GIR can be corrleated to 0.546 increase in handicap differential between before and after. Same thing goes with putts per hole where each unit of improvement (in this case decrease) in putts per hole can be associated to 0.436 improvement in handicap differential. This time, improve in fairway hits has a higher coefficient compared to the other two regressions at 0.111."
   ]
  },
  {
   "cell_type": "code",
   "execution_count": 24,
   "id": "fd30d3d4-c381-4f4d-a58e-31845eb8dc61",
   "metadata": {},
   "outputs": [
    {
     "data": {
      "image/png": "[encoded data removed]",
      "text/plain": [
       "<Figure size 432x288 with 1 Axes>"
      ]
     },
     "metadata": {},
     "output_type": "display_data"
    }
   ],
   "source": [
    "variables2 = ['diff_fwh','diff_gir', 'diff_pph', 'diff_und']\n",
    "coefficients2 = mod2.params.drop('const')\n",
    "std_errors2 = mod2.bse.drop('const')\n",
    "\n",
    "plt.bar(variables2, coefficients2, yerr = std_errors2, capsize = 10)\n",
    "plt.axhline(0, color = 'red')\n",
    "\n",
    "plt.ylabel('Impact on Avg to Par')\n",
    "plt.title('Impact on Avg to Par for each variable (only improved players)')\n",
    "\n",
    "plt.show()"
   ]
  },
  {
   "cell_type": "markdown",
   "id": "05b84339-befd-452d-ba27-0f9ce15f9894",
   "metadata": {},
   "source": [
    "## Linear Regression Results"
   ]
  },
  {
   "cell_type": "code",
   "execution_count": 25,
   "id": "1d7ec4e5-027f-43a8-bdd1-fbe86932e1e7",
   "metadata": {},
   "outputs": [
    {
     "data": {
      "text/plain": [
       "diff_fwh    0.082262\n",
       "diff_gir    0.558408\n",
       "diff_pph    0.472659\n",
       "diff_und    0.014685\n",
       "dtype: float64"
      ]
     },
     "execution_count": 25,
     "metadata": {},
     "output_type": "execute_result"
    }
   ],
   "source": [
    "df_coef = pd.DataFrame()\n",
    "\n",
    "df_coef['total samp'] = mod.params.drop('const')\n",
    "df_coef['improved'] = mod1.params.drop('const')\n",
    "df_coef['not improved'] = mod2.params.drop('const')\n",
    "\n",
    "df_coef = df_coef.transpose()\n",
    "\n",
    "df_coef.mean()"
   ]
  },
  {
   "cell_type": "code",
   "execution_count": 26,
   "id": "056e1b3b-72b1-4a26-a287-1da085890b3d",
   "metadata": {},
   "outputs": [
    {
     "data": {
      "image/png": "[encoded data removed]",
      "text/plain": [
       "<Figure size 864x1080 with 3 Axes>"
      ]
     },
     "metadata": {},
     "output_type": "display_data"
    }
   ],
   "source": [
    "fig, axes = plt.subplots(3, 1, figsize = (12,15))\n",
    "\n",
    "for ax in axes:\n",
    "    axes[0].bar(variables, coefficients, yerr = std_errors, capsize = 10, color = 'red')\n",
    "    axes[1].bar(variables1, coefficients1, yerr = std_errors1, capsize = 10, color = 'blue')\n",
    "    axes[2].bar(variables2, coefficients2, yerr = std_errors2, capsize = 10, color = 'green')\n",
    "    ax.axhline(0, color = 'black', linestyle = '--')\n",
    "    ax.set_ylabel('Impact on Avg to Par')\n",
    "    axes[0].set_title('Impact on Avg to Par for Each Variable (Total Sample)')\n",
    "    axes[1].set_title('Impact on Avg to Par for Each Variable (Improved Sample Only)')\n",
    "    axes[2].set_title('Impact on Avg to Par for Each Variable (Not Improved Sample Only)')\n",
    "\n",
    "plt.show()  "
   ]
  },
  {
   "cell_type": "markdown",
   "id": "2d76e879-e77f-4ddd-ab7d-213c6844a448",
   "metadata": {},
   "source": [
    "In conclusion, GIR, PPH, and FWH are the three statistics that are associated with improvement in score to par with statistical significance. GIR has the highest impact with mean of 0.5584 across all three regressions and followed by PPH with mean of 0.4727 across all three regressions. The up and down statistic does not have statitiscally significant impact on improving score to par. The results are showing that GIR and PPH will be the most important statistic whether you improved or not from the premium feature, but we can say with 95% confidence that GIR and PPH will improve a player's avg score to par by 0.558 and 0.473 on average, respectively. Although the statistic mentioned above are associated with improving a player's handicap differential, we cannot assume causal relation as there is no control group to use as a baseline to measure the treatment, which would be the premium subscription. We can do further analysis to measure the treatment effect using various methods if we have a control group to use as a baseline."
   ]
  }
 ],
 "metadata": {
  "kernelspec": {
   "display_name": "Python 3 (ipykernel)",
   "language": "python",
   "name": "python3"
  },
  "language_info": {
   "codemirror_mode": {
    "name": "ipython",
    "version": 3
   },
   "file_extension": ".py",
   "mimetype": "text/x-python",
   "name": "python",
   "nbconvert_exporter": "python",
   "pygments_lexer": "ipython3",
   "version": "3.9.12"
  }
 },
 "nbformat": 4,
 "nbformat_minor": 5
}
